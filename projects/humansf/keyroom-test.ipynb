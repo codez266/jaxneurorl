{
 "cells": [
  {
   "cell_type": "code",
   "execution_count": 1,
   "id": "80aac0d9-5474-4e74-81dd-fc0bad9a3089",
   "metadata": {},
   "outputs": [],
   "source": [
    "%load_ext autoreload\n",
    "%autoreload 2\n"
   ]
  },
  {
   "cell_type": "code",
   "execution_count": 31,
   "id": "9fc0a841-cfea-4619-a11f-f2b6c9134a2e",
   "metadata": {},
   "outputs": [],
   "source": [
    "import keyroom\n",
    "import jax\n",
    "import jax.numpy as jnp\n",
    "import json\n",
    "\n",
    "# from gymnax.visualize import Visualizer\n",
    "import visualizer\n",
    "from xminigrid.rendering.rgb_render import render\n",
    "import numpy as np\n",
    "from IPython.display import Image\n",
    "import minigrid_common"
   ]
  },
  {
   "cell_type": "code",
   "execution_count": 3,
   "id": "275c0b80-0810-49fb-b722-d831f17db7a3",
   "metadata": {},
   "outputs": [
    {
     "ename": "NameError",
     "evalue": "name 'json' is not defined",
     "output_type": "error",
     "traceback": [
      "\u001b[0;31m---------------------------------------------------------------------------\u001b[0m",
      "\u001b[0;31mNameError\u001b[0m                                 Traceback (most recent call last)",
      "Cell \u001b[0;32mIn[3], line 3\u001b[0m\n\u001b[1;32m      1\u001b[0m \u001b[38;5;66;03m# Open the file and load the JSON data\u001b[39;00m\n\u001b[1;32m      2\u001b[0m \u001b[38;5;28;01mwith\u001b[39;00m \u001b[38;5;28mopen\u001b[39m(\u001b[38;5;124m\"\u001b[39m\u001b[38;5;124mmaze_pairs.json\u001b[39m\u001b[38;5;124m\"\u001b[39m, \u001b[38;5;124m\"\u001b[39m\u001b[38;5;124mr\u001b[39m\u001b[38;5;124m\"\u001b[39m) \u001b[38;5;28;01mas\u001b[39;00m file:\n\u001b[0;32m----> 3\u001b[0m     maze_config \u001b[38;5;241m=\u001b[39m \u001b[43mjson\u001b[49m\u001b[38;5;241m.\u001b[39mload(file)[\u001b[38;5;241m0\u001b[39m]\n",
      "\u001b[0;31mNameError\u001b[0m: name 'json' is not defined"
     ]
    }
   ],
   "source": [
    "# Open the file and load the JSON data\n",
    "with open(\"maze_pairs.json\", \"r\") as file:\n",
    "    maze_config = json.load(file)[0]"
   ]
  },
  {
   "cell_type": "code",
   "execution_count": 4,
   "id": "a56af713-d7e3-4ebc-9b9d-8cf7110f3864",
   "metadata": {},
   "outputs": [
    {
     "name": "stdout",
     "output_type": "stream",
     "text": [
      "{'keys': [['key', 'grey'],\n",
      "          ['key', 'red'],\n",
      "          ['key', 'purple'],\n",
      "          ['key', 'yellow']],\n",
      " 'pairs': [[['box', 'blue'], ['ball', 'blue']],\n",
      "           [['box', 'purple'], ['box', 'green']],\n",
      "           [['ball', 'green'], ['box', 'yellow']],\n",
      "           [['key', 'blue'], ['key', 'green']]]}\n"
     ]
    },
    {
     "data": {
      "text/plain": [
       "KeyRoomEnvParams(height=19, width=19, view_size=7, render_mode='rgb_array', random_door_loc=False, training=True)"
      ]
     },
     "execution_count": 4,
     "metadata": {},
     "output_type": "execute_result"
    }
   ],
   "source": [
    "from pprint import pprint\n",
    "\n",
    "\n",
    "pprint(maze_config)\n",
    "\n",
    "env = keyroom.KeyRoom(\n",
    "    maze_config=keyroom.shorten_maze_config(maze_config, 1))\n",
    "env_params = env.default_params()\n",
    "env_params"
   ]
  },
  {
   "cell_type": "code",
   "execution_count": 49,
   "id": "137243b2-7ad4-404a-b742-e5e5efac7ca1",
   "metadata": {},
   "outputs": [
    {
     "data": {
      "image/png": "[encoded data removed]",
      "text/plain": [
       "<Figure size 640x480 with 1 Axes>"
      ]
     },
     "metadata": {},
     "output_type": "display_data"
    },
    {
     "data": {
      "text/plain": [
       "Observation(image=(7, 7, 34), task_w=(4,), state_features=(4,), has_occurred=(4,), pocket=(29,))"
      ]
     },
     "execution_count": 49,
     "metadata": {},
     "output_type": "execute_result"
    }
   ],
   "source": [
    "rng = jax.random.PRNGKey(2)\n",
    "rng, rng_ = jax.random.split(rng)\n",
    "timestep = env.reset(rng_, env_params)\n",
    "\n",
    "# get image of full state\n",
    "# state_image = env.render(env_params, timestep)\n",
    "# visualizer.display_image(state_image)\n",
    "\n",
    "# get image of what agent observes (theirs is symbolic)\n",
    "obs_image = keyroom.render_room(timestep.state)\n",
    "visualizer.display_image(obs_image)\n",
    "\n",
    "jax.tree_map(lambda x:x.shape, timestep.observation)"
   ]
  },
  {
   "cell_type": "code",
   "execution_count": 24,
   "id": "52571f1e-7e3d-434e-bffe-b48220b387f6",
   "metadata": {},
   "outputs": [
    {
     "name": "stdout",
     "output_type": "stream",
     "text": [
      "26 1.0\n"
     ]
    }
   ],
   "source": [
    "rng = jax.random.PRNGKey(6)\n",
    "rng, rng_ = jax.random.split(rng)\n",
    "env_params = env_params.replace(training=False)\n",
    "timestep = env.reset(rng_, env_params)\n",
    "t_limit = 40\n",
    "\n",
    "state_seq = [env.render(env_params, timestep)]\n",
    "obs_seq = [keyroom.render_room(timestep)]\n",
    "reward_seq = [timestep.reward]\n",
    "\n",
    "t_counter = 0\n",
    "while True:\n",
    "    rng, rng_act, rng_step = jax.random.split(rng, 3)\n",
    "    action = jax.random.randint(rng_act, (), 0, env.num_actions(env_params))\n",
    "\n",
    "    timestep = env.step(rng_step, timestep, action, env_params)\n",
    "    state_seq.append(env.render(env_params, timestep))\n",
    "    obs_seq.append(keyroom.render_room(timestep))\n",
    "    reward_seq.append(timestep.reward)\n",
    "\n",
    "    # obs_image = keyroom.render_room(timestep)\n",
    "    # visualizer.display_image(obs_image)\n",
    "\n",
    "    t_counter += 1\n",
    "    if timestep.last() or t_counter >= t_limit:\n",
    "        break\n",
    "\n",
    "cum_rewards = jnp.cumsum(jnp.array(reward_seq))\n",
    "print(t_counter, sum(reward_seq))"
   ]
  },
  {
   "cell_type": "code",
   "execution_count": 28,
   "id": "9232dc6f-3b67-42df-81a4-6b50fadbfe0d",
   "metadata": {},
   "outputs": [
    {
     "name": "stderr",
     "output_type": "stream",
     "text": [
      "MovieWriter ffmpeg unavailable; using Pillow instead.\n"
     ]
    },
    {
     "data": {
      "text/html": [
       "<img src=\"../../analysis_media/anim.gif\"/>"
      ],
      "text/plain": [
       "<IPython.core.display.Image object>"
      ]
     },
     "execution_count": 28,
     "metadata": {},
     "output_type": "execute_result"
    },
    {
     "data": {
      "image/png": "[encoded data removed]",
      "text/plain": [
       "<Figure size 500x500 with 1 Axes>"
      ]
     },
     "metadata": {},
     "output_type": "display_data"
    }
   ],
   "source": [
    "vis = visualizer.Visualizer(env, env_params, obs_seq, cum_rewards)\n",
    "vis.animate(f\"../../analysis_media/anim.gif\")\n",
    "Image(url=f\"../../analysis_media/anim.gif\")  "
   ]
  },
  {
   "cell_type": "code",
   "execution_count": null,
   "id": "f72e6058-0e60-4fb7-a9e8-4a5d24dd2a18",
   "metadata": {},
   "outputs": [],
   "source": []
  }
 ],
 "metadata": {
  "kernelspec": {
   "display_name": "Python 3 (ipykernel)",
   "language": "python",
   "name": "python3"
  },
  "language_info": {
   "codemirror_mode": {
    "name": "ipython",
    "version": 3
   },
   "file_extension": ".py",
   "mimetype": "text/x-python",
   "name": "python",
   "nbconvert_exporter": "python",
   "pygments_lexer": "ipython3",
   "version": "3.10.0"
  }
 },
 "nbformat": 4,
 "nbformat_minor": 5
}
