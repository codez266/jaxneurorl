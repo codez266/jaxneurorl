{
 "cells": [
  {
   "cell_type": "code",
   "execution_count": 1,
   "id": "e3e798c0-eb0c-4512-95e4-9f54068f9a8a",
   "metadata": {},
   "outputs": [],
   "source": [
    "%load_ext autoreload\n",
    "%autoreload 2"
   ]
  },
  {
   "cell_type": "code",
   "execution_count": 2,
   "id": "21a07b38-c10e-49a3-955d-1e68ad7cc6f7",
   "metadata": {},
   "outputs": [
    {
     "name": "stdout",
     "output_type": "stream",
     "text": [
      "at directory: /n/home13/wcarvalho/results/jaxrl_results\n",
      "changing to root directory\n",
      "at directory: /n/home13/wcarvalho/projects/marl\n"
     ]
    }
   ],
   "source": [
    "import os\n",
    "import sys\n",
    "print(\"at directory:\", os.getcwd())\n",
    "print(\"changing to root directory\")\n",
    "os.chdir(\"/n/home13/wcarvalho/projects/marl\")\n",
    "print(\"at directory:\", os.getcwd())"
   ]
  },
  {
   "cell_type": "code",
   "execution_count": 3,
   "id": "ffeb054f-cbbb-4cde-8c11-d8266f4a625f",
   "metadata": {},
   "outputs": [
    {
     "name": "stderr",
     "output_type": "stream",
     "text": [
      "/n/home13/wcarvalho/.conda/envs/jaxneurorl/lib/python3.10/site-packages/tqdm/auto.py:21: TqdmWarning: IProgress not found. Please update jupyter and ipywidgets. See https://ipywidgets.readthedocs.io/en/stable/user_install.html\n",
      "  from .autonotebook import tqdm as notebook_tqdm\n",
      "/n/home13/wcarvalho/.local/lib/python3.10/site-packages/distrax/_src/utils/conversion.py:145: UserWarning: Explicitly requested dtype <class 'jax.numpy.float64'> requested in astype is not available, and will be truncated to dtype float32. To enable more dtypes, set the jax_enable_x64 configuration option or the JAX_ENABLE_X64 shell environment variable. See https://github.com/google/jax#current-gotchas for more.\n",
      "  return x.astype(jnp.float_)\n"
     ]
    }
   ],
   "source": [
    "import jax\n",
    "import jax.numpy as jnp\n",
    "import functools\n",
    "import pandas as pd\n",
    "import numpy as np\n",
    "from glob import glob\n",
    "import matplotlib.pyplot as plt\n",
    "\n",
    "from projects.humansf import housemaze_analysis\n",
    "from projects.humansf import housemaze_trainer as trainer_housemaze\n",
    "from projects.humansf import housemaze_experiments\n",
    "from projects.humansf import networks\n",
    "from housemaze.human_dyna import mazes\n",
    "\n",
    "from housemaze import renderer\n",
    "from housemaze import utils\n",
    "from housemaze.human_dyna import env as maze\n",
    "from library import launcher\n",
    "from agents import value_based_basics as vbb\n"
   ]
  },
  {
   "cell_type": "markdown",
   "id": "6226fab3-bf26-4d62-9272-e60835a0d36b",
   "metadata": {},
   "source": [
    "# Setup Environment"
   ]
  },
  {
   "cell_type": "code",
   "execution_count": 4,
   "id": "5e541ee3-cf94-4abd-bcf7-f620f1a71c00",
   "metadata": {},
   "outputs": [
    {
     "name": "stdout",
     "output_type": "stream",
     "text": [
      "No file specified for image dict.\n",
      "Using: /n/home13/wcarvalho/projects/marl/libraries/housemaze/housemaze/image_data.pkl\n",
      "No file specified for groups.\n",
      "Using: /n/home13/wcarvalho/projects/marl/libraries/housemaze/housemaze/human_dyna/list_of_groups.npy\n"
     ]
    }
   ],
   "source": [
    "image_dict = utils.load_image_dict()\n",
    "\n",
    "def housemaze_render_fn(state: maze.EnvState):\n",
    "    return renderer.create_image_from_grid(\n",
    "        state.grid,\n",
    "        state.agent_pos,\n",
    "        state.agent_dir,\n",
    "        image_dict)\n",
    "\n",
    "exp = 'maze5_two_paths'\n",
    "exp_fn = getattr(housemaze_experiments, exp, None)\n",
    "_, default_env_params, task_objects = exp_fn({})\n"
   ]
  },
  {
   "cell_type": "code",
   "execution_count": 5,
   "id": "66265bd5-baf4-49a2-b686-741b37e308ec",
   "metadata": {},
   "outputs": [],
   "source": [
    "task_runner = maze.TaskRunner(task_objects=task_objects)\n",
    "env = maze.HouseMaze(\n",
    "    task_runner=task_runner,\n",
    "    num_categories=200,\n",
    ")\n",
    "env = utils.AutoResetWrapper(env)"
   ]
  },
  {
   "cell_type": "code",
   "execution_count": 6,
   "id": "7d2282dc-02f0-4f1d-aef7-83b60a28cf6c",
   "metadata": {},
   "outputs": [
    {
     "name": "stdout",
     "output_type": "stream",
     "text": [
      "[26] [40]\n",
      "[[1 0]] [[0 1]]\n"
     ]
    }
   ],
   "source": [
    "parallel_envs = 25\n",
    "\n",
    "train_objects = default_env_params.reset_params.train_objects[0, :2]\n",
    "test_objects = default_env_params.reset_params.test_objects[0, :2]\n",
    "\n",
    "train_ws = jnp.array([task_runner.task_vector(o) for o in train_objects])\n",
    "test_ws = jnp.array([task_runner.task_vector(o) for o in test_objects])\n",
    "\n",
    "print(train_objects, test_objects)\n",
    "print(train_ws, test_ws)\n"
   ]
  },
  {
   "cell_type": "code",
   "execution_count": 7,
   "id": "6d6f72f4-7ffa-4aee-8e0e-f9b408d9dcde",
   "metadata": {},
   "outputs": [
    {
     "name": "stdout",
     "output_type": "stream",
     "text": [
      "No file specified for groups.\n",
      "Using: /n/home13/wcarvalho/projects/marl/libraries/housemaze/housemaze/human_dyna/list_of_groups.npy\n"
     ]
    }
   ],
   "source": [
    "char2key, group_set, task_objects = housemaze_experiments.get_group_set(1)"
   ]
  },
  {
   "cell_type": "code",
   "execution_count": 8,
   "id": "9cd41177-e181-4e23-a90f-4e74a76ed0d0",
   "metadata": {},
   "outputs": [
    {
     "data": {
      "image/png": "[encoded data removed]",
      "text/plain": [
       "<Figure size 500x500 with 1 Axes>"
      ]
     },
     "metadata": {},
     "output_type": "display_data"
    }
   ],
   "source": [
    "def get_params(maze_str):\n",
    "    return mazes.get_maze_reset_params(\n",
    "        group_set=group_set,\n",
    "        char2key=char2key,\n",
    "        maze_str=maze_str,\n",
    "        randomize_agent=False,\n",
    "        make_env_params=True,\n",
    ")\n",
    "\n",
    "def render_env(env_params):\n",
    "    map_init = jax.tree_map(lambda x:x[0], env_params.reset_params.map_init)\n",
    "    grid = np.asarray(map_init.grid)    \n",
    "    img = renderer.create_image_from_grid(\n",
    "        map_init.grid,\n",
    "        map_init.agent_pos,\n",
    "        map_init.agent_dir,\n",
    "        image_dict)\n",
    "    fig, ax = plt.subplots(1, figsize=(5, 5))\n",
    "    ax.imshow(img)\n",
    "    # Remove the axis ticks and labels\n",
    "    ax.set_xticks([])\n",
    "    ax.set_yticks([])\n",
    "\n",
    "default_params = get_params(mazes.maze5)\n",
    "render_env(default_params)"
   ]
  },
  {
   "cell_type": "markdown",
   "id": "5286294c-9a15-4f11-8de0-b7584636229e",
   "metadata": {
    "tags": []
   },
   "source": [
    "# Load agents"
   ]
  },
  {
   "cell_type": "code",
   "execution_count": 9,
   "id": "646a0481-f44a-4b24-a03d-ac62996b69c2",
   "metadata": {},
   "outputs": [],
   "source": [
    "results = dict()\n",
    "df = None"
   ]
  },
  {
   "cell_type": "code",
   "execution_count": 10,
   "id": "f2131da2-a950-4aba-b057-4158b5209801",
   "metadata": {},
   "outputs": [],
   "source": [
    "success_fn = jax.jit(jax.vmap(housemaze_analysis.success))\n",
    "def add_model_results(key: str, algorithm, env_params, train: bool = False, df=None, reset=False):\n",
    "    if reset:\n",
    "        results.clear()\n",
    "    if key in results: return df\n",
    "    eval_fn = algorithm.eval_fn\n",
    "    rng = jax.random.PRNGKey(42)\n",
    "    if train:\n",
    "        objs = get_params(mazes.maze3).reset_params.train_objects\n",
    "    else:\n",
    "        objs = get_params(mazes.maze3).reset_params.test_objects\n",
    "\n",
    "    for o in objs:\n",
    "        task_w = task_runner.task_vector(o)\n",
    "        trajs = eval_fn(rng, env_params, task_w)\n",
    "        trajs = jax.tree_map(lambda x: x[0], trajs) # only had 1 task\n",
    "        total_rewards, success_rates = success_fn(trajs.timestep)\n",
    "        \n",
    "        results[key] = trajs\n",
    "        lengths = jnp.argmax(trajs.timestep.last(), 1)+1\n",
    "        ntraj = len(total_rewards)\n",
    "        metrics = dict(\n",
    "            algo=[algorithm.name]*ntraj,\n",
    "            key=[key]*ntraj,\n",
    "            train=[train]*ntraj,\n",
    "            sr=success_rates,\n",
    "            tr=total_rewards,\n",
    "            pl=lengths,\n",
    "        )\n",
    "\n",
    "        new_df = pd.DataFrame(metrics)\n",
    "        if reset:\n",
    "            return new_df\n",
    "        if df is not None :\n",
    "            df = pd.concat([df, new_df], ignore_index=True)\n",
    "        else:\n",
    "            df = new_df\n",
    "    return df\n",
    "\n",
    "def add_search_results(key: str, algo, env_params, df, budget=1e8, train: bool = False, ntraj = 100, force: bool = False):\n",
    "    if key in results and not force: return df\n",
    "\n",
    "    if train:\n",
    "        objs = env_params.reset_params.train_objects\n",
    "    else:\n",
    "        objs = env_params.reset_params.test_objects\n",
    "    \n",
    "    map_init = jax.tree_map(lambda x:x[0], env_params.reset_params.map_init)\n",
    "    grid = np.asarray(map_init.grid)\n",
    "    agent_pos = tuple(int(o) for o in map_init.agent_pos)\n",
    "    trajectories = []\n",
    "    for o in objs:\n",
    "        goal = np.array([o])\n",
    "        success_rates = []\n",
    "        total_rewards = []\n",
    "        path_lengths = []\n",
    "        for idx in range(ntraj):\n",
    "            path, iterations = algo(grid, agent_pos, goal, key=jax.random.PRNGKey(idx), budget=budget)\n",
    "            trajectories.append(path)\n",
    "            if path is None:\n",
    "                success_rates.append(0)\n",
    "                total_rewards.append(0)\n",
    "                path_lengths.append(np.inf)\n",
    "            else:\n",
    "                success_rates.append(1)\n",
    "                total_rewards.append(1)\n",
    "                path_lengths.append(len(path))\n",
    "        \n",
    "        results[key] = trajectories\n",
    "        metrics = dict(\n",
    "            algo=['bfs']*ntraj,\n",
    "            key=[key]*ntraj,\n",
    "            train=[train]*ntraj,\n",
    "            sr=success_rates,\n",
    "            tr=total_rewards,\n",
    "            pl=path_lengths,\n",
    "        )\n",
    "\n",
    "        new_df = pd.DataFrame(metrics)\n",
    "        return pd.concat([df, new_df], ignore_index=True)\n"
   ]
  },
  {
   "cell_type": "code",
   "execution_count": 11,
   "id": "c0e444fd-938a-43e1-90bc-9cdbaf643875",
   "metadata": {},
   "outputs": [],
   "source": [
    "def test(algorithm, visualize: bool = False):\n",
    "    maze3_params = get_params(mazes.maze3)\n",
    "    def collect(example_w):\n",
    "        rng = jax.random.PRNGKey(41)\n",
    "        trajs = algorithm.eval_fn(rng, maze3_params, example_w)\n",
    "        trajs = jax.tree_map(lambda x: x[0], trajs) # only had 1 task\n",
    "        \n",
    "        return trajs, success_fn(trajs.timestep)\n",
    "    example_w = task_runner.task_vector(maze3_params.reset_params.train_objects[0])\n",
    "    tasjs, (total_rewards, success_rates) = collect(example_w)\n",
    "    # print('Train average total rewards =', total_rewards.mean())\n",
    "    print('Train average success rate =', success_rates.mean())\n",
    "    \n",
    "    example_w = task_runner.task_vector(maze3_params.reset_params.test_objects[0])\n",
    "    tasjs, (total_rewards, success_rates) = collect(example_w)\n",
    "    # print('Test average total rewards =', total_rewards.mean())\n",
    "    print('Test average success rate =', success_rates.mean())\n",
    "    \n",
    "    if visualize:\n",
    "        housemaze_analysis.plot_timesteps(\n",
    "          jax.tree_map(lambda x:x[0], trajs),\n",
    "          render_fn=housemaze_render_fn,\n",
    "          get_task_name=functools.partial(trainer_housemaze.task_from_variables, keys=image_dict['keys']),\n",
    "          extract_task_info=trainer_housemaze.extract_task_info,\n",
    "          max_len=50)"
   ]
  },
  {
   "cell_type": "markdown",
   "id": "2a3944b0-d926-46a0-b6d8-63ecf248a320",
   "metadata": {
    "tags": []
   },
   "source": [
    "### Q-learning"
   ]
  },
  {
   "cell_type": "code",
   "execution_count": 14,
   "id": "f5d78748-1f5f-4081-8cad-32ced175219f",
   "metadata": {},
   "outputs": [
    {
     "name": "stdout",
     "output_type": "stream",
     "text": [
      "'/n/home13/wcarvalho/results/jaxrl_results/housemaze_trainer/ql/save_data/ql-16/SEED=1,exp=maze5_two_paths/qlearning.safetensors'\n",
      "'/n/home13/wcarvalho/results/jaxrl_results/housemaze_trainer/ql/save_data/ql-16/SEED=2,exp=maze5_two_paths/qlearning.safetensors'\n",
      "'/n/home13/wcarvalho/results/jaxrl_results/housemaze_trainer/ql/save_data/ql-16/SEED=3,exp=maze5_two_paths/qlearning.safetensors'\n",
      "'/n/home13/wcarvalho/results/jaxrl_results/housemaze_trainer/ql/save_data/ql-17/SEED=1,exp=maze5_two_paths/qlearning.safetensors'\n",
      "'/n/home13/wcarvalho/results/jaxrl_results/housemaze_trainer/ql/save_data/ql-17/SEED=2,exp=maze5_two_paths/qlearning.safetensors'\n",
      "'/n/home13/wcarvalho/results/jaxrl_results/housemaze_trainer/ql/save_data/ql-17/SEED=3,exp=maze5_two_paths/qlearning.safetensors'\n"
     ]
    }
   ],
   "source": [
    "# REAL RUNS\n",
    "!ls /n/home13/wcarvalho/results/jaxrl_results/housemaze_trainer/ql/save_data/*/*/qlearning.safetensors"
   ]
  },
  {
   "cell_type": "code",
   "execution_count": 13,
   "id": "57995b98-79f2-4bc0-8220-55929c5be01d",
   "metadata": {},
   "outputs": [
    {
     "ename": "FileNotFoundError",
     "evalue": "No such file or directory: \"/n/home13/wcarvalho/results/jaxrl_results/housemaze_trainer/ql/save_data/ql-18/exp=maze5_two_paths/qlearning.safetensors\"",
     "output_type": "error",
     "traceback": [
      "\u001b[0;31m---------------------------------------------------------------------------\u001b[0m",
      "\u001b[0;31mFileNotFoundError\u001b[0m                         Traceback (most recent call last)",
      "Cell \u001b[0;32mIn[13], line 1\u001b[0m\n\u001b[0;32m----> 1\u001b[0m qlearning \u001b[38;5;241m=\u001b[39m \u001b[43mhousemaze_analysis\u001b[49m\u001b[38;5;241;43m.\u001b[39;49m\u001b[43mload_algorithm\u001b[49m\u001b[43m(\u001b[49m\n\u001b[1;32m      2\u001b[0m \u001b[43m    \u001b[49m\u001b[43mpath\u001b[49m\u001b[38;5;241;43m=\u001b[39;49m\u001b[38;5;124;43m'\u001b[39;49m\u001b[38;5;124;43m/n/home13/wcarvalho/results/jaxrl_results/housemaze_trainer/ql/save_data/ql-18/exp=maze5_two_paths\u001b[39;49m\u001b[38;5;124;43m'\u001b[39;49m\u001b[43m,\u001b[49m\n\u001b[1;32m      3\u001b[0m \u001b[43m    \u001b[49m\u001b[43mname\u001b[49m\u001b[38;5;241;43m=\u001b[39;49m\u001b[38;5;124;43m'\u001b[39;49m\u001b[38;5;124;43mqlearning\u001b[39;49m\u001b[38;5;124;43m'\u001b[39;49m\u001b[43m,\u001b[49m\n\u001b[1;32m      4\u001b[0m \u001b[43m    \u001b[49m\u001b[43mmake_fns\u001b[49m\u001b[38;5;241;43m=\u001b[39;49m\u001b[43mtrainer_housemaze\u001b[49m\u001b[38;5;241;43m.\u001b[39;49m\u001b[43mget_qlearning_fns\u001b[49m\u001b[43m,\u001b[49m\n\u001b[1;32m      5\u001b[0m \u001b[43m    \u001b[49m\u001b[43menv\u001b[49m\u001b[38;5;241;43m=\u001b[39;49m\u001b[43menv\u001b[49m\u001b[43m,\u001b[49m\n\u001b[1;32m      6\u001b[0m \u001b[43m    \u001b[49m\u001b[43menv_params\u001b[49m\u001b[38;5;241;43m=\u001b[39;49m\u001b[43mdefault_env_params\u001b[49m\u001b[43m,\u001b[49m\n\u001b[1;32m      7\u001b[0m \u001b[43m    \u001b[49m\u001b[43mparallel_envs\u001b[49m\u001b[38;5;241;43m=\u001b[39;49m\u001b[43mparallel_envs\u001b[49m\u001b[43m,\u001b[49m\n\u001b[1;32m      8\u001b[0m \u001b[43m)\u001b[49m\n",
      "File \u001b[0;32m~/projects/marl/projects/humansf/housemaze_analysis.py:167\u001b[0m, in \u001b[0;36mload_algorithm\u001b[0;34m(path, name, env_params, env, make_fns, parallel_envs)\u001b[0m\n\u001b[1;32m    159\u001b[0m \u001b[38;5;28;01mdef\u001b[39;00m \u001b[38;5;21mload_algorithm\u001b[39m(\n\u001b[1;32m    160\u001b[0m       path,\n\u001b[1;32m    161\u001b[0m       name,\n\u001b[0;32m   (...)\u001b[0m\n\u001b[1;32m    165\u001b[0m       parallel_envs: \u001b[38;5;28mint\u001b[39m\u001b[38;5;241m=\u001b[39m\u001b[38;5;241m25\u001b[39m,\n\u001b[1;32m    166\u001b[0m       ):\n\u001b[0;32m--> 167\u001b[0m   agent_params, config \u001b[38;5;241m=\u001b[39m \u001b[43mload_params_config\u001b[49m\u001b[43m(\u001b[49m\u001b[43mpath\u001b[49m\u001b[43m,\u001b[49m\u001b[43m \u001b[49m\u001b[43mname\u001b[49m\u001b[43m)\u001b[49m\n\u001b[1;32m    169\u001b[0m   config[\u001b[38;5;124m'\u001b[39m\u001b[38;5;124mNUM_ENVS\u001b[39m\u001b[38;5;124m'\u001b[39m] \u001b[38;5;241m=\u001b[39m parallel_envs\n\u001b[1;32m    171\u001b[0m   \u001b[38;5;28;01mdef\u001b[39;00m \u001b[38;5;21mvmap_reset\u001b[39m(rng, env_params):\n",
      "File \u001b[0;32m~/projects/marl/projects/humansf/housemaze_analysis.py:35\u001b[0m, in \u001b[0;36mload_params_config\u001b[0;34m(path, file, config)\u001b[0m\n\u001b[1;32m     34\u001b[0m \u001b[38;5;28;01mdef\u001b[39;00m \u001b[38;5;21mload_params_config\u001b[39m(path: \u001b[38;5;28mstr\u001b[39m, file: \u001b[38;5;28mstr\u001b[39m, config\u001b[38;5;241m=\u001b[39m\u001b[38;5;28;01mTrue\u001b[39;00m):\n\u001b[0;32m---> 35\u001b[0m     params \u001b[38;5;241m=\u001b[39m \u001b[43mload_params\u001b[49m\u001b[43m(\u001b[49m\u001b[38;5;124;43mf\u001b[39;49m\u001b[38;5;124;43m'\u001b[39;49m\u001b[38;5;132;43;01m{\u001b[39;49;00m\u001b[43mpath\u001b[49m\u001b[38;5;132;43;01m}\u001b[39;49;00m\u001b[38;5;124;43m/\u001b[39;49m\u001b[38;5;132;43;01m{\u001b[39;49;00m\u001b[43mfile\u001b[49m\u001b[38;5;132;43;01m}\u001b[39;49;00m\u001b[38;5;124;43m.safetensors\u001b[39;49m\u001b[38;5;124;43m'\u001b[39;49m\u001b[43m)\u001b[49m\n\u001b[1;32m     37\u001b[0m     \u001b[38;5;28;01mif\u001b[39;00m config:\n\u001b[1;32m     38\u001b[0m         \u001b[38;5;28;01mwith\u001b[39;00m \u001b[38;5;28mopen\u001b[39m(\u001b[38;5;124mf\u001b[39m\u001b[38;5;124m'\u001b[39m\u001b[38;5;132;01m{\u001b[39;00mpath\u001b[38;5;132;01m}\u001b[39;00m\u001b[38;5;124m/\u001b[39m\u001b[38;5;132;01m{\u001b[39;00mfile\u001b[38;5;132;01m}\u001b[39;00m\u001b[38;5;124m.config\u001b[39m\u001b[38;5;124m'\u001b[39m, \u001b[38;5;124m'\u001b[39m\u001b[38;5;124mrb\u001b[39m\u001b[38;5;124m'\u001b[39m) \u001b[38;5;28;01mas\u001b[39;00m f:\n",
      "File \u001b[0;32m~/projects/marl/projects/humansf/housemaze_analysis.py:31\u001b[0m, in \u001b[0;36mload_params\u001b[0;34m(filename)\u001b[0m\n\u001b[1;32m     30\u001b[0m \u001b[38;5;28;01mdef\u001b[39;00m \u001b[38;5;21mload_params\u001b[39m(filename):\n\u001b[0;32m---> 31\u001b[0m     flattened_dict \u001b[38;5;241m=\u001b[39m \u001b[43mload_file\u001b[49m\u001b[43m(\u001b[49m\u001b[43mfilename\u001b[49m\u001b[43m)\u001b[49m\n\u001b[1;32m     32\u001b[0m     \u001b[38;5;28;01mreturn\u001b[39;00m unflatten_dict(flattened_dict, sep\u001b[38;5;241m=\u001b[39m\u001b[38;5;124m'\u001b[39m\u001b[38;5;124m,\u001b[39m\u001b[38;5;124m'\u001b[39m)\n",
      "File \u001b[0;32m~/.local/lib/python3.10/site-packages/safetensors/flax.py:126\u001b[0m, in \u001b[0;36mload_file\u001b[0;34m(filename)\u001b[0m\n\u001b[1;32m    103\u001b[0m \u001b[38;5;250m\u001b[39m\u001b[38;5;124;03m\"\"\"\u001b[39;00m\n\u001b[1;32m    104\u001b[0m \u001b[38;5;124;03mLoads a safetensors file into flax format.\u001b[39;00m\n\u001b[1;32m    105\u001b[0m \n\u001b[0;32m   (...)\u001b[0m\n\u001b[1;32m    123\u001b[0m \u001b[38;5;124;03m```\u001b[39;00m\n\u001b[1;32m    124\u001b[0m \u001b[38;5;124;03m\"\"\"\u001b[39;00m\n\u001b[1;32m    125\u001b[0m result \u001b[38;5;241m=\u001b[39m {}\n\u001b[0;32m--> 126\u001b[0m \u001b[38;5;28;01mwith\u001b[39;00m \u001b[43msafe_open\u001b[49m\u001b[43m(\u001b[49m\u001b[43mfilename\u001b[49m\u001b[43m,\u001b[49m\u001b[43m \u001b[49m\u001b[43mframework\u001b[49m\u001b[38;5;241;43m=\u001b[39;49m\u001b[38;5;124;43m\"\u001b[39;49m\u001b[38;5;124;43mflax\u001b[39;49m\u001b[38;5;124;43m\"\u001b[39;49m\u001b[43m)\u001b[49m \u001b[38;5;28;01mas\u001b[39;00m f:\n\u001b[1;32m    127\u001b[0m     \u001b[38;5;28;01mfor\u001b[39;00m k \u001b[38;5;129;01min\u001b[39;00m f\u001b[38;5;241m.\u001b[39mkeys():\n\u001b[1;32m    128\u001b[0m         result[k] \u001b[38;5;241m=\u001b[39m f\u001b[38;5;241m.\u001b[39mget_tensor(k)\n",
      "\u001b[0;31mFileNotFoundError\u001b[0m: No such file or directory: \"/n/home13/wcarvalho/results/jaxrl_results/housemaze_trainer/ql/save_data/ql-18/exp=maze5_two_paths/qlearning.safetensors\""
     ]
    }
   ],
   "source": [
    "qlearning = housemaze_analysis.load_algorithm(\n",
    "    path='/n/home13/wcarvalho/results/jaxrl_results/housemaze_trainer/ql/save_data/ql-18/SEEDexp=maze5_two_paths',\n",
    "    name='qlearning',\n",
    "    make_fns=trainer_housemaze.get_qlearning_fns,\n",
    "    env=env,\n",
    "    env_params=default_env_params,\n",
    "    parallel_envs=parallel_envs,\n",
    ")\n",
    "\n"
   ]
  },
  {
   "cell_type": "code",
   "execution_count": 18,
   "id": "9bff2526-78fb-4509-bdaf-cd3f9fe02dc1",
   "metadata": {},
   "outputs": [
    {
     "name": "stdout",
     "output_type": "stream",
     "text": [
      "Train average success rate = 1.0\n",
      "Test average success rate = 0.0\n"
     ]
    }
   ],
   "source": [
    "test(qlearning)"
   ]
  },
  {
   "cell_type": "markdown",
   "id": "c9ecc046-f2b0-44fb-8885-f1e5c55cb25f",
   "metadata": {},
   "source": [
    "## Dyna"
   ]
  },
  {
   "cell_type": "code",
   "execution_count": 15,
   "id": "63ef844f-42a1-42b2-bece-e8fcf691a4ca",
   "metadata": {},
   "outputs": [
    {
     "name": "stdout",
     "output_type": "stream",
     "text": [
      "'/n/home13/wcarvalho/results/jaxrl_results/housemaze_trainer/dynaq_shared/save_data/dynaq_shared-12/SEED=1,ALG=dynaq_shared,exp=maze5_two_paths/dynaq_shared.safetensors'\n",
      "'/n/home13/wcarvalho/results/jaxrl_results/housemaze_trainer/dynaq_shared/save_data/dynaq_shared-12/SEED=2,ALG=dynaq_shared,exp=maze5_two_paths/dynaq_shared.safetensors'\n",
      "'/n/home13/wcarvalho/results/jaxrl_results/housemaze_trainer/dynaq_shared/save_data/dynaq_shared-12/SEED=3,ALG=dynaq_shared,exp=maze5_two_paths/dynaq_shared.safetensors'\n",
      "'/n/home13/wcarvalho/results/jaxrl_results/housemaze_trainer/dynaq_shared/save_data/dynaq_shared-13/SEED=1,ALG=dynaq_shared,exp=maze5_two_paths/dynaq_shared.safetensors'\n",
      "'/n/home13/wcarvalho/results/jaxrl_results/housemaze_trainer/dynaq_shared/save_data/dynaq_shared-13/SEED=2,ALG=dynaq_shared,exp=maze5_two_paths/dynaq_shared.safetensors'\n",
      "'/n/home13/wcarvalho/results/jaxrl_results/housemaze_trainer/dynaq_shared/save_data/dynaq_shared-13/SEED=3,ALG=dynaq_shared,exp=maze5_two_paths/dynaq_shared.safetensors'\n"
     ]
    }
   ],
   "source": [
    "# REAL RUNS\n",
    "!ls /n/home13/wcarvalho/results/jaxrl_results/housemaze_trainer/dynaq_shared/save_data/*/*/*.safetensors"
   ]
  },
  {
   "cell_type": "code",
   "execution_count": 20,
   "id": "05f3ff08-8dce-43e1-b635-4e2dac671988",
   "metadata": {},
   "outputs": [],
   "source": [
    "# path = '/n/home13/wcarvalho/results/jaxrl_results/trainer_housemaze/dynaq_shared/save_data/dynaq_shared-10/ALG=dynaq_shared,DYNA=1,LR=0.0003,LR_L=False,STOP=False,TOTA=20000000,exp=maze3_open'\n",
    "path = glob(os.path.join(\n",
    "    '/n/home13/wcarvalho/results/jaxrl_results/trainer_housemaze/dynaq_shared/save_data',\n",
    "    '*/',\n",
    "    'ALG=dynaq_shared,DYNA=1,LR=0.0003,LR_L=False,STOP=False,TOTA=20000000,exp=maze3_open'\n",
    "))[0]"
   ]
  },
  {
   "cell_type": "code",
   "execution_count": 21,
   "id": "7322b4b0-6c7a-4287-a7cf-b13489989098",
   "metadata": {},
   "outputs": [],
   "source": [
    "dyna = housemaze_analysis.load_algorithm(\n",
    "    path=path,\n",
    "    name='dynaq_shared',\n",
    "    make_fns=functools.partial(trainer_housemaze.get_dynaq_fns,\n",
    "        env=env,\n",
    "        env_params=default_env_params,\n",
    "        task_objects=task_objects),\n",
    "    env=env,\n",
    "    env_params=default_env_params,\n",
    "    parallel_envs=parallel_envs,\n",
    ")\n",
    "\n"
   ]
  },
  {
   "cell_type": "code",
   "execution_count": 22,
   "id": "5d94f739-0b5d-421a-8f70-dc1101916cbc",
   "metadata": {},
   "outputs": [
    {
     "name": "stdout",
     "output_type": "stream",
     "text": [
      "Train average success rate = 1.0\n",
      "Test average success rate = 1.0\n"
     ]
    }
   ],
   "source": [
    "test(dyna)"
   ]
  },
  {
   "cell_type": "markdown",
   "id": "999e3f36-9b47-42bf-84f0-f45fa100be14",
   "metadata": {},
   "source": [
    "## Get results"
   ]
  },
  {
   "cell_type": "code",
   "execution_count": 25,
   "id": "885c1db9-6039-4a96-9a4d-95f52cd7bc8b",
   "metadata": {},
   "outputs": [],
   "source": [
    "# df = add_model_results('ql_maze3_task', qlearning, maze3_params, train=True, reset=True)"
   ]
  },
  {
   "cell_type": "code",
   "execution_count": 26,
   "id": "2ba1a07b-0123-42d1-850d-fe146b00337f",
   "metadata": {},
   "outputs": [],
   "source": [
    "all_mazes = ['maze3','maze3_open', 'maze3_open2', 'maze3_offpath_shortcut', 'maze3_onpath_shortcut', 'maze3_onpath']"
   ]
  },
  {
   "cell_type": "code",
   "execution_count": 29,
   "id": "d232c185-85e5-4f12-939d-af889c1ff6dd",
   "metadata": {},
   "outputs": [
    {
     "name": "stdout",
     "output_type": "stream",
     "text": [
      "0\n",
      "1\n",
      "2\n",
      "3\n",
      "4\n",
      "5\n",
      "6\n",
      "7\n",
      "8\n",
      "9\n",
      "10\n",
      "11\n",
      "12\n",
      "13\n",
      "14\n",
      "15\n",
      "16\n",
      "17\n",
      "18\n",
      "19\n",
      "20\n",
      "21\n",
      "22\n",
      "23\n"
     ]
    }
   ],
   "source": [
    "idx = 0\n",
    "for train in [\n",
    "    True,\n",
    "    False\n",
    "]:\n",
    "    for maze_str in all_mazes:\n",
    "        for algorithm in [qlearning, dyna]:\n",
    "            print(idx)\n",
    "            df = add_model_results(f'{algorithm.name}_{maze_str}_train={train}', algorithm, get_params(getattr(mazes, maze_str)), train=train, df=df, reset=idx==0)\n",
    "            idx += 1"
   ]
  },
  {
   "cell_type": "code",
   "execution_count": 30,
   "id": "92c3b81b-c13b-4ff4-aa36-bdcf37eac1fd",
   "metadata": {},
   "outputs": [
    {
     "data": {
      "text/plain": [
       "['dynaq_shared_maze3_offpath_shortcut_train=False',\n",
       " 'dynaq_shared_maze3_offpath_shortcut_train=True',\n",
       " 'dynaq_shared_maze3_onpath_shortcut_train=False',\n",
       " 'dynaq_shared_maze3_onpath_shortcut_train=True',\n",
       " 'dynaq_shared_maze3_onpath_train=False',\n",
       " 'dynaq_shared_maze3_onpath_train=True',\n",
       " 'dynaq_shared_maze3_open2_train=False',\n",
       " 'dynaq_shared_maze3_open2_train=True',\n",
       " 'dynaq_shared_maze3_open_train=False',\n",
       " 'dynaq_shared_maze3_open_train=True',\n",
       " 'dynaq_shared_maze3_train=False',\n",
       " 'dynaq_shared_maze3_train=True',\n",
       " 'qlearning_maze3_offpath_shortcut_train=False',\n",
       " 'qlearning_maze3_offpath_shortcut_train=True',\n",
       " 'qlearning_maze3_onpath_shortcut_train=False',\n",
       " 'qlearning_maze3_onpath_shortcut_train=True',\n",
       " 'qlearning_maze3_onpath_train=False',\n",
       " 'qlearning_maze3_onpath_train=True',\n",
       " 'qlearning_maze3_open2_train=False',\n",
       " 'qlearning_maze3_open2_train=True',\n",
       " 'qlearning_maze3_open_train=False',\n",
       " 'qlearning_maze3_open_train=True',\n",
       " 'qlearning_maze3_train=False',\n",
       " 'qlearning_maze3_train=True']"
      ]
     },
     "execution_count": 30,
     "metadata": {},
     "output_type": "execute_result"
    }
   ],
   "source": [
    "sorted(list(df['key'].unique()))"
   ]
  },
  {
   "cell_type": "code",
   "execution_count": 31,
   "id": "66315e28-1827-4930-a5ce-b0d04f248743",
   "metadata": {},
   "outputs": [],
   "source": [
    "# df = add_model_results('dyna_maze3_offtask', dyna, maze3_params, train=False, df=df)\n",
    "# df.head(), len(df)"
   ]
  },
  {
   "cell_type": "markdown",
   "id": "958d9277-8659-4398-a68f-44baeb4441c9",
   "metadata": {
    "tags": []
   },
   "source": [
    "# Search results"
   ]
  },
  {
   "cell_type": "code",
   "execution_count": 32,
   "id": "9a23fd72-184d-4a25-a142-19d17f5d5f07",
   "metadata": {},
   "outputs": [
    {
     "data": {
      "text/plain": [
       "['maze3',\n",
       " 'maze3_open',\n",
       " 'maze3_open2',\n",
       " 'maze3_offpath_shortcut',\n",
       " 'maze3_onpath_shortcut',\n",
       " 'maze3_onpath']"
      ]
     },
     "execution_count": 32,
     "metadata": {},
     "output_type": "execute_result"
    }
   ],
   "source": [
    "test_mazes = ['maze3', 'maze3_open', 'maze3_open2', 'maze3_offpath_shortcut', 'maze3_onpath_shortcut', 'maze3_onpath']\n",
    "test_mazes"
   ]
  },
  {
   "cell_type": "code",
   "execution_count": 33,
   "id": "a5d5b01d-67a1-4831-9fb6-2fc5a40ca02a",
   "metadata": {},
   "outputs": [
    {
     "name": "stdout",
     "output_type": "stream",
     "text": [
      "0\n",
      "1\n",
      "2\n",
      "3\n",
      "4\n",
      "5\n",
      "6\n",
      "7\n",
      "8\n",
      "9\n",
      "10\n",
      "11\n",
      "12\n",
      "13\n",
      "14\n",
      "15\n",
      "16\n",
      "17\n",
      "18\n",
      "19\n",
      "20\n",
      "21\n",
      "22\n",
      "23\n"
     ]
    }
   ],
   "source": [
    "idx = 0\n",
    "for budget in [\n",
    "    150,\n",
    "    1000\n",
    "]:\n",
    "    for maze_str in test_mazes:\n",
    "        for algo in [\n",
    "            'bfs',\n",
    "            'dfs'\n",
    "        ]:\n",
    "            print(idx)\n",
    "            fn = getattr(utils, algo)\n",
    "            df = add_search_results(f'{algo}_{maze_str}_{budget}_train=False',\n",
    "                                    algo=fn, df=df, env_params=get_params(getattr(mazes, maze_str)),\n",
    "                                    budget=budget, train=False, force=False)\n",
    "            idx += 1"
   ]
  },
  {
   "cell_type": "code",
   "execution_count": 34,
   "id": "29adf3c7-a676-45f4-9221-e43b1d2acfac",
   "metadata": {},
   "outputs": [
    {
     "data": {
      "text/plain": [
       "['bfs_maze3_1000_train=False',\n",
       " 'bfs_maze3_150_train=False',\n",
       " 'bfs_maze3_offpath_shortcut_1000_train=False',\n",
       " 'bfs_maze3_offpath_shortcut_150_train=False',\n",
       " 'bfs_maze3_onpath_1000_train=False',\n",
       " 'bfs_maze3_onpath_150_train=False',\n",
       " 'bfs_maze3_onpath_shortcut_1000_train=False',\n",
       " 'bfs_maze3_onpath_shortcut_150_train=False',\n",
       " 'bfs_maze3_open2_1000_train=False',\n",
       " 'bfs_maze3_open2_150_train=False',\n",
       " 'bfs_maze3_open_1000_train=False',\n",
       " 'bfs_maze3_open_150_train=False',\n",
       " 'dfs_maze3_1000_train=False',\n",
       " 'dfs_maze3_150_train=False',\n",
       " 'dfs_maze3_offpath_shortcut_1000_train=False',\n",
       " 'dfs_maze3_offpath_shortcut_150_train=False',\n",
       " 'dfs_maze3_onpath_1000_train=False',\n",
       " 'dfs_maze3_onpath_150_train=False',\n",
       " 'dfs_maze3_onpath_shortcut_1000_train=False',\n",
       " 'dfs_maze3_onpath_shortcut_150_train=False',\n",
       " 'dfs_maze3_open2_1000_train=False',\n",
       " 'dfs_maze3_open2_150_train=False',\n",
       " 'dfs_maze3_open_1000_train=False',\n",
       " 'dfs_maze3_open_150_train=False',\n",
       " 'dynaq_shared_maze3_offpath_shortcut_train=False',\n",
       " 'dynaq_shared_maze3_offpath_shortcut_train=True',\n",
       " 'dynaq_shared_maze3_onpath_shortcut_train=False',\n",
       " 'dynaq_shared_maze3_onpath_shortcut_train=True',\n",
       " 'dynaq_shared_maze3_onpath_train=False',\n",
       " 'dynaq_shared_maze3_onpath_train=True',\n",
       " 'dynaq_shared_maze3_open2_train=False',\n",
       " 'dynaq_shared_maze3_open2_train=True',\n",
       " 'dynaq_shared_maze3_open_train=False',\n",
       " 'dynaq_shared_maze3_open_train=True',\n",
       " 'dynaq_shared_maze3_train=False',\n",
       " 'dynaq_shared_maze3_train=True',\n",
       " 'qlearning_maze3_offpath_shortcut_train=False',\n",
       " 'qlearning_maze3_offpath_shortcut_train=True',\n",
       " 'qlearning_maze3_onpath_shortcut_train=False',\n",
       " 'qlearning_maze3_onpath_shortcut_train=True',\n",
       " 'qlearning_maze3_onpath_train=False',\n",
       " 'qlearning_maze3_onpath_train=True',\n",
       " 'qlearning_maze3_open2_train=False',\n",
       " 'qlearning_maze3_open2_train=True',\n",
       " 'qlearning_maze3_open_train=False',\n",
       " 'qlearning_maze3_open_train=True',\n",
       " 'qlearning_maze3_train=False',\n",
       " 'qlearning_maze3_train=True']"
      ]
     },
     "execution_count": 34,
     "metadata": {},
     "output_type": "execute_result"
    }
   ],
   "source": [
    "sorted(list(df['key'].unique()))"
   ]
  },
  {
   "cell_type": "markdown",
   "id": "0a8da7c7-96d2-4512-b3cd-7eeeb059ff24",
   "metadata": {},
   "source": [
    "# Plots"
   ]
  },
  {
   "cell_type": "code",
   "execution_count": 45,
   "id": "bfccca5a-27d2-4302-9452-a0b32cd7ede0",
   "metadata": {},
   "outputs": [
    {
     "data": {
      "text/plain": [
       "['bfs_maze3_150_train=False',\n",
       " 'bfs_maze3_offpath_shortcut_150_train=False',\n",
       " 'bfs_maze3_onpath_150_train=False',\n",
       " 'bfs_maze3_onpath_shortcut_150_train=False',\n",
       " 'bfs_maze3_open2_150_train=False',\n",
       " 'bfs_maze3_open_150_train=False',\n",
       " 'dfs_maze3_150_train=False',\n",
       " 'dfs_maze3_offpath_shortcut_150_train=False',\n",
       " 'dfs_maze3_onpath_150_train=False',\n",
       " 'dfs_maze3_onpath_shortcut_150_train=False',\n",
       " 'dfs_maze3_open2_150_train=False',\n",
       " 'dfs_maze3_open_150_train=False',\n",
       " 'dynaq_shared_maze3_offpath_shortcut_train=False',\n",
       " 'dynaq_shared_maze3_offpath_shortcut_train=True',\n",
       " 'dynaq_shared_maze3_onpath_shortcut_train=False',\n",
       " 'dynaq_shared_maze3_onpath_shortcut_train=True',\n",
       " 'dynaq_shared_maze3_onpath_train=False',\n",
       " 'dynaq_shared_maze3_onpath_train=True',\n",
       " 'dynaq_shared_maze3_open2_train=False',\n",
       " 'dynaq_shared_maze3_open2_train=True',\n",
       " 'dynaq_shared_maze3_open_train=False',\n",
       " 'dynaq_shared_maze3_open_train=True',\n",
       " 'dynaq_shared_maze3_train=False',\n",
       " 'dynaq_shared_maze3_train=True',\n",
       " 'qlearning_maze3_offpath_shortcut_train=False',\n",
       " 'qlearning_maze3_offpath_shortcut_train=True',\n",
       " 'qlearning_maze3_onpath_shortcut_train=False',\n",
       " 'qlearning_maze3_onpath_shortcut_train=True',\n",
       " 'qlearning_maze3_onpath_train=False',\n",
       " 'qlearning_maze3_onpath_train=True',\n",
       " 'qlearning_maze3_open2_train=False',\n",
       " 'qlearning_maze3_open2_train=True',\n",
       " 'qlearning_maze3_open_train=False',\n",
       " 'qlearning_maze3_open_train=True',\n",
       " 'qlearning_maze3_train=False',\n",
       " 'qlearning_maze3_train=True']"
      ]
     },
     "execution_count": 45,
     "metadata": {},
     "output_type": "execute_result"
    }
   ],
   "source": [
    "sorted(list(df['key'].unique()))"
   ]
  },
  {
   "cell_type": "markdown",
   "id": "758b9019-745f-4fce-9c44-c5761ec4cc43",
   "metadata": {},
   "source": [
    "# Plots"
   ]
  },
  {
   "cell_type": "markdown",
   "id": "2ae33261-d37d-46f0-a68c-a6e618f1acdc",
   "metadata": {},
   "source": [
    "### Signature 1: Offtask-Dyna will succeed on getting to a task that wasn't a train task\n",
    "### Signature 2: DFS will take the optimal path, Offtask-Dyna will take the long path"
   ]
  },
  {
   "cell_type": "code",
   "execution_count": 16,
   "id": "0960f12f-e400-49b5-8f19-c1936fbb662e",
   "metadata": {},
   "outputs": [
    {
     "ename": "TypeError",
     "evalue": "'NoneType' object is not subscriptable",
     "output_type": "error",
     "traceback": [
      "\u001b[0;31m---------------------------------------------------------------------------\u001b[0m",
      "\u001b[0;31mTypeError\u001b[0m                                 Traceback (most recent call last)",
      "Cell \u001b[0;32mIn[16], line 172\u001b[0m\n\u001b[1;32m    170\u001b[0m ylabel_fontsize\u001b[38;5;241m=\u001b[39m\u001b[38;5;241m12\u001b[39m\n\u001b[1;32m    171\u001b[0m xlabel_fontsize\u001b[38;5;241m=\u001b[39m\u001b[38;5;241m10\u001b[39m\n\u001b[0;32m--> 172\u001b[0m \u001b[43mcreate_complete_figure\u001b[49m\u001b[43m(\u001b[49m\n\u001b[1;32m    173\u001b[0m \u001b[43m    \u001b[49m\u001b[43mmaze_list\u001b[49m\u001b[43m,\u001b[49m\u001b[43m \u001b[49m\u001b[43mshow_metrics\u001b[49m\u001b[38;5;241;43m=\u001b[39;49m\u001b[38;5;124;43m'\u001b[39;49m\u001b[38;5;124;43mboth\u001b[39;49m\u001b[38;5;124;43m'\u001b[39;49m\u001b[43m,\u001b[49m\n\u001b[1;32m    174\u001b[0m \u001b[43m    \u001b[49m\u001b[43mbase_height\u001b[49m\u001b[38;5;241;43m=\u001b[39;49m\u001b[38;5;241;43m3\u001b[39;49m\u001b[43m,\u001b[49m\n\u001b[1;32m    175\u001b[0m \u001b[43m    \u001b[49m\u001b[43mbase_width\u001b[49m\u001b[38;5;241;43m=\u001b[39;49m\u001b[38;5;241;43m3\u001b[39;49m\u001b[43m,\u001b[49m\n\u001b[1;32m    176\u001b[0m \u001b[43m    \u001b[49m\u001b[43mtitle_fontsize\u001b[49m\u001b[38;5;241;43m=\u001b[39;49m\u001b[43mtitle_fontsize\u001b[49m\u001b[43m,\u001b[49m\n\u001b[1;32m    177\u001b[0m \u001b[43m    \u001b[49m\u001b[43mylabel_fontsize\u001b[49m\u001b[38;5;241;43m=\u001b[39;49m\u001b[43mylabel_fontsize\u001b[49m\u001b[43m,\u001b[49m\n\u001b[1;32m    178\u001b[0m \u001b[43m    \u001b[49m\u001b[43mxlabel_fontsize\u001b[49m\u001b[38;5;241;43m=\u001b[39;49m\u001b[43mxlabel_fontsize\u001b[49m\u001b[43m,\u001b[49m\n\u001b[1;32m    179\u001b[0m \u001b[43m  \u001b[49m\u001b[43m)\u001b[49m\n\u001b[1;32m    180\u001b[0m \u001b[38;5;66;03m# Show only success rate\u001b[39;00m\n\u001b[1;32m    181\u001b[0m \u001b[38;5;66;03m# create_complete_figure(maze_list, show_metrics='sr')\u001b[39;00m\n\u001b[1;32m    182\u001b[0m \u001b[38;5;66;03m# Show only path length\u001b[39;00m\n\u001b[1;32m    183\u001b[0m \u001b[38;5;66;03m# create_complete_figure(maze_list, show_metrics='pl', title_fontsize=title_fontsize, label_fontsize=label_fontsize)\u001b[39;00m\n",
      "Cell \u001b[0;32mIn[16], line 78\u001b[0m, in \u001b[0;36mcreate_complete_figure\u001b[0;34m(maze_list, show_metrics, base_height, base_width, title_fontsize, ylabel_fontsize, xlabel_fontsize)\u001b[0m\n\u001b[1;32m     75\u001b[0m \u001b[38;5;28;01mfor\u001b[39;00m i, maze \u001b[38;5;129;01min\u001b[39;00m \u001b[38;5;28menumerate\u001b[39m(maze_list):\n\u001b[1;32m     76\u001b[0m     \u001b[38;5;28;01mif\u001b[39;00m show_metrics \u001b[38;5;129;01min\u001b[39;00m [\u001b[38;5;124m'\u001b[39m\u001b[38;5;124msr\u001b[39m\u001b[38;5;124m'\u001b[39m, \u001b[38;5;124m'\u001b[39m\u001b[38;5;124mboth\u001b[39m\u001b[38;5;124m'\u001b[39m]:\n\u001b[1;32m     77\u001b[0m         data_sr \u001b[38;5;241m=\u001b[39m {\n\u001b[0;32m---> 78\u001b[0m             \u001b[38;5;124m'\u001b[39m\u001b[38;5;124mQ\u001b[39m\u001b[38;5;124m'\u001b[39m: \u001b[43mget\u001b[49m\u001b[43m(\u001b[49m\u001b[38;5;124;43mf\u001b[39;49m\u001b[38;5;124;43m'\u001b[39;49m\u001b[38;5;124;43mqlearning_\u001b[39;49m\u001b[38;5;132;43;01m{\u001b[39;49;00m\u001b[43mmaze\u001b[49m\u001b[38;5;132;43;01m}\u001b[39;49;00m\u001b[38;5;124;43m_train=False\u001b[39;49m\u001b[38;5;124;43m'\u001b[39;49m\u001b[43m,\u001b[49m\u001b[43m \u001b[49m\u001b[38;5;124;43m'\u001b[39;49m\u001b[38;5;124;43msr\u001b[39;49m\u001b[38;5;124;43m'\u001b[39;49m\u001b[43m)\u001b[49m,\n\u001b[1;32m     79\u001b[0m             \u001b[38;5;124m'\u001b[39m\u001b[38;5;124mOfftask-Dyna\u001b[39m\u001b[38;5;124m'\u001b[39m: get(\u001b[38;5;124mf\u001b[39m\u001b[38;5;124m'\u001b[39m\u001b[38;5;124mdynaq_shared_\u001b[39m\u001b[38;5;132;01m{\u001b[39;00mmaze\u001b[38;5;132;01m}\u001b[39;00m\u001b[38;5;124m_train=True\u001b[39m\u001b[38;5;124m'\u001b[39m, \u001b[38;5;124m'\u001b[39m\u001b[38;5;124msr\u001b[39m\u001b[38;5;124m'\u001b[39m),\n\u001b[1;32m     80\u001b[0m             \u001b[38;5;124m'\u001b[39m\u001b[38;5;124mBFS\u001b[39m\u001b[38;5;124m'\u001b[39m: get(\u001b[38;5;124mf\u001b[39m\u001b[38;5;124m'\u001b[39m\u001b[38;5;124mbfs_\u001b[39m\u001b[38;5;132;01m{\u001b[39;00mmaze\u001b[38;5;132;01m}\u001b[39;00m\u001b[38;5;124m_1000_train=False\u001b[39m\u001b[38;5;124m'\u001b[39m, \u001b[38;5;124m'\u001b[39m\u001b[38;5;124msr\u001b[39m\u001b[38;5;124m'\u001b[39m),\n\u001b[1;32m     81\u001b[0m             \u001b[38;5;124m'\u001b[39m\u001b[38;5;124mBFS_load\u001b[39m\u001b[38;5;124m'\u001b[39m: get(\u001b[38;5;124mf\u001b[39m\u001b[38;5;124m'\u001b[39m\u001b[38;5;124mbfs_\u001b[39m\u001b[38;5;132;01m{\u001b[39;00mmaze\u001b[38;5;132;01m}\u001b[39;00m\u001b[38;5;124m_150_train=False\u001b[39m\u001b[38;5;124m'\u001b[39m, \u001b[38;5;124m'\u001b[39m\u001b[38;5;124msr\u001b[39m\u001b[38;5;124m'\u001b[39m),\n\u001b[1;32m     82\u001b[0m             \u001b[38;5;124m'\u001b[39m\u001b[38;5;124mDFS\u001b[39m\u001b[38;5;124m'\u001b[39m: get(\u001b[38;5;124mf\u001b[39m\u001b[38;5;124m'\u001b[39m\u001b[38;5;124mdfs_\u001b[39m\u001b[38;5;132;01m{\u001b[39;00mmaze\u001b[38;5;132;01m}\u001b[39;00m\u001b[38;5;124m_1000_train=False\u001b[39m\u001b[38;5;124m'\u001b[39m, \u001b[38;5;124m'\u001b[39m\u001b[38;5;124msr\u001b[39m\u001b[38;5;124m'\u001b[39m),\n\u001b[1;32m     83\u001b[0m             \u001b[38;5;124m'\u001b[39m\u001b[38;5;124mDFS_load\u001b[39m\u001b[38;5;124m'\u001b[39m: get(\u001b[38;5;124mf\u001b[39m\u001b[38;5;124m'\u001b[39m\u001b[38;5;124mdfs_\u001b[39m\u001b[38;5;132;01m{\u001b[39;00mmaze\u001b[38;5;132;01m}\u001b[39;00m\u001b[38;5;124m_150_train=False\u001b[39m\u001b[38;5;124m'\u001b[39m, \u001b[38;5;124m'\u001b[39m\u001b[38;5;124msr\u001b[39m\u001b[38;5;124m'\u001b[39m),\n\u001b[1;32m     84\u001b[0m         }\n\u001b[1;32m     85\u001b[0m         sr_row \u001b[38;5;241m=\u001b[39m \u001b[38;5;241m1\u001b[39m \u001b[38;5;28;01mif\u001b[39;00m show_metrics \u001b[38;5;241m==\u001b[39m \u001b[38;5;124m'\u001b[39m\u001b[38;5;124mboth\u001b[39m\u001b[38;5;124m'\u001b[39m \u001b[38;5;28;01melse\u001b[39;00m \u001b[38;5;241m1\u001b[39m\n\u001b[1;32m     86\u001b[0m         values \u001b[38;5;241m=\u001b[39m [v[\u001b[38;5;241m0\u001b[39m] \u001b[38;5;28;01mfor\u001b[39;00m v \u001b[38;5;129;01min\u001b[39;00m data_sr\u001b[38;5;241m.\u001b[39mvalues()]\n",
      "Cell \u001b[0;32mIn[16], line 20\u001b[0m, in \u001b[0;36mget\u001b[0;34m(key, val)\u001b[0m\n\u001b[1;32m     19\u001b[0m \u001b[38;5;28;01mdef\u001b[39;00m \u001b[38;5;21mget\u001b[39m(key, val):\n\u001b[0;32m---> 20\u001b[0m     data \u001b[38;5;241m=\u001b[39m df[(\u001b[43mdf\u001b[49m\u001b[43m[\u001b[49m\u001b[38;5;124;43m'\u001b[39;49m\u001b[38;5;124;43mkey\u001b[39;49m\u001b[38;5;124;43m'\u001b[39;49m\u001b[43m]\u001b[49m \u001b[38;5;241m==\u001b[39m key)][val]\n\u001b[1;32m     21\u001b[0m     \u001b[38;5;66;03m# Filter out inf and nan values\u001b[39;00m\n\u001b[1;32m     22\u001b[0m     finite_data \u001b[38;5;241m=\u001b[39m data[np\u001b[38;5;241m.\u001b[39misfinite(data)]\n",
      "\u001b[0;31mTypeError\u001b[0m: 'NoneType' object is not subscriptable"
     ]
    },
    {
     "data": {
      "image/png": "[encoded data removed]",
      "text/plain": [
       "<Figure size 900x900 with 9 Axes>"
      ]
     },
     "metadata": {},
     "output_type": "display_data"
    }
   ],
   "source": [
    "import matplotlib.pyplot as plt\n",
    "import numpy as np\n",
    "import jax\n",
    "from collections import OrderedDict\n",
    "\n",
    "\n",
    "def render_env(env_params, ax):\n",
    "    map_init = jax.tree_map(lambda x:x[0], env_params.reset_params.map_init)\n",
    "    grid = np.asarray(map_init.grid)    \n",
    "    img = renderer.create_image_from_grid(\n",
    "        map_init.grid,\n",
    "        map_init.agent_pos,\n",
    "        map_init.agent_dir,\n",
    "        image_dict)\n",
    "    ax.imshow(img)\n",
    "    ax.set_xticks([])\n",
    "    ax.set_yticks([])\n",
    "\n",
    "def get(key, val):\n",
    "    data = df[(df['key'] == key)][val]\n",
    "    # Filter out inf and nan values\n",
    "    finite_data = data[np.isfinite(data)]\n",
    "    if len(finite_data) > 0:\n",
    "        mean = finite_data.mean()\n",
    "        std = finite_data.std()/np.sqrt(len(finite_data))\n",
    "    else:\n",
    "        mean = 0\n",
    "        std = 0\n",
    "    return mean, std\n",
    "\n",
    "def create_bar_plot(ax, data_dict, ylabel='Success Rates', title='', color_dict=None, hatches_dict=None, title_fontsize=12, ylabel_fontsize=10, xlabel_fontsize=10):\n",
    "    names = list(data_dict.keys())\n",
    "    values = [v[0] for v in data_dict.values()]  # Means\n",
    "    errors = [v[1] for v in data_dict.values()]  # Standard deviations\n",
    "    \n",
    "    colors = [color_dict[name.split('_')[0]] for name in names] if color_dict else None\n",
    "    hatches = [hatches_dict.get(name, '') for name in names] if hatches_dict else None\n",
    "    \n",
    "    bars = ax.bar(names, values, yerr=errors, capsize=5, color=colors)\n",
    "    \n",
    "    # Apply hatches after creating bars\n",
    "    for bar, hatch in zip(bars, hatches):\n",
    "        bar.set_hatch(hatch)\n",
    "    \n",
    "    ax.set_ylabel(ylabel, fontsize=ylabel_fontsize)\n",
    "    ax.tick_params(axis='x', rotation=45)\n",
    "    ax.set_xticklabels(names, ha='right', fontsize=xlabel_fontsize)\n",
    "    ax.tick_params(axis='y')\n",
    "\n",
    "def create_complete_figure(maze_list, show_metrics='both', base_height=3, base_width=3, title_fontsize=12, ylabel_fontsize=10, xlabel_fontsize=10):\n",
    "    n_mazes = len(maze_list)\n",
    "    \n",
    "    if show_metrics == 'both':\n",
    "        n_rows = 3\n",
    "    else:\n",
    "        n_rows = 2\n",
    "    \n",
    "    fig, axs = plt.subplots(n_rows, n_mazes, figsize=(base_width*n_mazes, base_height*n_rows))\n",
    "    \n",
    "    color_dict = {\n",
    "        'Q': '#1f77b4',  # blue\n",
    "        'Offtask-Dyna': '#ff7f0e',  # orange\n",
    "        'BFS': '#2ca02c',  # green\n",
    "        'BFS_load': '#2ca02c',  # green\n",
    "        'DFS': '#d62728',  # red\n",
    "        'DFS_load': '#d62728',  # red\n",
    "    }\n",
    "    hatches_dict = {\n",
    "        'BFS_load': '///',\n",
    "        'DFS_load': '///'\n",
    "    }\n",
    "    y_min = {1: float('inf'), 2: float('inf')}\n",
    "    y_max = {1: float('-inf'), 2: float('-inf')}\n",
    "    # First pass: calculate global y-limits for each row\n",
    "    for i, maze in enumerate(maze_list):\n",
    "        if show_metrics in ['sr', 'both']:\n",
    "            data_sr = {\n",
    "                'Q': get(f'qlearning_{maze}_train=False', 'sr'),\n",
    "                'Offtask-Dyna': get(f'dynaq_shared_{maze}_train=True', 'sr'),\n",
    "                'BFS': get(f'bfs_{maze}_1000_train=False', 'sr'),\n",
    "                'BFS_load': get(f'bfs_{maze}_150_train=False', 'sr'),\n",
    "                'DFS': get(f'dfs_{maze}_1000_train=False', 'sr'),\n",
    "                'DFS_load': get(f'dfs_{maze}_150_train=False', 'sr'),\n",
    "            }\n",
    "            sr_row = 1 if show_metrics == 'both' else 1\n",
    "            values = [v[0] for v in data_sr.values()]\n",
    "            errors = [v[1] for v in data_sr.values()]\n",
    "            y_min[sr_row] = min(y_min[sr_row], min(v - e for v, e in zip(values, errors)))\n",
    "            y_max[sr_row] = max(y_max[sr_row], max(v + e for v, e in zip(values, errors)))\n",
    "        \n",
    "        if show_metrics in ['pl', 'both']:\n",
    "            data_pl = {\n",
    "                'Q': get(f'qlearning_{maze}_train=False', 'pl'),\n",
    "                'Offtask-Dyna': get(f'dynaq_shared_{maze}_train=True', 'pl'),\n",
    "                'BFS': get(f'bfs_{maze}_1000_train=False', 'pl'),\n",
    "                'BFS_load': get(f'bfs_{maze}_150_train=False', 'pl'),\n",
    "                'DFS': get(f'dfs_{maze}_1000_train=False', 'pl'),\n",
    "                'DFS_load': get(f'dfs_{maze}_150_train=False', 'pl'),\n",
    "            }\n",
    "            pl_row = 2 if show_metrics == 'both' else 1\n",
    "            values = [v[0] for v in data_pl.values()]\n",
    "            errors = [v[1] for v in data_pl.values()]\n",
    "            y_min[pl_row] = min(y_min[pl_row], min(v - e for v, e in zip(values, errors)))\n",
    "            y_max[pl_row] = max(y_max[pl_row], max(v + e for v, e in zip(values, errors)))\n",
    "    \n",
    "    for i, maze in enumerate(maze_list):\n",
    "        # Render maze\n",
    "        render_env(get_params(getattr(mazes, maze)), axs[0, i])\n",
    "        axs[0, i].set_title(maze_list[maze], fontsize=title_fontsize)\n",
    "        \n",
    "        if show_metrics in ['sr', 'both']:\n",
    "            # Plot success rate\n",
    "            data_sr = {\n",
    "                'Q': get(f'qlearning_{maze}_train=False', 'sr'),\n",
    "                'Offtask-Dyna': get(f'dynaq_shared_{maze}_train=True', 'sr'),\n",
    "                'BFS': get(f'bfs_{maze}_1000_train=False', 'sr'),\n",
    "                'BFS_load': get(f'bfs_{maze}_150_train=False', 'sr'),\n",
    "                'DFS': get(f'dfs_{maze}_1000_train=False', 'sr'),\n",
    "                'DFS_load': get(f'dfs_{maze}_150_train=False', 'sr'),\n",
    "            }\n",
    "            sr_row = 1 if show_metrics == 'both' else 1\n",
    "            create_bar_plot(\n",
    "                axs[sr_row, i],\n",
    "                data_dict=data_sr,\n",
    "                # title=f'{maze}',\n",
    "                color_dict=color_dict,\n",
    "                hatches_dict=hatches_dict,\n",
    "                ylabel='Success Rate',\n",
    "                title_fontsize=title_fontsize,\n",
    "                ylabel_fontsize=ylabel_fontsize,\n",
    "                xlabel_fontsize=xlabel_fontsize,\n",
    "            )\n",
    "            axs[sr_row, i].set_ylim(y_min[sr_row], y_max[sr_row])\n",
    "        \n",
    "        if show_metrics in ['pl', 'both']:\n",
    "            # Plot path length\n",
    "            data_pl = {\n",
    "                'Q': get(f'qlearning_{maze}_train=False', 'pl'),\n",
    "                'Offtask-Dyna': get(f'dynaq_shared_{maze}_train=True', 'pl'),\n",
    "                'BFS': get(f'bfs_{maze}_1000_train=False', 'pl'),\n",
    "                'BFS_load': get(f'bfs_{maze}_150_train=False', 'pl'),\n",
    "                'DFS': get(f'dfs_{maze}_1000_train=False', 'pl'),\n",
    "                'DFS_load': get(f'dfs_{maze}_150_train=False', 'pl'),\n",
    "            }\n",
    "            pl_row = 2 if show_metrics == 'both' else 1\n",
    "            create_bar_plot(\n",
    "                axs[pl_row, i],\n",
    "                data_dict=data_pl,\n",
    "                # title=f'{maze}',\n",
    "                color_dict=color_dict,\n",
    "                hatches_dict=hatches_dict,\n",
    "                ylabel='Path Length',\n",
    "                ylabel_fontsize=ylabel_fontsize,\n",
    "                xlabel_fontsize=xlabel_fontsize,\n",
    "            )\n",
    "            axs[pl_row, i].set_ylim(y_min[pl_row], y_max[pl_row])\n",
    "    \n",
    "    plt.tight_layout()\n",
    "    plt.show()\n",
    "\n",
    "\n",
    "# Example usage\n",
    "maze_list = OrderedDict(\n",
    "    maze3='Train maze',\n",
    "    maze3_open='Shortcut\\nintroduced',\n",
    "    maze3_open2='Less obvious\\nShortcut',\n",
    ")\n",
    "# Show both success rate and path length\n",
    "title_fontsize=14\n",
    "ylabel_fontsize=12\n",
    "xlabel_fontsize=10\n",
    "create_complete_figure(\n",
    "    maze_list, show_metrics='both',\n",
    "    base_height=3,\n",
    "    base_width=3,\n",
    "    title_fontsize=title_fontsize,\n",
    "    ylabel_fontsize=ylabel_fontsize,\n",
    "    xlabel_fontsize=xlabel_fontsize,\n",
    "  )\n",
    "# Show only success rate\n",
    "# create_complete_figure(maze_list, show_metrics='sr')\n",
    "# Show only path length\n",
    "# create_complete_figure(maze_list, show_metrics='pl', title_fontsize=title_fontsize, label_fontsize=label_fontsize)"
   ]
  },
  {
   "cell_type": "markdown",
   "id": "c5a370a0-6606-4c9b-b466-162834c2cca0",
   "metadata": {
    "tags": []
   },
   "source": [
    "### Signature 3: the agent from a __further__ \"on path\" location will be faster than __closeer__ \"off opath\""
   ]
  },
  {
   "cell_type": "code",
   "execution_count": 47,
   "id": "61eed269-7af7-441c-9662-e8849d6eec6b",
   "metadata": {},
   "outputs": [
    {
     "name": "stderr",
     "output_type": "stream",
     "text": [
      "/tmp/ipykernel_2270999/2833659365.py:47: UserWarning: set_ticklabels() should only be used with a fixed number of ticks, i.e. after set_ticks() or using a FixedLocator.\n",
      "  ax.set_xticklabels(names, ha='right', fontsize=xlabel_fontsize)\n",
      "/tmp/ipykernel_2270999/2833659365.py:47: UserWarning: set_ticklabels() should only be used with a fixed number of ticks, i.e. after set_ticks() or using a FixedLocator.\n",
      "  ax.set_xticklabels(names, ha='right', fontsize=xlabel_fontsize)\n",
      "/tmp/ipykernel_2270999/2833659365.py:47: UserWarning: set_ticklabels() should only be used with a fixed number of ticks, i.e. after set_ticks() or using a FixedLocator.\n",
      "  ax.set_xticklabels(names, ha='right', fontsize=xlabel_fontsize)\n",
      "/tmp/ipykernel_2270999/2833659365.py:47: UserWarning: set_ticklabels() should only be used with a fixed number of ticks, i.e. after set_ticks() or using a FixedLocator.\n",
      "  ax.set_xticklabels(names, ha='right', fontsize=xlabel_fontsize)\n",
      "/tmp/ipykernel_2270999/2833659365.py:47: UserWarning: set_ticklabels() should only be used with a fixed number of ticks, i.e. after set_ticks() or using a FixedLocator.\n",
      "  ax.set_xticklabels(names, ha='right', fontsize=xlabel_fontsize)\n",
      "/tmp/ipykernel_2270999/2833659365.py:47: UserWarning: set_ticklabels() should only be used with a fixed number of ticks, i.e. after set_ticks() or using a FixedLocator.\n",
      "  ax.set_xticklabels(names, ha='right', fontsize=xlabel_fontsize)\n",
      "/tmp/ipykernel_2270999/2833659365.py:47: UserWarning: set_ticklabels() should only be used with a fixed number of ticks, i.e. after set_ticks() or using a FixedLocator.\n",
      "  ax.set_xticklabels(names, ha='right', fontsize=xlabel_fontsize)\n",
      "/tmp/ipykernel_2270999/2833659365.py:47: UserWarning: set_ticklabels() should only be used with a fixed number of ticks, i.e. after set_ticks() or using a FixedLocator.\n",
      "  ax.set_xticklabels(names, ha='right', fontsize=xlabel_fontsize)\n"
     ]
    },
    {
     "data": {
      "image/png": "[encoded data removed]",
      "text/plain": [
       "<Figure size 1200x900 with 12 Axes>"
      ]
     },
     "metadata": {},
     "output_type": "display_data"
    }
   ],
   "source": [
    "maze_list = ['maze3', 'maze3_onpath', 'maze3_onpath_shortcut', 'maze3_offpath_shortcut']\n",
    "maze_list = OrderedDict(\n",
    "    maze3='Train maze',\n",
    "    maze3_onpath=\"\\n\".join(['Same Map', 'New location', 'On Path']),\n",
    "    maze3_onpath_shortcut=\"\\n\".join(['Changed Map', 'New location', 'On Path']),\n",
    "    maze3_offpath_shortcut=\"\\n\".join(['Changed Map', 'New location', 'Off Path']),\n",
    ")\n",
    "create_complete_figure(maze_list, show_metrics='both')\n",
    "# create_complete_figure(maze_list, show_metrics='pl')"
   ]
  },
  {
   "cell_type": "markdown",
   "id": "f6c23354-6093-4e50-82dc-b9378c80f549",
   "metadata": {},
   "source": [
    "# Visualizing models"
   ]
  },
  {
   "cell_type": "code",
   "execution_count": null,
   "id": "6b561cad-f7fb-4556-806b-70a05261ae94",
   "metadata": {},
   "outputs": [
    {
     "data": {
      "image/png": "[encoded data removed]",
      "text/plain": [
       "<Figure size 500x500 with 1 Axes>"
      ]
     },
     "metadata": {},
     "output_type": "display_data"
    }
   ],
   "source": [
    "def render_model_path(traj, ep_idx = 0, ax=None):\n",
    "    # get actions that are in episode\n",
    "    in_episode = housemaze_analysis.get_in_episode(traj.timestep)[ep_idx]\n",
    "    actions = traj.action[ep_idx][in_episode][:-1]\n",
    "    # positions in episode\n",
    "    positions = jax.tree_map(lambda x: x[ep_idx][in_episode][:-1], traj.timestep.state.agent_pos)\n",
    "\n",
    "    state_0 = jax.tree_map(lambda x: x[ep_idx, 0], traj.timestep.state)\n",
    "    \n",
    "    # doesn't matter\n",
    "    maze_height, maze_width, _ = traj.timestep.state.grid[0,0].shape\n",
    "    \n",
    "    fig, ax = plt.subplots(1, figsize=(5, 5))\n",
    "    img = housemaze_render_fn(state_0)\n",
    "    renderer.place_arrows_on_image(img, positions, actions, maze_height, maze_width, arrow_scale=5, ax=ax)\n",
    "\n",
    "render_model_path(results['dynaq_shared_maze3_open_train=False'])"
   ]
  },
  {
   "cell_type": "code",
   "execution_count": 166,
   "id": "49d64cdd-d37d-4e5d-9462-9ce876448448",
   "metadata": {},
   "outputs": [
    {
     "data": {
      "image/png": "[encoded data removed]",
      "text/plain": [
       "<Figure size 500x500 with 1 Axes>"
      ]
     },
     "metadata": {},
     "output_type": "display_data"
    }
   ],
   "source": [
    "render_model_path(results['dynaq_shared_maze3_train=False'])"
   ]
  },
  {
   "cell_type": "code",
   "execution_count": 195,
   "id": "41e78771-96f8-40d9-8341-7305858235a9",
   "metadata": {},
   "outputs": [
    {
     "name": "stdout",
     "output_type": "stream",
     "text": [
      "[1784718894 3813648515]\n",
      "83\n"
     ]
    },
    {
     "data": {
      "image/png": "[encoded data removed]",
      "text/plain": [
       "<Figure size 500x500 with 1 Axes>"
      ]
     },
     "metadata": {},
     "output_type": "display_data"
    }
   ],
   "source": [
    "def collect_search_success(env_params, algo, budget=150, seed=0):\n",
    "    objs = env_params.reset_params.test_objects\n",
    "\n",
    "    map_init = jax.tree_map(lambda x:x[0], env_params.reset_params.map_init)\n",
    "    grid = np.asarray(map_init.grid)\n",
    "    agent_pos = tuple(int(o) for o in map_init.agent_pos)\n",
    "\n",
    "    path = None\n",
    "    o = objs[0]\n",
    "    goal = np.array([o])\n",
    "    rng = jax.random.PRNGKey(seed)\n",
    "    while path is None:\n",
    "        rng, rng_ = jax.random.split(rng)\n",
    "        print(rng_)\n",
    "        path, iterations = algo(grid, agent_pos, goal, key=rng_, budget=budget)\n",
    "    print(iterations)\n",
    "    return path\n",
    "\n",
    "def render_search_path(positions, env_params):\n",
    "    map_init = jax.tree_map(lambda x:x[0], env_params.reset_params.map_init)\n",
    "    grid = np.asarray(map_init.grid)    \n",
    "    actions = utils.actions_from_path(positions)\n",
    "    \n",
    "    # doesn't matter\n",
    "    maze_height, maze_width, _ = grid.shape\n",
    "    \n",
    "    img = renderer.create_image_from_grid(\n",
    "        map_init.grid,\n",
    "        map_init.agent_pos,\n",
    "        map_init.agent_dir,\n",
    "        image_dict)\n",
    "    renderer.place_arrows_on_image(img, positions, actions, maze_height, maze_width)\n",
    "\n",
    "env_params = maze3_open_params\n",
    "budget = 150\n",
    "path = collect_search_success(env_params=env_params, algo=utils.dfs, budget=budget, seed=5)\n",
    "render_search_path(path, env_params)"
   ]
  },
  {
   "cell_type": "code",
   "execution_count": null,
   "id": "86155645-84e0-49b9-9fe6-ae936a306c59",
   "metadata": {},
   "outputs": [],
   "source": []
  }
 ],
 "metadata": {
  "kernelspec": {
   "display_name": "Python [conda env:.conda-jaxneurorl]",
   "language": "python",
   "name": "conda-env-.conda-jaxneurorl-py"
  },
  "language_info": {
   "codemirror_mode": {
    "name": "ipython",
    "version": 3
   },
   "file_extension": ".py",
   "mimetype": "text/x-python",
   "name": "python",
   "nbconvert_exporter": "python",
   "pygments_lexer": "ipython3",
   "version": "3.10.9"
  }
 },
 "nbformat": 4,
 "nbformat_minor": 5
}
