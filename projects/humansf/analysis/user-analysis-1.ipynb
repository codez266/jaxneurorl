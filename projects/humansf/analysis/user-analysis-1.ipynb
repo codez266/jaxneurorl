{
 "cells": [
  {
   "cell_type": "code",
   "execution_count": 1,
   "id": "e3e798c0-eb0c-4512-95e4-9f54068f9a8a",
   "metadata": {},
   "outputs": [],
   "source": [
    "%load_ext autoreload\n",
    "%autoreload 2"
   ]
  },
  {
   "cell_type": "code",
   "execution_count": 2,
   "id": "21a07b38-c10e-49a3-955d-1e68ad7cc6f7",
   "metadata": {},
   "outputs": [
    {
     "name": "stdout",
     "output_type": "stream",
     "text": [
      "at directory: /Users/wilka/git/research/jaxneurorl/projects/humansf/analysis\n",
      "changing to root directory\n",
      "at directory: /Users/wilka/git/research/jaxneurorl\n"
     ]
    }
   ],
   "source": [
    "import os\n",
    "import sys\n",
    "print(\"at directory:\", os.getcwd())\n",
    "print(\"changing to root directory\")\n",
    "os.chdir(\"../../..\")\n",
    "print(\"at directory:\", os.getcwd())"
   ]
  },
  {
   "cell_type": "code",
   "execution_count": 3,
   "id": "b15ed016-6968-49e7-a86c-8d833e1639ea",
   "metadata": {},
   "outputs": [],
   "source": [
    "# !pip install google-cloud-storage\n",
    "# !pip install git+https://github.com/wcarvalho/nicewebrl --no-deps\n",
    "# !pip install ipywidgets\n",
    "# !pip install polars\n",
    "# !pip install nicegui"
   ]
  },
  {
   "cell_type": "code",
   "execution_count": 4,
   "id": "ffeb054f-cbbb-4cde-8c11-d8266f4a625f",
   "metadata": {},
   "outputs": [
    {
     "name": "stderr",
     "output_type": "stream",
     "text": [
      "\u001b[34m\u001b[1mwandb\u001b[0m: \u001b[33mWARNING\u001b[0m `wandb.require('core')` is redundant as it is now the default behavior.\n"
     ]
    },
    {
     "name": "stdout",
     "output_type": "stream",
     "text": [
      "No file specified for image dict.\n",
      "Using: /Users/wilka/git/research/jaxneurorl/libraries/housemaze/housemaze/image_data.pkl\n",
      "No file specified for image dict.\n",
      "Using: /Users/wilka/git/research/jaxneurorl/libraries/housemaze/housemaze/image_data.pkl\n",
      "No file specified for groups.\n",
      "Using: /Users/wilka/git/research/jaxneurorl/libraries/housemaze/housemaze/human_dyna/list_of_groups.npy\n"
     ]
    },
    {
     "name": "stderr",
     "output_type": "stream",
     "text": [
      "/Users/wilka/miniforge3/envs/jaxneurorl/lib/python3.10/site-packages/distrax/_src/utils/conversion.py:145: UserWarning: Explicitly requested dtype <class 'jax.numpy.float64'> requested in astype is not available, and will be truncated to dtype float32. To enable more dtypes, set the jax_enable_x64 configuration option or the JAX_ENABLE_X64 shell environment variable. See https://github.com/google/jax#current-gotchas for more.\n",
      "  return x.astype(jnp.float_)\n"
     ]
    }
   ],
   "source": [
    "import jax\n",
    "import jax.numpy as jnp\n",
    "import functools\n",
    "from functools import partial\n",
    "import pandas as pd\n",
    "import numpy as np\n",
    "from pprint import pprint\n",
    "import glob\n",
    "from glob import glob\n",
    "import matplotlib.pyplot as plt\n",
    "import polars as pl\n",
    "from tqdm.notebook import tqdm\n",
    "\n",
    "from projects.humansf import data_loading\n",
    "from projects.humansf import housemaze_analysis\n",
    "from projects.humansf import data_loading\n",
    "from projects.humansf import housemaze_trainer\n",
    "from projects.humansf import housemaze_experiments\n",
    "from projects.humansf import networks\n",
    "from housemaze.human_dyna import mazes\n",
    "\n",
    "from housemaze import renderer\n",
    "from housemaze import utils\n",
    "from housemaze.human_dyna import multitask_env as maze\n",
    "from jaxneurorl import launcher\n",
    "from jaxneurorl.agents import value_based_basics as vbb\n",
    "\n",
    "\n",
    "from projects.humansf import download_data"
   ]
  },
  {
   "cell_type": "code",
   "execution_count": 8,
   "id": "9bb44544-669b-40f9-b9a0-a039e3fc13cd",
   "metadata": {},
   "outputs": [],
   "source": [
    "# !ls -lhtr ~/git/research/results/human_dyna/user_data/*"
   ]
  },
  {
   "cell_type": "code",
   "execution_count": 19,
   "id": "18cccf39-c91c-4238-9023-551fe591f75a",
   "metadata": {},
   "outputs": [],
   "source": [
    "# !rm ~/git/research/results/human_dyna/user_data/*3714894224_name* ~/git/research/results/human_dyna/user_data/*2631242498_name*"
   ]
  },
  {
   "cell_type": "code",
   "execution_count": 9,
   "id": "3d2ae99b-b8d9-4a91-ac11-40591bc6825c",
   "metadata": {},
   "outputs": [
    {
     "name": "stdout",
     "output_type": "stream",
     "text": [
      "Downloaded: data/data_user=1067476058_name=r0-exp2-obj1-v1_exp=2_debug=0.json to /Users/wilka/git/research/results/human_dyna/user_data/exp2/data_user=1067476058_name=r0-exp2-obj1-v1_exp=2_debug=0.json\n",
      "Downloaded: data/data_user=1098132550_name=r0-exp2-obj1-v1_exp=2_debug=0.json to /Users/wilka/git/research/results/human_dyna/user_data/exp2/data_user=1098132550_name=r0-exp2-obj1-v1_exp=2_debug=0.json\n",
      "Downloaded: data/data_user=1326608468_name=r0-exp2-obj1-v1_exp=2_debug=0.json to /Users/wilka/git/research/results/human_dyna/user_data/exp2/data_user=1326608468_name=r0-exp2-obj1-v1_exp=2_debug=0.json\n",
      "Downloaded: data/data_user=1415357222_name=r0-exp2-obj1-v1_exp=2_debug=0.json to /Users/wilka/git/research/results/human_dyna/user_data/exp2/data_user=1415357222_name=r0-exp2-obj1-v1_exp=2_debug=0.json\n",
      "Downloaded: data/data_user=1525319157_name=r0-exp2-obj1-v1_exp=2_debug=0.json to /Users/wilka/git/research/results/human_dyna/user_data/exp2/data_user=1525319157_name=r0-exp2-obj1-v1_exp=2_debug=0.json\n",
      "Downloaded: data/data_user=1704178870_name=r0-exp2-obj1-v1_exp=2_debug=0.json to /Users/wilka/git/research/results/human_dyna/user_data/exp2/data_user=1704178870_name=r0-exp2-obj1-v1_exp=2_debug=0.json\n",
      "Downloaded: data/data_user=1751295768_name=r0-exp2-obj1-v1_exp=2_debug=0.json to /Users/wilka/git/research/results/human_dyna/user_data/exp2/data_user=1751295768_name=r0-exp2-obj1-v1_exp=2_debug=0.json\n",
      "Downloaded: data/data_user=1837498252_name=r0-exp2-obj1-v1_exp=2_debug=0.json to /Users/wilka/git/research/results/human_dyna/user_data/exp2/data_user=1837498252_name=r0-exp2-obj1-v1_exp=2_debug=0.json\n",
      "Downloaded: data/data_user=1921995450_name=r0-exp2-obj1-v1_exp=2_debug=0.json to /Users/wilka/git/research/results/human_dyna/user_data/exp2/data_user=1921995450_name=r0-exp2-obj1-v1_exp=2_debug=0.json\n",
      "Downloaded: data/data_user=1953803176_name=r0-exp2-obj1-v1_exp=2_debug=0.json to /Users/wilka/git/research/results/human_dyna/user_data/exp2/data_user=1953803176_name=r0-exp2-obj1-v1_exp=2_debug=0.json\n",
      "Downloaded: data/data_user=2032105189_name=r0-exp2-obj1-v1_exp=2_debug=0.json to /Users/wilka/git/research/results/human_dyna/user_data/exp2/data_user=2032105189_name=r0-exp2-obj1-v1_exp=2_debug=0.json\n",
      "Downloaded: data/data_user=2065457170_name=r0-exp2-obj1-v1_exp=2_debug=0.json to /Users/wilka/git/research/results/human_dyna/user_data/exp2/data_user=2065457170_name=r0-exp2-obj1-v1_exp=2_debug=0.json\n",
      "Downloaded: data/data_user=2170666064_name=r0-exp2-obj1-v1_exp=2_debug=0.json to /Users/wilka/git/research/results/human_dyna/user_data/exp2/data_user=2170666064_name=r0-exp2-obj1-v1_exp=2_debug=0.json\n",
      "Downloaded: data/data_user=2188199801_name=r0-exp2-obj1-v1_exp=2_debug=0.json to /Users/wilka/git/research/results/human_dyna/user_data/exp2/data_user=2188199801_name=r0-exp2-obj1-v1_exp=2_debug=0.json\n",
      "Downloaded: data/data_user=2246370679_name=r0-exp2-obj1-v1_exp=2_debug=0.json to /Users/wilka/git/research/results/human_dyna/user_data/exp2/data_user=2246370679_name=r0-exp2-obj1-v1_exp=2_debug=0.json\n",
      "Downloaded: data/data_user=2672838701_name=r0-exp2-obj1-v1_exp=2_debug=0.json to /Users/wilka/git/research/results/human_dyna/user_data/exp2/data_user=2672838701_name=r0-exp2-obj1-v1_exp=2_debug=0.json\n",
      "Downloaded: data/data_user=2689796036_name=r0-exp2-obj1-v1_exp=2_debug=0.json to /Users/wilka/git/research/results/human_dyna/user_data/exp2/data_user=2689796036_name=r0-exp2-obj1-v1_exp=2_debug=0.json\n",
      "Downloaded: data/data_user=2763428547_name=r0-exp2-obj1-v1_exp=2_debug=0.json to /Users/wilka/git/research/results/human_dyna/user_data/exp2/data_user=2763428547_name=r0-exp2-obj1-v1_exp=2_debug=0.json\n",
      "Downloaded: data/data_user=2790926430_name=r0-exp2-obj1-v1_exp=2_debug=0.json to /Users/wilka/git/research/results/human_dyna/user_data/exp2/data_user=2790926430_name=r0-exp2-obj1-v1_exp=2_debug=0.json\n",
      "Downloaded: data/data_user=2880014010_name=r0-exp2-obj1-v1_exp=2_debug=0.json to /Users/wilka/git/research/results/human_dyna/user_data/exp2/data_user=2880014010_name=r0-exp2-obj1-v1_exp=2_debug=0.json\n",
      "Downloaded: data/data_user=2958212813_name=r0-exp2-obj1-v1_exp=2_debug=0.json to /Users/wilka/git/research/results/human_dyna/user_data/exp2/data_user=2958212813_name=r0-exp2-obj1-v1_exp=2_debug=0.json\n",
      "Downloaded: data/data_user=3201668377_name=r0-exp2-obj1-v1_exp=2_debug=0.json to /Users/wilka/git/research/results/human_dyna/user_data/exp2/data_user=3201668377_name=r0-exp2-obj1-v1_exp=2_debug=0.json\n",
      "Downloaded: data/data_user=3282820220_name=r0-exp2-obj1-v1_exp=2_debug=0.json to /Users/wilka/git/research/results/human_dyna/user_data/exp2/data_user=3282820220_name=r0-exp2-obj1-v1_exp=2_debug=0.json\n",
      "Downloaded: data/data_user=3686484564_name=r0-exp2-obj1-v1_exp=2_debug=0.json to /Users/wilka/git/research/results/human_dyna/user_data/exp2/data_user=3686484564_name=r0-exp2-obj1-v1_exp=2_debug=0.json\n",
      "Downloaded: data/data_user=3705501572_name=r0-exp2-obj1-v1_exp=2_debug=0.json to /Users/wilka/git/research/results/human_dyna/user_data/exp2/data_user=3705501572_name=r0-exp2-obj1-v1_exp=2_debug=0.json\n",
      "Downloaded: data/data_user=3786090989_name=r0-exp2-obj1-v1_exp=2_debug=0.json to /Users/wilka/git/research/results/human_dyna/user_data/exp2/data_user=3786090989_name=r0-exp2-obj1-v1_exp=2_debug=0.json\n",
      "Downloaded: data/data_user=3907671823_name=r0-exp2-obj1-v1_exp=2_debug=0.json to /Users/wilka/git/research/results/human_dyna/user_data/exp2/data_user=3907671823_name=r0-exp2-obj1-v1_exp=2_debug=0.json\n",
      "Downloaded: data/data_user=4215527195_name=r0-exp2-obj1-v1_exp=2_debug=0.json to /Users/wilka/git/research/results/human_dyna/user_data/exp2/data_user=4215527195_name=r0-exp2-obj1-v1_exp=2_debug=0.json\n",
      "Downloaded: data/data_user=444968707_name=r0-exp2-obj1-v1_exp=2_debug=0.json to /Users/wilka/git/research/results/human_dyna/user_data/exp2/data_user=444968707_name=r0-exp2-obj1-v1_exp=2_debug=0.json\n",
      "Downloaded: data/data_user=606867615_name=r0-exp2-obj1-v1_exp=2_debug=0.json to /Users/wilka/git/research/results/human_dyna/user_data/exp2/data_user=606867615_name=r0-exp2-obj1-v1_exp=2_debug=0.json\n",
      "Downloaded: data/data_user=930876379_name=r0-exp2-obj1-v1_exp=2_debug=0.json to /Users/wilka/git/research/results/human_dyna/user_data/exp2/data_user=930876379_name=r0-exp2-obj1-v1_exp=2_debug=0.json\n",
      "Downloaded: data/data_user=933767211_name=r0-exp2-obj1-v1_exp=2_debug=0.json to /Users/wilka/git/research/results/human_dyna/user_data/exp2/data_user=933767211_name=r0-exp2-obj1-v1_exp=2_debug=0.json\n"
     ]
    }
   ],
   "source": [
    "from projects.humansf.download_data import download_user_files\n",
    "\n",
    "bucket_name = \"human-dyna\"\n",
    "prefix = \"data/\"\n",
    "#pattern = \"data/data_user=*_name=r0-v2*debug=0.json\"\n",
    "human_data_pattern = \"data/data_user=*r0-exp2-obj1-v1*debug=0.json\"\n",
    "destination_folder = \"/Users/wilka/git/research/results/human_dyna/user_data/exp2\"\n",
    "\n",
    "download_user_files(bucket_name, prefix, human_data_pattern, destination_folder)"
   ]
  },
  {
   "cell_type": "code",
   "execution_count": 14,
   "id": "5b27fd57-f845-401a-bc21-7d725c4612fc",
   "metadata": {},
   "outputs": [
    {
     "data": {
      "text/plain": [
       "32"
      ]
     },
     "execution_count": 14,
     "metadata": {},
     "output_type": "execute_result"
    }
   ],
   "source": [
    "data_dir = '/Users/wilka/git/research/results/human_dyna/'\n",
    "files = f'{data_dir}/user_data/exp2/*obj1*v1*.json'\n",
    "user_base_path = f'{data_dir}/user_data'\n",
    "files = glob(files)\n",
    "len(files)"
   ]
  },
  {
   "cell_type": "code",
   "execution_count": 18,
   "id": "8afda695-6e57-4454-a149-e5bfc9a09e89",
   "metadata": {},
   "outputs": [
    {
     "name": "stdout",
     "output_type": "stream",
     "text": [
      "-------------------------\n",
      "2 data_user=2672838701_name=r0-exp2-obj1-v1_exp=2_debug=0.json\n",
      "\n",
      "\n",
      "bonus: 3\n",
      "-------------------------\n",
      "4 data_user=2958212813_name=r0-exp2-obj1-v1_exp=2_debug=0.json\n",
      "\n",
      "Thank you,\n",
      "bonus: 3\n",
      "-------------------------\n",
      "5 data_user=444968707_name=r0-exp2-obj1-v1_exp=2_debug=0.json\n",
      "\n",
      "The movement of the arrow was unresponsive and caused me to make mistakes.\n",
      "bonus: 3\n",
      "-------------------------\n",
      "6 data_user=606867615_name=r0-exp2-obj1-v1_exp=2_debug=0.json\n",
      "\n",
      "it was so laggy and hard to control\n",
      "bonus: 3\n",
      "-------------------------\n",
      "7 data_user=3786090989_name=r0-exp2-obj1-v1_exp=2_debug=0.json\n",
      "\n",
      "\n",
      "bonus: 3\n",
      "-------------------------\n",
      "9 data_user=1921995450_name=r0-exp2-obj1-v1_exp=2_debug=0.json\n",
      "\n",
      "God this was terrible, to the point of being exploitative. What's wrong with this lab??  Anyway, the \"experiment\" screwed up the first time, randomly, requiring restarting. Then, the controls were crappy; didn't register arrow presses, and then the 'runner' would jump to a different position (after input lag). Just absolutely terrible. This could have been fun; unless this was what you were testing, why not actually make sure this works before releasing it? Sheesh!\n",
      "bonus: 3\n",
      "-------------------------\n",
      "11 data_user=1704178870_name=r0-exp2-obj1-v1_exp=2_debug=0.json\n",
      "\n",
      "No issues but it was unclear at the beginning if you could pass through another object on the way to your goal, which I learned by doing once.\n",
      "bonus: 3\n",
      "-------------------------\n",
      "13 data_user=933767211_name=r0-exp2-obj1-v1_exp=2_debug=0.json\n",
      "\n",
      "The experiment restarted twice on me even though I was under the same tab the whole time and never left the study, I guess third times the charm.\n",
      "bonus: 3\n",
      "-------------------------\n",
      "16 data_user=1415357222_name=r0-exp2-obj1-v1_exp=2_debug=0.json\n",
      "\n",
      " I liked this experiment.  The maze was fun and not too challenging to achieve a good score!  I didn't experience any technical issues.  Thank you for the opportunity to participate.\n",
      "bonus: 3\n",
      "-------------------------\n",
      "17 data_user=4215527195_name=r0-exp2-obj1-v1_exp=2_debug=0.json\n",
      "\n",
      "very nice\n",
      "bonus: 2\n",
      "-------------------------\n",
      "18 data_user=3201668377_name=r0-exp2-obj1-v1_exp=2_debug=0.json\n",
      "\n",
      "there is a little lag to the cursor but you get used to it after a couple trys. thanks guys.\n",
      "bonus: 3\n",
      "-------------------------\n",
      "22 data_user=1067476058_name=r0-exp2-obj1-v1_exp=2_debug=0.json\n",
      "\n",
      "\n",
      "bonus: 3\n",
      "-------------------------\n",
      "23 data_user=1837498252_name=r0-exp2-obj1-v1_exp=2_debug=0.json\n",
      "\n",
      "The random movement made the game tough.\n",
      "bonus: 3\n",
      "-------------------------\n",
      "25 data_user=2170666064_name=r0-exp2-obj1-v1_exp=2_debug=0.json\n",
      "\n",
      "I honestly have no idea why sometimes I don't get \"success\" when I try to go for one of the ones not part of the set of 8 like in the last maze where I was supposed to go for the knife. I'm assuming that's part of the experiment? Other than that, I have nothing to add.\n",
      "bonus: 3\n"
     ]
    }
   ],
   "source": [
    "import json\n",
    "nfinished = 0\n",
    "for idx, file in enumerate(files[4:]):\n",
    "    with open(file, 'r') as f:\n",
    "        try:\n",
    "            data = json.load(f)\n",
    "        except Exception as e:\n",
    "            print('-'*25)\n",
    "            print(idx, os.path.basename(file))\n",
    "            print(e)\n",
    "            continue\n",
    "        finished = data[-1].get(\"finished\", False)\n",
    "        if finished:\n",
    "            nfinished += 1\n",
    "            print('-'*25)\n",
    "            print(idx, os.path.basename(file))\n",
    "            print(\"\\n\" + data[-1]['feedback'] or \"N/A\")\n",
    "            print('bonus:', data[-1]['bonus'])\n",
    "        # else:\n",
    "        #     print(\"NOT FINISHED\")"
   ]
  },
  {
   "cell_type": "code",
   "execution_count": 59,
   "id": "85851e0c-115a-4131-bbe6-155d32c9e95e",
   "metadata": {},
   "outputs": [
    {
     "data": {
      "application/vnd.jupyter.widget-view+json": {
       "model_id": "512cfeefa8bb4e2986a6130cf09059b3",
       "version_major": 2,
       "version_minor": 0
      },
      "text/plain": [
       "Processing files:   0%|          | 0/2 [00:00<?, ?it/s]"
      ]
     },
     "metadata": {},
     "output_type": "display_data"
    },
    {
     "name": "stdout",
     "output_type": "stream",
     "text": [
      "Filtered 46 data point\n"
     ]
    },
    {
     "data": {
      "application/vnd.jupyter.widget-view+json": {
       "model_id": "89a8d36979c24888b9e60b48845b0216",
       "version_major": 2,
       "version_minor": 0
      },
      "text/plain": [
       "Processing episodes:   0%|          | 0/51 [00:00<?, ?it/s]"
      ]
     },
     "metadata": {},
     "output_type": "display_data"
    },
    {
     "name": "stdout",
     "output_type": "stream",
     "text": [
      "Filtered 65 data point\n"
     ]
    },
    {
     "data": {
      "application/vnd.jupyter.widget-view+json": {
       "model_id": "e7360e72f4c5436f8fa5ea614dd76474",
       "version_major": 2,
       "version_minor": 0
      },
      "text/plain": [
       "Processing episodes:   0%|          | 0/49 [00:00<?, ?it/s]"
      ]
     },
     "metadata": {},
     "output_type": "display_data"
    }
   ],
   "source": [
    "user_df, user_data = data_loading.make_all_episode_data(\n",
    "    files=files,\n",
    "    example_timestep=example_timestep,\n",
    "    base_path=user_base_path,\n",
    "    overwrite=True,\n",
    ")"
   ]
  },
  {
   "cell_type": "code",
   "execution_count": null,
   "id": "1c8b075c-cb9d-4631-a2e1-048589c38045",
   "metadata": {},
   "outputs": [],
   "source": []
  }
 ],
 "metadata": {
  "kernelspec": {
   "display_name": "Python 3 (ipykernel)",
   "language": "python",
   "name": "python3"
  },
  "language_info": {
   "codemirror_mode": {
    "name": "ipython",
    "version": 3
   },
   "file_extension": ".py",
   "mimetype": "text/x-python",
   "name": "python",
   "nbconvert_exporter": "python",
   "pygments_lexer": "ipython3",
   "version": "3.10.0"
  }
 },
 "nbformat": 4,
 "nbformat_minor": 5
}
