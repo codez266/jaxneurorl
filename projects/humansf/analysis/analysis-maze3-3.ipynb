{
 "cells": [
  {
   "cell_type": "code",
   "execution_count": 1,
   "id": "e3e798c0-eb0c-4512-95e4-9f54068f9a8a",
   "metadata": {},
   "outputs": [],
   "source": [
    "%load_ext autoreload\n",
    "%autoreload 2"
   ]
  },
  {
   "cell_type": "code",
   "execution_count": 2,
   "id": "21a07b38-c10e-49a3-955d-1e68ad7cc6f7",
   "metadata": {},
   "outputs": [
    {
     "name": "stdout",
     "output_type": "stream",
     "text": [
      "at directory: /n/home13/wcarvalho/results/jaxrl_results\n",
      "changing to root directory\n",
      "at directory: /n/home13/wcarvalho/projects/marl\n"
     ]
    }
   ],
   "source": [
    "import os\n",
    "import sys\n",
    "print(\"at directory:\", os.getcwd())\n",
    "print(\"changing to root directory\")\n",
    "os.chdir(\"/n/home13/wcarvalho/projects/marl\")\n",
    "print(\"at directory:\", os.getcwd())"
   ]
  },
  {
   "cell_type": "code",
   "execution_count": 3,
   "id": "ffeb054f-cbbb-4cde-8c11-d8266f4a625f",
   "metadata": {},
   "outputs": [
    {
     "name": "stderr",
     "output_type": "stream",
     "text": [
      "/n/home13/wcarvalho/.conda/envs/jaxneurorl/lib/python3.10/site-packages/tqdm/auto.py:21: TqdmWarning: IProgress not found. Please update jupyter and ipywidgets. See https://ipywidgets.readthedocs.io/en/stable/user_install.html\n",
      "  from .autonotebook import tqdm as notebook_tqdm\n",
      "/n/home13/wcarvalho/.local/lib/python3.10/site-packages/distrax/_src/utils/conversion.py:145: UserWarning: Explicitly requested dtype <class 'jax.numpy.float64'> requested in astype is not available, and will be truncated to dtype float32. To enable more dtypes, set the jax_enable_x64 configuration option or the JAX_ENABLE_X64 shell environment variable. See https://github.com/google/jax#current-gotchas for more.\n",
      "  return x.astype(jnp.float_)\n"
     ]
    }
   ],
   "source": [
    "import jax\n",
    "import jax.numpy as jnp\n",
    "import functools\n",
    "import pandas as pd\n",
    "import numpy as np\n",
    "from glob import glob\n",
    "\n",
    "from projects.humansf import housemaze_analysis\n",
    "from projects.humansf import trainer_housemaze\n",
    "from projects.humansf import housemaze_experiments\n",
    "from projects.humansf import networks\n",
    "from housemaze import renderer\n",
    "from housemaze import utils\n",
    "from housemaze.human_dyna import env as maze\n",
    "from library import launcher\n",
    "from agents import value_based_basics as vbb\n"
   ]
  },
  {
   "cell_type": "markdown",
   "id": "6226fab3-bf26-4d62-9272-e60835a0d36b",
   "metadata": {},
   "source": [
    "# Setup Environment"
   ]
  },
  {
   "cell_type": "code",
   "execution_count": 4,
   "id": "5e541ee3-cf94-4abd-bcf7-f620f1a71c00",
   "metadata": {},
   "outputs": [
    {
     "name": "stdout",
     "output_type": "stream",
     "text": [
      "No file specified for image dict.\n",
      "Using: /n/home13/wcarvalho/projects/marl/libraries/housemaze/housemaze/image_data.pkl\n",
      "No file specified for image dict.\n",
      "Using: /n/home13/wcarvalho/projects/marl/libraries/housemaze/housemaze/human_dyna/list_of_groups.npy\n"
     ]
    }
   ],
   "source": [
    "# exp = 'maze3_randomize'\n",
    "image_dict = utils.load_image_dict()\n",
    "\n",
    "def housemaze_render_fn(state: maze.EnvState):\n",
    "    return renderer.create_image_from_grid(\n",
    "        state.grid,\n",
    "        state.agent_pos,\n",
    "        state.agent_dir,\n",
    "        image_dict)\n",
    "\n",
    "exp = 'maze3_open'\n",
    "exp_fn = getattr(housemaze_experiments, exp, None)\n",
    "_, default_env_params, task_objects = exp_fn({})\n"
   ]
  },
  {
   "cell_type": "code",
   "execution_count": 5,
   "id": "66265bd5-baf4-49a2-b686-741b37e308ec",
   "metadata": {},
   "outputs": [],
   "source": [
    "task_runner = maze.TaskRunner(task_objects=task_objects)\n",
    "env = maze.HouseMaze(\n",
    "    task_runner=task_runner,\n",
    "    num_categories=200,\n",
    ")\n",
    "env = utils.AutoResetWrapper(env)"
   ]
  },
  {
   "cell_type": "code",
   "execution_count": 6,
   "id": "7d2282dc-02f0-4f1d-aef7-83b60a28cf6c",
   "metadata": {},
   "outputs": [
    {
     "name": "stdout",
     "output_type": "stream",
     "text": [
      "[26] [40]\n",
      "[[1 0]] [[0 1]]\n"
     ]
    }
   ],
   "source": [
    "parallel_envs = 25\n",
    "\n",
    "train_objects = default_env_params.reset_params.train_objects[0, :2]\n",
    "test_objects = default_env_params.reset_params.test_objects[0, :2]\n",
    "\n",
    "train_ws = jnp.array([task_runner.task_vector(o) for o in train_objects])\n",
    "test_ws = jnp.array([task_runner.task_vector(o) for o in test_objects])\n",
    "\n",
    "print(train_objects, test_objects)\n",
    "print(train_ws, test_ws)\n"
   ]
  },
  {
   "cell_type": "code",
   "execution_count": 7,
   "id": "6d6f72f4-7ffa-4aee-8e0e-f9b408d9dcde",
   "metadata": {},
   "outputs": [
    {
     "name": "stdout",
     "output_type": "stream",
     "text": [
      "No file specified for image dict.\n",
      "Using: /n/home13/wcarvalho/projects/marl/libraries/housemaze/housemaze/human_dyna/list_of_groups.npy\n"
     ]
    }
   ],
   "source": [
    "from housemaze.human_dyna import mazes\n",
    "\n",
    "char2key, group_set, task_objects = housemaze_experiments.get_group_set(1)"
   ]
  },
  {
   "cell_type": "code",
   "execution_count": 38,
   "id": "9cd41177-e181-4e23-a90f-4e74a76ed0d0",
   "metadata": {},
   "outputs": [],
   "source": [
    "maze3_params = mazes.get_maze_reset_params(\n",
    "    group_set=group_set,\n",
    "    char2key=char2key,\n",
    "    maze_str=mazes.maze3,\n",
    "    randomize_agent=False,\n",
    "    make_env_params=True,\n",
    ")\n",
    "maze3_open_params = mazes.get_maze_reset_params(\n",
    "    group_set=group_set,\n",
    "    char2key=char2key,\n",
    "    maze_str=mazes.maze3_open,\n",
    "    randomize_agent=False,\n",
    "    make_env_params=True,\n",
    ")\n"
   ]
  },
  {
   "cell_type": "code",
   "execution_count": 152,
   "id": "68ad598d-16d3-4184-b002-bf1f8889789e",
   "metadata": {},
   "outputs": [
    {
     "data": {
      "image/png": "[encoded data removed]",
      "text/plain": [
       "<Figure size 500x500 with 1 Axes>"
      ]
     },
     "metadata": {},
     "output_type": "display_data"
    },
    {
     "data": {
      "image/png": "[encoded data removed]",
      "text/plain": [
       "<Figure size 500x500 with 1 Axes>"
      ]
     },
     "metadata": {},
     "output_type": "display_data"
    }
   ],
   "source": [
    "def render_env(env_params):\n",
    "    map_init = jax.tree_map(lambda x:x[0], env_params.reset_params.map_init)\n",
    "    grid = np.asarray(map_init.grid)    \n",
    "    actions = utils.actions_from_path(positions)\n",
    "    img = renderer.create_image_from_grid(\n",
    "        map_init.grid,\n",
    "        map_init.agent_pos,\n",
    "        map_init.agent_dir,\n",
    "        image_dict)\n",
    "    fig, ax = plt.subplots(1, figsize=(5, 5))\n",
    "    ax.imshow(img)\n",
    "    # Remove the axis ticks and labels\n",
    "    ax.set_xticks([])\n",
    "    ax.set_yticks([])\n",
    "render_env(maze3_params)\n",
    "render_env(maze3_open_params)"
   ]
  },
  {
   "cell_type": "markdown",
   "id": "5286294c-9a15-4f11-8de0-b7584636229e",
   "metadata": {
    "tags": []
   },
   "source": [
    "# Load agents"
   ]
  },
  {
   "cell_type": "code",
   "execution_count": 9,
   "id": "646a0481-f44a-4b24-a03d-ac62996b69c2",
   "metadata": {},
   "outputs": [],
   "source": [
    "results = dict()\n",
    "df = "
   ]
  },
  {
   "cell_type": "code",
   "execution_count": 130,
   "id": "f2131da2-a950-4aba-b057-4158b5209801",
   "metadata": {},
   "outputs": [],
   "source": [
    "success_fn = jax.jit(jax.vmap(housemaze_analysis.success))\n",
    "def add_model_results(key: str, algorithm, env_params, train: bool = False, df=None, reset=False):\n",
    "    if reset:\n",
    "        results.clear()\n",
    "    if key in results: return df\n",
    "    eval_fn = algorithm.eval_fn\n",
    "    rng = jax.random.PRNGKey(42)\n",
    "    if train:\n",
    "        objs = maze3_params.reset_params.train_objects\n",
    "    else:\n",
    "        objs = maze3_params.reset_params.test_objects\n",
    "\n",
    "    for o in objs:\n",
    "        task_w = task_runner.task_vector(o)\n",
    "        trajs = eval_fn(rng, env_params, task_w)\n",
    "        trajs = jax.tree_map(lambda x: x[0], trajs) # only had 1 task\n",
    "        total_rewards, success_rates = success_fn(trajs.timestep)\n",
    "        \n",
    "        results[key] = trajs\n",
    "        lengths = jnp.argmax(trajs.timestep.last(), 1)+1\n",
    "        ntraj = len(total_rewards)\n",
    "        metrics = dict(\n",
    "            algo=[algorithm.name]*ntraj,\n",
    "            key=[key]*ntraj,\n",
    "            train=[train]*ntraj,\n",
    "            sr=success_rates,\n",
    "            tr=total_rewards,\n",
    "            pl=lengths,\n",
    "        )\n",
    "\n",
    "        new_df = pd.DataFrame(metrics)\n",
    "        if reset:\n",
    "            return new_df\n",
    "        if df is not None :\n",
    "            df = pd.concat([df, new_df], ignore_index=True)\n",
    "        else:\n",
    "            df = new_df\n",
    "    return df\n",
    "\n",
    "def add_search_results(key: str, algo, env_params, df, budget=1e8, train: bool = False, ntraj = 100, force: bool = False):\n",
    "    if key in results and not force: return df\n",
    "\n",
    "    if train:\n",
    "        objs = env_params.reset_params.train_objects\n",
    "    else:\n",
    "        objs = env_params.reset_params.test_objects\n",
    "    \n",
    "    map_init = jax.tree_map(lambda x:x[0], env_params.reset_params.map_init)\n",
    "    grid = np.asarray(map_init.grid)\n",
    "    agent_pos = tuple(int(o) for o in map_init.agent_pos)\n",
    "    trajectories = []\n",
    "    for o in objs:\n",
    "        goal = np.array([o])\n",
    "        success_rates = []\n",
    "        total_rewards = []\n",
    "        path_lengths = []\n",
    "        for idx in range(ntraj):\n",
    "            path, iterations = algo(grid, agent_pos, goal, key=jax.random.PRNGKey(idx), budget=budget)\n",
    "            trajectories.append(path)\n",
    "            if path is None:\n",
    "                success_rates.append(0)\n",
    "                total_rewards.append(0)\n",
    "                path_lengths.append(np.inf)\n",
    "            else:\n",
    "                success_rates.append(1)\n",
    "                total_rewards.append(1)\n",
    "                path_lengths.append(len(path))\n",
    "        \n",
    "        results[key] = trajectories\n",
    "        metrics = dict(\n",
    "            algo=['bfs']*ntraj,\n",
    "            key=[key]*ntraj,\n",
    "            train=[train]*ntraj,\n",
    "            sr=success_rates,\n",
    "            tr=total_rewards,\n",
    "            pl=path_lengths,\n",
    "        )\n",
    "\n",
    "        new_df = pd.DataFrame(metrics)\n",
    "        return pd.concat([df, new_df], ignore_index=True)\n"
   ]
  },
  {
   "cell_type": "code",
   "execution_count": 53,
   "id": "c0e444fd-938a-43e1-90bc-9cdbaf643875",
   "metadata": {},
   "outputs": [],
   "source": [
    "def test(algorithm, visualize: bool = False):\n",
    "    \n",
    "    def collect(example_w):\n",
    "        rng = jax.random.PRNGKey(41)\n",
    "        trajs = algorithm.eval_fn(rng, maze3_params, example_w)\n",
    "        trajs = jax.tree_map(lambda x: x[0], trajs) # only had 1 task\n",
    "        \n",
    "        return trajs, success_fn(trajs.timestep)\n",
    "    example_w = task_runner.task_vector(maze3_params.reset_params.train_objects[0])\n",
    "    tasjs, (total_rewards, success_rates) = collect(example_w)\n",
    "    # print('Train average total rewards =', total_rewards.mean())\n",
    "    print('Train average success rate =', success_rates.mean())\n",
    "    \n",
    "    example_w = task_runner.task_vector(maze3_params.reset_params.test_objects[0])\n",
    "    tasjs, (total_rewards, success_rates) = collect(example_w)\n",
    "    # print('Test average total rewards =', total_rewards.mean())\n",
    "    print('Test average success rate =', success_rates.mean())\n",
    "    \n",
    "    if visualize:\n",
    "        housemaze_analysis.plot_timesteps(\n",
    "          jax.tree_map(lambda x:x[0], trajs),\n",
    "          render_fn=housemaze_render_fn,\n",
    "          get_task_name=functools.partial(trainer_housemaze.task_from_variables, keys=image_dict['keys']),\n",
    "          extract_task_info=trainer_housemaze.extract_task_info,\n",
    "          max_len=50)"
   ]
  },
  {
   "cell_type": "markdown",
   "id": "2a3944b0-d926-46a0-b6d8-63ecf248a320",
   "metadata": {
    "tags": []
   },
   "source": [
    "### Q-learning"
   ]
  },
  {
   "cell_type": "code",
   "execution_count": 10,
   "id": "f5d78748-1f5f-4081-8cad-32ced175219f",
   "metadata": {},
   "outputs": [],
   "source": [
    "# REAL RUNS\n",
    "# !ls /n/home13/wcarvalho/results/jaxrl_results/trainer_housemaze/ql/save_data/*/*/qlearning.safetensors"
   ]
  },
  {
   "cell_type": "code",
   "execution_count": 12,
   "id": "57995b98-79f2-4bc0-8220-55929c5be01d",
   "metadata": {},
   "outputs": [],
   "source": [
    "qlearning = housemaze_analysis.load_algorithm(\n",
    "    path='/n/home13/wcarvalho/results/jaxrl_results/trainer_housemaze/ql/save_data/ql-15/exp=maze3_open',\n",
    "    name='qlearning',\n",
    "    make_fns=trainer_housemaze.get_qlearning_fns,\n",
    "    env=env,\n",
    "    env_params=default_env_params,\n",
    "    parallel_envs=parallel_envs,\n",
    ")\n",
    "\n"
   ]
  },
  {
   "cell_type": "code",
   "execution_count": 18,
   "id": "9bff2526-78fb-4509-bdaf-cd3f9fe02dc1",
   "metadata": {},
   "outputs": [
    {
     "name": "stdout",
     "output_type": "stream",
     "text": [
      "Train average total rewards = 1.0\n",
      "Train average success rate = 1.0\n",
      "Test average total rewards = 0.0\n",
      "Test average success rate = 0.0\n"
     ]
    }
   ],
   "source": [
    "test(qlearning)"
   ]
  },
  {
   "cell_type": "markdown",
   "id": "c9ecc046-f2b0-44fb-8885-f1e5c55cb25f",
   "metadata": {},
   "source": [
    "## Dyna"
   ]
  },
  {
   "cell_type": "code",
   "execution_count": 21,
   "id": "63ef844f-42a1-42b2-bece-e8fcf691a4ca",
   "metadata": {},
   "outputs": [],
   "source": [
    "# REAL RUNS\n",
    "# !ls /n/home13/wcarvalho/results/jaxrl_results/trainer_housemaze/dynaq_shared/save_data/*/*/*.safetensors"
   ]
  },
  {
   "cell_type": "code",
   "execution_count": 23,
   "id": "05f3ff08-8dce-43e1-b635-4e2dac671988",
   "metadata": {},
   "outputs": [
    {
     "name": "stdout",
     "output_type": "stream",
     "text": [
      "/n/home13/wcarvalho/results/jaxrl_results/trainer_housemaze/dynaq_shared/save_data/dynaq_shared-10/ALG=dynaq_shared,DYNA=1,LR=0.0003,LR_L=False,STOP=False,TOTA=20000000,exp=maze3_open\n"
     ]
    }
   ],
   "source": [
    "# path = '/n/home13/wcarvalho/results/jaxrl_results/trainer_housemaze/dynaq_shared/save_data/dynaq_shared-10/ALG=dynaq_shared,DYNA=1,LR=0.0003,LR_L=False,STOP=False,TOTA=20000000,exp=maze3_open'\n",
    "path = glob(os.path.join(\n",
    "    '/n/home13/wcarvalho/results/jaxrl_results/trainer_housemaze/dynaq_shared/save_data',\n",
    "    '*/',\n",
    "    'ALG=dynaq_shared,DYNA=1,LR=0.0003,LR_L=False,STOP=False,TOTA=20000000,exp=maze3_open'\n",
    "))[0]"
   ]
  },
  {
   "cell_type": "code",
   "execution_count": 24,
   "id": "7322b4b0-6c7a-4287-a7cf-b13489989098",
   "metadata": {},
   "outputs": [],
   "source": [
    "dyna = housemaze_analysis.load_algorithm(\n",
    "    path=path,\n",
    "    name='dynaq_shared',\n",
    "    make_fns=functools.partial(trainer_housemaze.get_dynaq_fns,\n",
    "        env=env,\n",
    "        env_params=default_env_params,\n",
    "        task_objects=task_objects),\n",
    "    env=env,\n",
    "    env_params=default_env_params,\n",
    "    parallel_envs=parallel_envs,\n",
    ")\n",
    "\n"
   ]
  },
  {
   "cell_type": "code",
   "execution_count": 54,
   "id": "5d94f739-0b5d-421a-8f70-dc1101916cbc",
   "metadata": {},
   "outputs": [
    {
     "name": "stdout",
     "output_type": "stream",
     "text": [
      "Train average success rate = 1.0\n",
      "Test average success rate = 1.0\n"
     ]
    }
   ],
   "source": [
    "test(dyna)"
   ]
  },
  {
   "cell_type": "markdown",
   "id": "999e3f36-9b47-42bf-84f0-f45fa100be14",
   "metadata": {},
   "source": [
    "## Get results"
   ]
  },
  {
   "cell_type": "code",
   "execution_count": null,
   "id": "885c1db9-6039-4a96-9a4d-95f52cd7bc8b",
   "metadata": {},
   "outputs": [
    {
     "data": {
      "text/plain": [
       "(        algo            key  train   sr   tr  pl\n",
       " 0  qlearning  ql_maze3_task   True  1.0  1.0  35\n",
       " 1  qlearning  ql_maze3_task   True  1.0  1.0  35\n",
       " 2  qlearning  ql_maze3_task   True  1.0  1.0  35\n",
       " 3  qlearning  ql_maze3_task   True  1.0  1.0  35\n",
       " 4  qlearning  ql_maze3_task   True  1.0  1.0  35,\n",
       " 100)"
      ]
     },
     "execution_count": 13,
     "metadata": {},
     "output_type": "execute_result"
    }
   ],
   "source": [
    "# df = add_model_results('ql_maze3_task', qlearning, maze3_params, train=True, reset=True)\n",
    "results = dict()"
   ]
  },
  {
   "cell_type": "code",
   "execution_count": 61,
   "id": "d232c185-85e5-4f12-939d-af889c1ff6dd",
   "metadata": {},
   "outputs": [],
   "source": [
    "idx = 0\n",
    "for train in [\n",
    "    True,\n",
    "    False\n",
    "]:\n",
    "    for maze, name in [\n",
    "        (maze3_params, 'maze3'),\n",
    "        (maze3_open_params, 'maze3_open')\n",
    "    ]:\n",
    "        for algorithm in [qlearning, dyna]:\n",
    "            df = add_model_results(f'{algorithm.name}_{name}_train={train}', algorithm, maze, train=train, df=df, reset=idx==0)\n",
    "            idx += 1"
   ]
  },
  {
   "cell_type": "code",
   "execution_count": 62,
   "id": "92c3b81b-c13b-4ff4-aa36-bdcf37eac1fd",
   "metadata": {},
   "outputs": [
    {
     "data": {
      "text/plain": [
       "['dynaq_shared_maze3_open_train=False',\n",
       " 'dynaq_shared_maze3_open_train=True',\n",
       " 'dynaq_shared_maze3_train=False',\n",
       " 'dynaq_shared_maze3_train=True',\n",
       " 'qlearning_maze3_open_train=False',\n",
       " 'qlearning_maze3_open_train=True',\n",
       " 'qlearning_maze3_train=False',\n",
       " 'qlearning_maze3_train=True']"
      ]
     },
     "execution_count": 62,
     "metadata": {},
     "output_type": "execute_result"
    }
   ],
   "source": [
    "sorted(list(df['key'].unique()))"
   ]
  },
  {
   "cell_type": "code",
   "execution_count": 45,
   "id": "66315e28-1827-4930-a5ce-b0d04f248743",
   "metadata": {},
   "outputs": [],
   "source": [
    "# df = add_model_results('dyna_maze3_offtask', dyna, maze3_params, train=False, df=df)\n",
    "# df.head(), len(df)"
   ]
  },
  {
   "cell_type": "markdown",
   "id": "958d9277-8659-4398-a68f-44baeb4441c9",
   "metadata": {
    "tags": []
   },
   "source": [
    "# Search results"
   ]
  },
  {
   "cell_type": "code",
   "execution_count": 132,
   "id": "a5d5b01d-67a1-4831-9fb6-2fc5a40ca02a",
   "metadata": {},
   "outputs": [
    {
     "name": "stdout",
     "output_type": "stream",
     "text": [
      "1\n"
     ]
    }
   ],
   "source": [
    "idx = 0\n",
    "for budget in [\n",
    "    150,\n",
    "    # 1000\n",
    "]:\n",
    "    for maze, name in [\n",
    "        # (maze3_params, 'maze3'),\n",
    "        (maze3_open_params, 'maze3_open')\n",
    "    ]:\n",
    "        for algo in [\n",
    "            # 'bfs',\n",
    "            'dfs'\n",
    "        ]:\n",
    "            fn = getattr(utils, algo)\n",
    "            df = add_search_results(f'{algo}_{name}_{budget}_train=False', algo=fn, df=df, env_params=maze, budget=budget, train=False, force=True)\n",
    "            idx += 1\n",
    "            print(idx)"
   ]
  },
  {
   "cell_type": "code",
   "execution_count": 64,
   "id": "29adf3c7-a676-45f4-9221-e43b1d2acfac",
   "metadata": {},
   "outputs": [
    {
     "data": {
      "text/plain": [
       "['bfs_maze3_1000_train=False',\n",
       " 'bfs_maze3_150_train=False',\n",
       " 'bfs_maze3_open_1000_train=False',\n",
       " 'bfs_maze3_open_150_train=False',\n",
       " 'dfs_maze3_1000_train=False',\n",
       " 'dfs_maze3_150_train=False',\n",
       " 'dfs_maze3_open_1000_train=False',\n",
       " 'dfs_maze3_open_150_train=False',\n",
       " 'dynaq_shared_maze3_open_train=False',\n",
       " 'dynaq_shared_maze3_open_train=True',\n",
       " 'dynaq_shared_maze3_train=False',\n",
       " 'dynaq_shared_maze3_train=True',\n",
       " 'qlearning_maze3_open_train=False',\n",
       " 'qlearning_maze3_open_train=True',\n",
       " 'qlearning_maze3_train=False',\n",
       " 'qlearning_maze3_train=True']"
      ]
     },
     "execution_count": 64,
     "metadata": {},
     "output_type": "execute_result"
    }
   ],
   "source": [
    "sorted(list(df['key'].unique()))"
   ]
  },
  {
   "cell_type": "code",
   "execution_count": 31,
   "id": "87f78df5-8304-4ed5-9896-e1204155fe7a",
   "metadata": {},
   "outputs": [],
   "source": [
    "# budget=150\n",
    "# df = add_search_results(f'bfs_maze3_offtask_{budget}', algo=utils.bfs, df=df, env_params=maze3_params, budget=budget, train=False)\n",
    "# df = add_search_results(f'dfs_maze3_offtask_{budget}', algo=utils.dfs, df=df, env_params=maze3_params, budget=budget, train=False)"
   ]
  },
  {
   "cell_type": "markdown",
   "id": "0a8da7c7-96d2-4512-b3cd-7eeeb059ff24",
   "metadata": {},
   "source": [
    "# Plots"
   ]
  },
  {
   "cell_type": "code",
   "execution_count": 33,
   "id": "bfccca5a-27d2-4302-9452-a0b32cd7ede0",
   "metadata": {},
   "outputs": [
    {
     "data": {
      "text/plain": [
       "array(['ql_maze3_task', 'ql_maze3_offtask', 'dyna_maze3_task',\n",
       "       'dyna_maze3_offtask', 'bfs_maze3_offtask', 'dfs_maze3_offtask',\n",
       "       'bfs_maze3_offtask_150', 'dfs_maze3_offtask_150'], dtype=object)"
      ]
     },
     "execution_count": 33,
     "metadata": {},
     "output_type": "execute_result"
    }
   ],
   "source": [
    "sorted(list(df['key'].unique()))"
   ]
  },
  {
   "cell_type": "markdown",
   "id": "c5a370a0-6606-4c9b-b466-162834c2cca0",
   "metadata": {},
   "source": [
    "### Signature 1: Offtask-Dyna will succeed on getting to a task that wasn't a train task\n",
    "### Signature 2: DFS will take the optimal path, Offtask-Dyna will take the long path"
   ]
  },
  {
   "cell_type": "code",
   "execution_count": 155,
   "id": "bf0767fc-54bf-49b4-90b3-29ba6b8157a5",
   "metadata": {},
   "outputs": [
    {
     "name": "stderr",
     "output_type": "stream",
     "text": [
      "/tmp/ipykernel_1579063/3570103486.py:20: UserWarning: set_ticklabels() should only be used with a fixed number of ticks, i.e. after set_ticks() or using a FixedLocator.\n",
      "  ax.set_xticklabels(names, ha='right')\n",
      "/tmp/ipykernel_1579063/3570103486.py:20: UserWarning: set_ticklabels() should only be used with a fixed number of ticks, i.e. after set_ticks() or using a FixedLocator.\n",
      "  ax.set_xticklabels(names, ha='right')\n"
     ]
    },
    {
     "data": {
      "image/png": "[encoded data removed]",
      "text/plain": [
       "<Figure size 1000x400 with 2 Axes>"
      ]
     },
     "metadata": {},
     "output_type": "display_data"
    }
   ],
   "source": [
    "import matplotlib.pyplot as plt\n",
    "\n",
    "def create_bar_plot(ax, data_dict, ylabel='Success Rates', title='', color_dict=None, hatches_dict=None):\n",
    "    names = list(data_dict.keys())\n",
    "    values = [v[0] for v in data_dict.values()]  # Means\n",
    "    errors = [v[1] for v in data_dict.values()]  # Standard deviations\n",
    "    \n",
    "    colors = [color_dict[name.split('_')[0]] for name in names] if color_dict else None\n",
    "    hatches = [hatches_dict.get(name, '') for name in names] if hatches_dict else None\n",
    "    \n",
    "    bars = ax.bar(names, values, yerr=errors, capsize=5, color=colors)\n",
    "    \n",
    "    # Apply hatches after creating bars\n",
    "    for bar, hatch in zip(bars, hatches):\n",
    "        bar.set_hatch(hatch)\n",
    "    \n",
    "    ax.set_ylabel(ylabel)\n",
    "    ax.set_title(title)\n",
    "    ax.tick_params(axis='x', rotation=45)\n",
    "    ax.set_xticklabels(names, ha='right')\n",
    "\n",
    "def get(key, val):\n",
    "    data = df[(df['key'] == key)][val]\n",
    "    # Filter out inf and nan values\n",
    "    finite_data = data[np.isfinite(data)]\n",
    "    if len(finite_data) > 0:\n",
    "        mean = finite_data.mean()\n",
    "        std = finite_data.std()\n",
    "    else:\n",
    "        mean = np.nan\n",
    "        std = np.nan\n",
    "    return mean, std\n",
    "\n",
    "# nrows = 2\n",
    "# ncols = 2\n",
    "# base = 5\n",
    "# fig, axs = plt.subplots(nrows, ncols, figsize=(nrows*base, ncols*base))\n",
    "# axs = axs.ravel()\n",
    "\n",
    "fig, axs = plt.subplots(1, 2, figsize=(10, 4))\n",
    "axs = axs.ravel()\n",
    "\n",
    "# Example usage\n",
    "color_dict = {\n",
    "    'Q': '#1f77b4',  # blue\n",
    "    'Offtask-Dyna': '#ff7f0e',  # orange\n",
    "    'BFS': '#2ca02c',  # green\n",
    "    'BFS_load': '#2ca02c',  # green\n",
    "    'DFS': '#d62728',  # red\n",
    "    'DFS_load': '#d62728',  # red\n",
    "}\n",
    "\n",
    "hatches_dict = {\n",
    "    'BFS_load': '///',\n",
    "    'DFS_load': '///'\n",
    "}\n",
    "\n",
    "for i, val in enumerate(['sr', 'pl']):\n",
    "    data = {\n",
    "        'Q': get('qlearning_maze3_train=False', val),\n",
    "        'Offtask-Dyna': get('dynaq_shared_maze3_train=True', val),\n",
    "        'BFS': get('bfs_maze3_1000_train=False', val),\n",
    "        'BFS_load': get('bfs_maze3_150_train=False', val),\n",
    "        'DFS': get('dfs_maze3_1000_train=False', val),\n",
    "        'DFS_load': get('dfs_maze3_150_train=False', val),\n",
    "    }\n",
    "    ylabel = dict(\n",
    "        sr='Success Rate',\n",
    "        pl='Path Length',\n",
    "    )[val]\n",
    "    create_bar_plot(\n",
    "        axs[i],\n",
    "        data,\n",
    "        title=f'Off-task performance - {ylabel}',\n",
    "        color_dict=color_dict,\n",
    "        hatches_dict=hatches_dict,\n",
    "        ylabel=ylabel,\n",
    "    )\n",
    "    \n",
    "    \n",
    "# for i, val in enumerate(['sr', 'pl']):\n",
    "#     data = {\n",
    "#         'Q': get('qlearning_maze3_open_train=False', val),\n",
    "#         'Offtask-Dyna': get('dynaq_shared_maze3_open_train=True', val),\n",
    "#         'BFS': get('bfs_maze3_open_1000_train=False', val),\n",
    "#         'BFS_load': get('bfs_maze3_open_150_train=False', val),\n",
    "#         'DFS': get('dfs_maze3_open_1000_train=False', val),\n",
    "#         'DFS_load': get('dfs_maze3_open_150_train=False', val),\n",
    "#     }\n",
    "#     ylabel = dict(\n",
    "#         sr='Success Rate',\n",
    "#         pl='Path Length',\n",
    "#     )[val]\n",
    "#     create_bar_plot(\n",
    "#         axs[i+2],\n",
    "#         data,\n",
    "#         title=f'Off-task performance (Open Shortcut) - {ylabel}',\n",
    "#         color_dict=color_dict,\n",
    "#         hatches_dict=hatches_dict,\n",
    "#         ylabel=ylabel,\n",
    "#     )\n",
    "\n",
    "# plt.tight_layout()\n",
    "# plt.show()"
   ]
  },
  {
   "cell_type": "markdown",
   "id": "ed1b6e62-50e1-4b35-a566-3b73c1b50c0b",
   "metadata": {},
   "source": [
    "### Signature: DFS will take the optimal path, Offtask-Dyna will take the long path"
   ]
  },
  {
   "cell_type": "code",
   "execution_count": 158,
   "id": "d7f1a9c7-8cff-4976-b20b-3a7ba50815cb",
   "metadata": {},
   "outputs": [
    {
     "name": "stderr",
     "output_type": "stream",
     "text": [
      "/tmp/ipykernel_1579063/3570103486.py:20: UserWarning: set_ticklabels() should only be used with a fixed number of ticks, i.e. after set_ticks() or using a FixedLocator.\n",
      "  ax.set_xticklabels(names, ha='right')\n",
      "/tmp/ipykernel_1579063/3570103486.py:20: UserWarning: set_ticklabels() should only be used with a fixed number of ticks, i.e. after set_ticks() or using a FixedLocator.\n",
      "  ax.set_xticklabels(names, ha='right')\n"
     ]
    },
    {
     "data": {
      "image/png": "[encoded data removed]",
      "text/plain": [
       "<Figure size 1000x400 with 2 Axes>"
      ]
     },
     "metadata": {},
     "output_type": "display_data"
    }
   ],
   "source": [
    "fig, axs = plt.subplots(1, 2, figsize=(10, 4))\n",
    "axs = axs.ravel()\n",
    "\n",
    "# Example usage\n",
    "color_dict = {\n",
    "    'Q': '#1f77b4',  # blue\n",
    "    'Offtask-Dyna': '#ff7f0e',  # orange\n",
    "    'BFS': '#2ca02c',  # green\n",
    "    'BFS_load': '#2ca02c',  # green\n",
    "    'DFS': '#d62728',  # red\n",
    "    'DFS_load': '#d62728',  # red\n",
    "}\n",
    "\n",
    "hatches_dict = {\n",
    "    'BFS_load': '///',\n",
    "    'DFS_load': '///'\n",
    "}\n",
    "\n",
    "for i, val in enumerate(['sr', 'pl']):\n",
    "    data = {\n",
    "        'Q': get('qlearning_maze3_open_train=False', val),\n",
    "        'Offtask-Dyna': get('dynaq_shared_maze3_open_train=True', val),\n",
    "        'BFS': get('bfs_maze3_open_1000_train=False', val),\n",
    "        'BFS_load': get('bfs_maze3_open_150_train=False', val),\n",
    "        'DFS': get('dfs_maze3_open_1000_train=False', val),\n",
    "        'DFS_load': get('dfs_maze3_open_150_train=False', val),\n",
    "    }\n",
    "    ylabel = dict(\n",
    "        sr='Success Rate',\n",
    "        pl='Path Length',\n",
    "    )[val]\n",
    "    create_bar_plot(\n",
    "        axs[i],\n",
    "        data,\n",
    "        title=f'Off-task performance (Open Shortcut) - {ylabel}',\n",
    "        color_dict=color_dict,\n",
    "        hatches_dict=hatches_dict,\n",
    "        ylabel=ylabel,\n",
    "    )\n",
    "\n",
    "plt.tight_layout()\n",
    "plt.show()"
   ]
  },
  {
   "cell_type": "code",
   "execution_count": 74,
   "id": "89a1216c-ed49-4110-8dd7-429dff075b71",
   "metadata": {},
   "outputs": [
    {
     "data": {
      "text/plain": [
       "['bfs_maze3_1000_train=False',\n",
       " 'bfs_maze3_150_train=False',\n",
       " 'bfs_maze3_open_1000_train=False',\n",
       " 'bfs_maze3_open_150_train=False',\n",
       " 'dfs_maze3_1000_train=False',\n",
       " 'dfs_maze3_150_train=False',\n",
       " 'dfs_maze3_open_1000_train=False',\n",
       " 'dfs_maze3_open_150_train=False',\n",
       " 'dynaq_shared_maze3_open_train=False',\n",
       " 'dynaq_shared_maze3_open_train=True',\n",
       " 'dynaq_shared_maze3_train=False',\n",
       " 'dynaq_shared_maze3_train=True',\n",
       " 'qlearning_maze3_open_train=False',\n",
       " 'qlearning_maze3_open_train=True',\n",
       " 'qlearning_maze3_train=False',\n",
       " 'qlearning_maze3_train=True']"
      ]
     },
     "execution_count": 74,
     "metadata": {},
     "output_type": "execute_result"
    }
   ],
   "source": [
    "# show off-task dyna path\n",
    "\n",
    "sorted(list(results.keys()))"
   ]
  },
  {
   "cell_type": "code",
   "execution_count": 165,
   "id": "6b561cad-f7fb-4556-806b-70a05261ae94",
   "metadata": {},
   "outputs": [
    {
     "data": {
      "image/png": "[encoded data removed]",
      "text/plain": [
       "<Figure size 500x500 with 1 Axes>"
      ]
     },
     "metadata": {},
     "output_type": "display_data"
    }
   ],
   "source": [
    "def render_model_path(traj, ep_idx = 0, ax=None):\n",
    "    # get actions that are in episode\n",
    "    in_episode = housemaze_analysis.get_in_episode(traj.timestep)[ep_idx]\n",
    "    actions = traj.action[ep_idx][in_episode][:-1]\n",
    "    # positions in episode\n",
    "    positions = jax.tree_map(lambda x: x[ep_idx][in_episode][:-1], traj.timestep.state.agent_pos)\n",
    "\n",
    "    state_0 = jax.tree_map(lambda x: x[ep_idx, 0], traj.timestep.state)\n",
    "    \n",
    "    # doesn't matter\n",
    "    maze_height, maze_width, _ = traj.timestep.state.grid[0,0].shape\n",
    "    \n",
    "    fig, ax = plt.subplots(1, figsize=(5, 5))\n",
    "    img = housemaze_render_fn(state_0)\n",
    "    renderer.place_arrows_on_image(img, positions, actions, maze_height, maze_width, arrow_scale=5, ax=ax)\n",
    "\n",
    "render_model_path(results['dynaq_shared_maze3_open_train=False'])"
   ]
  },
  {
   "cell_type": "code",
   "execution_count": 166,
   "id": "49d64cdd-d37d-4e5d-9462-9ce876448448",
   "metadata": {},
   "outputs": [
    {
     "data": {
      "image/png": "[encoded data removed]",
      "text/plain": [
       "<Figure size 500x500 with 1 Axes>"
      ]
     },
     "metadata": {},
     "output_type": "display_data"
    }
   ],
   "source": [
    "render_model_path(results['dynaq_shared_maze3_train=False'])"
   ]
  },
  {
   "cell_type": "code",
   "execution_count": 195,
   "id": "41e78771-96f8-40d9-8341-7305858235a9",
   "metadata": {},
   "outputs": [
    {
     "name": "stdout",
     "output_type": "stream",
     "text": [
      "[1784718894 3813648515]\n",
      "83\n"
     ]
    },
    {
     "data": {
      "image/png": "[encoded data removed]",
      "text/plain": [
       "<Figure size 500x500 with 1 Axes>"
      ]
     },
     "metadata": {},
     "output_type": "display_data"
    }
   ],
   "source": [
    "def collect_search_success(env_params, algo, budget=150, seed=0):\n",
    "    objs = env_params.reset_params.test_objects\n",
    "\n",
    "    map_init = jax.tree_map(lambda x:x[0], env_params.reset_params.map_init)\n",
    "    grid = np.asarray(map_init.grid)\n",
    "    agent_pos = tuple(int(o) for o in map_init.agent_pos)\n",
    "\n",
    "    path = None\n",
    "    o = objs[0]\n",
    "    goal = np.array([o])\n",
    "    rng = jax.random.PRNGKey(seed)\n",
    "    while path is None:\n",
    "        rng, rng_ = jax.random.split(rng)\n",
    "        print(rng_)\n",
    "        path, iterations = algo(grid, agent_pos, goal, key=rng_, budget=budget)\n",
    "    print(iterations)\n",
    "    return path\n",
    "\n",
    "def render_search_path(positions, env_params):\n",
    "    map_init = jax.tree_map(lambda x:x[0], env_params.reset_params.map_init)\n",
    "    grid = np.asarray(map_init.grid)    \n",
    "    actions = utils.actions_from_path(positions)\n",
    "    \n",
    "    # doesn't matter\n",
    "    maze_height, maze_width, _ = grid.shape\n",
    "    \n",
    "    img = renderer.create_image_from_grid(\n",
    "        map_init.grid,\n",
    "        map_init.agent_pos,\n",
    "        map_init.agent_dir,\n",
    "        image_dict)\n",
    "    renderer.place_arrows_on_image(img, positions, actions, maze_height, maze_width)\n",
    "\n",
    "env_params = maze3_open_params\n",
    "budget = 150\n",
    "path = collect_search_success(env_params=env_params, algo=utils.dfs, budget=budget, seed=5)\n",
    "render_search_path(path, env_params)"
   ]
  },
  {
   "cell_type": "code",
   "execution_count": null,
   "id": "86155645-84e0-49b9-9fe6-ae936a306c59",
   "metadata": {},
   "outputs": [],
   "source": []
  }
 ],
 "metadata": {
  "kernelspec": {
   "display_name": "Python [conda env:.conda-jaxneurorl]",
   "language": "python",
   "name": "conda-env-.conda-jaxneurorl-py"
  },
  "language_info": {
   "codemirror_mode": {
    "name": "ipython",
    "version": 3
   },
   "file_extension": ".py",
   "mimetype": "text/x-python",
   "name": "python",
   "nbconvert_exporter": "python",
   "pygments_lexer": "ipython3",
   "version": "3.10.9"
  }
 },
 "nbformat": 4,
 "nbformat_minor": 5
}
