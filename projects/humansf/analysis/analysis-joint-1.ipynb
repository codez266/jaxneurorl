{
 "cells": [
  {
   "cell_type": "code",
   "execution_count": 1,
   "id": "e3e798c0-eb0c-4512-95e4-9f54068f9a8a",
   "metadata": {},
   "outputs": [],
   "source": [
    "%load_ext autoreload\n",
    "%autoreload 2"
   ]
  },
  {
   "cell_type": "code",
   "execution_count": 2,
   "id": "21a07b38-c10e-49a3-955d-1e68ad7cc6f7",
   "metadata": {},
   "outputs": [
    {
     "name": "stdout",
     "output_type": "stream",
     "text": [
      "at directory: /Users/wilka/git/research/jaxneurorl/projects/humansf/analysis\n",
      "changing to root directory\n",
      "at directory: /Users/wilka/git/research/jaxneurorl\n"
     ]
    }
   ],
   "source": [
    "import os\n",
    "import sys\n",
    "print(\"at directory:\", os.getcwd())\n",
    "print(\"changing to root directory\")\n",
    "os.chdir(\"../../..\")\n",
    "print(\"at directory:\", os.getcwd())"
   ]
  },
  {
   "cell_type": "code",
   "execution_count": 3,
   "id": "b15ed016-6968-49e7-a86c-8d833e1639ea",
   "metadata": {},
   "outputs": [],
   "source": [
    "# !pip install google-cloud-storage\n",
    "# !pip install git+https://github.com/wcarvalho/nicewebrl --no-deps\n",
    "# !pip install ipywidgets\n",
    "# !pip install polars\n",
    "# !pip install nicegui"
   ]
  },
  {
   "cell_type": "code",
   "execution_count": 4,
   "id": "ffeb054f-cbbb-4cde-8c11-d8266f4a625f",
   "metadata": {},
   "outputs": [
    {
     "name": "stderr",
     "output_type": "stream",
     "text": [
      "\u001b[34m\u001b[1mwandb\u001b[0m: \u001b[33mWARNING\u001b[0m `wandb.require('core')` is redundant as it is now the default behavior.\n"
     ]
    },
    {
     "name": "stdout",
     "output_type": "stream",
     "text": [
      "No file specified for image dict.\n",
      "Using: /Users/wilka/git/research/jaxneurorl/libraries/housemaze/housemaze/image_data.pkl\n",
      "No file specified for image dict.\n",
      "Using: /Users/wilka/git/research/jaxneurorl/libraries/housemaze/housemaze/image_data.pkl\n",
      "No file specified for groups.\n",
      "Using: /Users/wilka/git/research/jaxneurorl/libraries/housemaze/housemaze/human_dyna/list_of_groups.npy\n"
     ]
    },
    {
     "name": "stderr",
     "output_type": "stream",
     "text": [
      "/Users/wilka/miniforge3/envs/jaxneurorl/lib/python3.10/site-packages/distrax/_src/utils/conversion.py:145: UserWarning: Explicitly requested dtype <class 'jax.numpy.float64'> requested in astype is not available, and will be truncated to dtype float32. To enable more dtypes, set the jax_enable_x64 configuration option or the JAX_ENABLE_X64 shell environment variable. See https://github.com/google/jax#current-gotchas for more.\n",
      "  return x.astype(jnp.float_)\n"
     ]
    }
   ],
   "source": [
    "import jax\n",
    "import jax.numpy as jnp\n",
    "import functools\n",
    "import pandas as pd\n",
    "import numpy as np\n",
    "from glob import glob\n",
    "import matplotlib.pyplot as plt\n",
    "import polars as pl\n",
    "\n",
    "from projects.humansf import data_loading\n",
    "from projects.humansf import housemaze_analysis\n",
    "from projects.humansf import data_loading\n",
    "from projects.humansf import housemaze_trainer\n",
    "from projects.humansf import housemaze_experiments\n",
    "from projects.humansf import networks\n",
    "from housemaze.human_dyna import mazes\n",
    "\n",
    "from housemaze import renderer\n",
    "from housemaze import utils\n",
    "from housemaze.human_dyna import multitask_env as maze\n",
    "from jaxneurorl import launcher\n",
    "from jaxneurorl.agents import value_based_basics as vbb\n"
   ]
  },
  {
   "cell_type": "code",
   "execution_count": 49,
   "id": "789c171f-2829-4b72-a330-589000408752",
   "metadata": {},
   "outputs": [],
   "source": [
    "data_dir = '/n/holylfs06/LABS/kempner_fellow_wcarvalho/results/jaxrl_result/housemaze_trainer'"
   ]
  },
  {
   "cell_type": "code",
   "execution_count": 31,
   "id": "fc47675b-8ae9-4212-9852-8a2b62a295c5",
   "metadata": {},
   "outputs": [],
   "source": [
    "experiments = [\n",
    "   'exp1_block1',\n",
    "   'exp1_block2',\n",
    "   'exp1_block3',\n",
    "   # 'exp1_block4',\n",
    "]\n",
    "dummy_env_params = housemaze_analysis.get_params()\n",
    "dummy_rng = jax.random.PRNGKey(42)\n",
    "task_runner = maze.TaskRunner(task_objects=housemaze_analysis.task_objects)\n",
    "env = maze.HouseMaze(\n",
    "    task_runner=task_runner,\n",
    "    num_categories=200,\n",
    ")\n",
    "env = utils.AutoResetWrapper(env)\n",
    "nenvs=25\n",
    "example_timestep = env.reset(dummy_rng, dummy_env_params)"
   ]
  },
  {
   "cell_type": "markdown",
   "id": "f46ac272-29f5-4d86-bbd3-10a379b065d7",
   "metadata": {},
   "source": [
    "# Setup databases\n",
    "\n",
    "For every algorithm, for every experiment, we will\n",
    "1. load the algorithm\n",
    "2. collect K=100 episodes for that algorithm on task objects, we can choose multiple or 1 task object. \n",
    "    we'll always use the 1st task object from the train and test sets\n",
    "3. for each of these K episodes, we're going to create an entry inside a polars dataframe including (1) whether eval or not, (2) algorithm (3) experiment (4) room (5) task_idx\n",
    "\n",
    "We'll want to options\n",
    "1. if we reload this script, if possible load (a) algorithm df and (b) algorithm episodes from trajectory and don't recompute\n",
    "3. option to force recomputation and overwrite data on disk\n",
    "\n",
    "\n",
    "In the end, we'll have dfs for every algorithm and an episode dict which goes (alg:list). we'll use these to two subselect data for different algorithms. we'll write a small select function which takes in this merged df and this episode dict\n",
    "\n",
    "\n",
    "\n",
    "\n",
    "We'll want to re-do this for users\\"
   ]
  },
  {
   "cell_type": "code",
   "execution_count": 54,
   "id": "a4036754-4371-4e85-942d-dee65b2bf666",
   "metadata": {},
   "outputs": [
    {
     "name": "stdout",
     "output_type": "stream",
     "text": [
      "No file specified for groups.\n",
      "Using: /n/home13/wcarvalho/projects/marl/libraries/housemaze/housemaze/human_dyna/list_of_groups.npy\n"
     ]
    }
   ],
   "source": [
    "model_df_list = []\n",
    "model_episodes_list = []"
   ]
  },
  {
   "cell_type": "markdown",
   "id": "8d04ef99-5c43-4e03-b11e-5d9ebdb40d72",
   "metadata": {},
   "source": [
    "### Q-learning"
   ]
  },
  {
   "cell_type": "code",
   "execution_count": 55,
   "id": "2c38b53a-e458-4762-9dbc-562aaccd66f6",
   "metadata": {},
   "outputs": [
    {
     "name": "stdout",
     "output_type": "stream",
     "text": [
      "No file specified for groups.\n",
      "Using: /n/home13/wcarvalho/projects/marl/libraries/housemaze/housemaze/human_dyna/list_of_groups.npy\n"
     ]
    },
    {
     "ename": "ModuleNotFoundError",
     "evalue": "No module named 'housemaze.human_dyna.env'",
     "output_type": "error",
     "traceback": [
      "\u001b[0;31m---------------------------------------------------------------------------\u001b[0m",
      "\u001b[0;31mModuleNotFoundError\u001b[0m                       Traceback (most recent call last)",
      "Cell \u001b[0;32mIn[55], line 11\u001b[0m\n\u001b[1;32m      2\u001b[0m \u001b[38;5;28;01mfor\u001b[39;00m idx, exp \u001b[38;5;129;01min\u001b[39;00m \u001b[38;5;28menumerate\u001b[39m(experiments):\n\u001b[1;32m      3\u001b[0m     algorithm \u001b[38;5;241m=\u001b[39m data_loading\u001b[38;5;241m.\u001b[39mload_algorithm(\n\u001b[1;32m      4\u001b[0m         path\u001b[38;5;241m=\u001b[39m\u001b[38;5;124mf\u001b[39m\u001b[38;5;124m'\u001b[39m\u001b[38;5;132;01m{\u001b[39;00mdata_dir\u001b[38;5;132;01m}\u001b[39;00m\u001b[38;5;124m/ql/save_data/ql-20/exp=\u001b[39m\u001b[38;5;132;01m{\u001b[39;00mexp\u001b[38;5;132;01m}\u001b[39;00m\u001b[38;5;124m/seed=1\u001b[39m\u001b[38;5;124m'\u001b[39m,\n\u001b[1;32m      5\u001b[0m         name\u001b[38;5;241m=\u001b[39m\u001b[38;5;124m'\u001b[39m\u001b[38;5;124mqlearning\u001b[39m\u001b[38;5;124m'\u001b[39m,\n\u001b[0;32m   (...)\u001b[0m\n\u001b[1;32m      9\u001b[0m         nenvs\u001b[38;5;241m=\u001b[39mnenvs,\n\u001b[1;32m     10\u001b[0m     )\n\u001b[0;32m---> 11\u001b[0m     df, episodes \u001b[38;5;241m=\u001b[39m \u001b[43mhousemaze_analysis\u001b[49m\u001b[38;5;241;43m.\u001b[39;49m\u001b[43mget_algorithm_data\u001b[49m\u001b[43m(\u001b[49m\n\u001b[1;32m     12\u001b[0m \u001b[43m        \u001b[49m\u001b[43malgorithm\u001b[49m\u001b[38;5;241;43m=\u001b[39;49m\u001b[43malgorithm\u001b[49m\u001b[43m,\u001b[49m\n\u001b[1;32m     13\u001b[0m \u001b[43m        \u001b[49m\u001b[43mexp\u001b[49m\u001b[38;5;241;43m=\u001b[39;49m\u001b[43mexp\u001b[49m\u001b[43m,\u001b[49m\n\u001b[1;32m     14\u001b[0m \u001b[43m        \u001b[49m\u001b[43moverwrite\u001b[49m\u001b[38;5;241;43m=\u001b[39;49m\u001b[38;5;28;43;01mFalse\u001b[39;49;00m\u001b[43m,\u001b[49m\n\u001b[1;32m     15\u001b[0m \u001b[43m      \u001b[49m\u001b[43m)\u001b[49m\n\u001b[1;32m     16\u001b[0m     model_df_list\u001b[38;5;241m.\u001b[39mappend(df)\n\u001b[1;32m     17\u001b[0m     model_episodes_list\u001b[38;5;241m.\u001b[39mextend(episodes)\n",
      "File \u001b[0;32m~/projects/marl/projects/humansf/housemaze_analysis.py:58\u001b[0m, in \u001b[0;36mget_algorithm_data\u001b[0;34m(algorithm, exp, overwrite)\u001b[0m\n\u001b[1;32m     56\u001b[0m   df \u001b[38;5;241m=\u001b[39m pl\u001b[38;5;241m.\u001b[39mread_csv(df_filename)\n\u001b[1;32m     57\u001b[0m   \u001b[38;5;28;01mwith\u001b[39;00m \u001b[38;5;28mopen\u001b[39m(timesteps_filename, \u001b[38;5;124m'\u001b[39m\u001b[38;5;124mrb\u001b[39m\u001b[38;5;124m'\u001b[39m) \u001b[38;5;28;01mas\u001b[39;00m f:\n\u001b[0;32m---> 58\u001b[0m     all_episodes \u001b[38;5;241m=\u001b[39m \u001b[43mpickle\u001b[49m\u001b[38;5;241;43m.\u001b[39;49m\u001b[43mload\u001b[49m\u001b[43m(\u001b[49m\u001b[43mf\u001b[49m\u001b[43m)\u001b[49m\n\u001b[1;32m     60\u001b[0m   \u001b[38;5;28;01mreturn\u001b[39;00m df, all_episodes\n\u001b[1;32m     62\u001b[0m \u001b[38;5;66;03m##############################\u001b[39;00m\n\u001b[1;32m     63\u001b[0m \u001b[38;5;66;03m# create data and return\u001b[39;00m\n\u001b[1;32m     64\u001b[0m \u001b[38;5;66;03m##############################\u001b[39;00m\n",
      "\u001b[0;31mModuleNotFoundError\u001b[0m: No module named 'housemaze.human_dyna.env'"
     ]
    }
   ],
   "source": [
    "# Q-learning\n",
    "for idx, exp in enumerate(experiments):\n",
    "    algorithm = data_loading.load_algorithm(\n",
    "        path=f'{data_dir}/ql/save_data/ql-20/exp={exp}/seed=1',\n",
    "        name='qlearning',\n",
    "        make_fns=housemaze_trainer.get_qlearning_fns,\n",
    "        env=env,\n",
    "        example_env_params=dummy_env_params,\n",
    "        nenvs=nenvs,\n",
    "    )\n",
    "    df, episodes = housemaze_analysis.get_algorithm_data(\n",
    "        algorithm=algorithm,\n",
    "        exp=exp,\n",
    "        overwrite=False,\n",
    "      )\n",
    "    model_df_list.append(df)\n",
    "    model_episodes_list.extend(episodes)\n",
    "\n"
   ]
  },
  {
   "cell_type": "code",
   "execution_count": null,
   "id": "819aafed-8994-40b7-858b-30c374863e50",
   "metadata": {},
   "outputs": [],
   "source": [
    "def first(eps): return jax.tree_map(lambda x:x[0], eps)\n",
    "housemaze_analysis.render_path(first(episodes[0]))\n",
    "df"
   ]
  },
  {
   "cell_type": "markdown",
   "id": "83092fbf-3cc7-4bb6-8b3d-8bc1d49ca49a",
   "metadata": {},
   "source": [
    "### Dyna-Q"
   ]
  },
  {
   "cell_type": "code",
   "execution_count": null,
   "id": "16472ca6-be2e-467c-b39e-bff45f12220b",
   "metadata": {},
   "outputs": [],
   "source": [
    "# Dyna Q\n",
    "glob(f'{data_dir}/dynaq_shared/save_data/*/*exp={exp}/*')"
   ]
  },
  {
   "cell_type": "code",
   "execution_count": null,
   "id": "7a301aae-33fd-48e0-a301-811607e322e7",
   "metadata": {},
   "outputs": [],
   "source": [
    "for idx, exp in enumerate(experiments):\n",
    "    path = glob(f'{data_dir}/dynaq_shared/save_data/*/*exp={exp}/*')[0]\n",
    "    algorithm = data_loading.load_algorithm(\n",
    "        path=path,\n",
    "        name='dynaq_shared',\n",
    "        make_fns=functools.partial(housemaze_trainer.get_dynaq_fns,\n",
    "            env=env,\n",
    "            env_params=dummy_env_params,\n",
    "            task_objects=housemaze_analysis.task_objects),\n",
    "        env=env,\n",
    "        example_env_params=dummy_env_params,\n",
    "        nenvs=nenvs)\n",
    "    df, episodes = housemaze_analysis.get_algorithm_data(\n",
    "        algorithm=algorithm,\n",
    "        exp=exp,\n",
    "        overwrite=True,\n",
    "      )\n",
    "    model_df_list.append(df)\n",
    "    model_episodes_list.extend(episodes)\n",
    "\n"
   ]
  },
  {
   "cell_type": "code",
   "execution_count": null,
   "id": "d110f2e4-ad77-4b95-8c7a-bf83417971d6",
   "metadata": {},
   "outputs": [],
   "source": [
    "housemaze_analysis.render_path(first(episodes[0]))"
   ]
  },
  {
   "cell_type": "markdown",
   "id": "57b89913-9b9a-44aa-a451-402d98328473",
   "metadata": {},
   "source": [
    "#### BFS/DFS"
   ]
  },
  {
   "cell_type": "code",
   "execution_count": null,
   "id": "22f49e1b-2e54-448e-852a-da39978c9d9f",
   "metadata": {},
   "outputs": [],
   "source": [
    "for idx, exp in enumerate(experiments):\n",
    "    for algorithm in ['bfs', 'dfs']:\n",
    "        df, episodes = housemaze_analysis.get_search_data(\n",
    "            algorithm=algorithm,\n",
    "            env=env,\n",
    "            exp=exp,\n",
    "            base_path=f'{data_dir}/search_algos',\n",
    "            budget=None,\n",
    "            overwrite=False,\n",
    "            searches=10,\n",
    "          )\n",
    "        model_df_list.append(df)\n",
    "        model_episodes_list.extend(episodes)\n",
    "        break\n",
    "    break"
   ]
  },
  {
   "cell_type": "code",
   "execution_count": null,
   "id": "43c99ea0-17c4-4099-96c2-72cb4bb661c0",
   "metadata": {},
   "outputs": [],
   "source": [
    "housemaze_analysis.render_path(first(episodes[0]))\n",
    "# housemaze_analysis.render_path(\n",
    "#     timesteps=episodes[0].timesteps[0],\n",
    "#     actions=episodes[0].actions[0],\n",
    "#     from_model=False)"
   ]
  },
  {
   "cell_type": "markdown",
   "id": "da91ab73-8acc-41a6-a347-334d8396e725",
   "metadata": {},
   "source": [
    "# put all model things together now"
   ]
  },
  {
   "cell_type": "code",
   "execution_count": null,
   "id": "2aebd1c9-e1a0-4913-9325-e34692d63f42",
   "metadata": {},
   "outputs": [],
   "source": [
    "model_df = pl.concat(model_df_list).with_row_count(name=\"index\").with_columns(\n",
    "    pl.col(\"index\").add(1).alias(\"index\"))\n",
    "model_df"
   ]
  },
  {
   "cell_type": "code",
   "execution_count": null,
   "id": "8b6d024f-8c6c-4e7a-b278-5b112aa1982e",
   "metadata": {},
   "outputs": [],
   "source": []
  },
  {
   "cell_type": "markdown",
   "id": "6eedf091-92a3-437d-ae65-297aa34cf73c",
   "metadata": {},
   "source": [
    "# Okay, now getting human df and data"
   ]
  },
  {
   "cell_type": "code",
   "execution_count": null,
   "id": "1d6bdb4c-deec-4a80-8567-5b169000f7db",
   "metadata": {},
   "outputs": [
    {
     "name": "stdout",
     "output_type": "stream",
     "text": [
      "\u001b[33mWARNING: Ignoring invalid distribution -axlib (/n/home13/wcarvalho/.local/lib/python3.10/site-packages)\u001b[0m\u001b[33m\n",
      "\u001b[0m\u001b[33mWARNING: Ignoring invalid distribution -axlib (/n/home13/wcarvalho/.local/lib/python3.10/site-packages)\u001b[0m\u001b[33m\n",
      "\u001b[0mRequirement already satisfied: google-cloud-storage in /n/home13/wcarvalho/.conda/envs/jaxneurorl/lib/python3.10/site-packages (2.18.2)\n",
      "Requirement already satisfied: google-auth<3.0dev,>=2.26.1 in /n/home13/wcarvalho/.conda/envs/jaxneurorl/lib/python3.10/site-packages (from google-cloud-storage) (2.34.0)\n",
      "Requirement already satisfied: google-api-core<3.0.0dev,>=2.15.0 in /n/home13/wcarvalho/.conda/envs/jaxneurorl/lib/python3.10/site-packages (from google-cloud-storage) (2.19.2)\n",
      "Requirement already satisfied: google-cloud-core<3.0dev,>=2.3.0 in /n/home13/wcarvalho/.conda/envs/jaxneurorl/lib/python3.10/site-packages (from google-cloud-storage) (2.4.1)\n",
      "Requirement already satisfied: google-resumable-media>=2.7.2 in /n/home13/wcarvalho/.conda/envs/jaxneurorl/lib/python3.10/site-packages (from google-cloud-storage) (2.7.2)\n",
      "Requirement already satisfied: requests<3.0.0dev,>=2.18.0 in /n/home13/wcarvalho/.conda/envs/jaxneurorl/lib/python3.10/site-packages (from google-cloud-storage) (2.31.0)\n",
      "Requirement already satisfied: google-crc32c<2.0dev,>=1.0 in /n/home13/wcarvalho/.conda/envs/jaxneurorl/lib/python3.10/site-packages (from google-cloud-storage) (1.6.0)\n",
      "Requirement already satisfied: googleapis-common-protos<2.0.dev0,>=1.56.2 in /n/home13/wcarvalho/.conda/envs/jaxneurorl/lib/python3.10/site-packages (from google-api-core<3.0.0dev,>=2.15.0->google-cloud-storage) (1.65.0)\n",
      "Requirement already satisfied: protobuf!=3.20.0,!=3.20.1,!=4.21.0,!=4.21.1,!=4.21.2,!=4.21.3,!=4.21.4,!=4.21.5,<6.0.0.dev0,>=3.19.5 in /n/home13/wcarvalho/.local/lib/python3.10/site-packages (from google-api-core<3.0.0dev,>=2.15.0->google-cloud-storage) (4.24.3)\n",
      "Requirement already satisfied: proto-plus<2.0.0dev,>=1.22.3 in /n/home13/wcarvalho/.conda/envs/jaxneurorl/lib/python3.10/site-packages (from google-api-core<3.0.0dev,>=2.15.0->google-cloud-storage) (1.24.0)\n",
      "Requirement already satisfied: cachetools<6.0,>=2.0.0 in /n/home13/wcarvalho/.conda/envs/jaxneurorl/lib/python3.10/site-packages (from google-auth<3.0dev,>=2.26.1->google-cloud-storage) (5.5.0)\n",
      "Requirement already satisfied: pyasn1-modules>=0.2.1 in /n/home13/wcarvalho/.conda/envs/jaxneurorl/lib/python3.10/site-packages (from google-auth<3.0dev,>=2.26.1->google-cloud-storage) (0.4.1)\n",
      "Requirement already satisfied: rsa<5,>=3.1.4 in /n/home13/wcarvalho/.conda/envs/jaxneurorl/lib/python3.10/site-packages (from google-auth<3.0dev,>=2.26.1->google-cloud-storage) (4.9)\n",
      "Requirement already satisfied: charset-normalizer<4,>=2 in /n/home13/wcarvalho/.conda/envs/jaxneurorl/lib/python3.10/site-packages (from requests<3.0.0dev,>=2.18.0->google-cloud-storage) (3.3.2)\n",
      "Requirement already satisfied: idna<4,>=2.5 in /n/home13/wcarvalho/.conda/envs/jaxneurorl/lib/python3.10/site-packages (from requests<3.0.0dev,>=2.18.0->google-cloud-storage) (3.7)\n",
      "Requirement already satisfied: urllib3<3,>=1.21.1 in /n/home13/wcarvalho/.conda/envs/jaxneurorl/lib/python3.10/site-packages (from requests<3.0.0dev,>=2.18.0->google-cloud-storage) (2.2.1)\n",
      "Requirement already satisfied: certifi>=2017.4.17 in /n/home13/wcarvalho/.conda/envs/jaxneurorl/lib/python3.10/site-packages (from requests<3.0.0dev,>=2.18.0->google-cloud-storage) (2024.2.2)\n",
      "Requirement already satisfied: pyasn1<0.7.0,>=0.4.6 in /n/home13/wcarvalho/.conda/envs/jaxneurorl/lib/python3.10/site-packages (from pyasn1-modules>=0.2.1->google-auth<3.0dev,>=2.26.1->google-cloud-storage) (0.6.1)\n"
     ]
    }
   ],
   "source": [
    "!pip install google-cloud-storage\n",
    "!pip install git+https://github.com/wcarvalho/nicewebrl --no-deps\n",
    "!pip install ipywidgets"
   ]
  },
  {
   "cell_type": "code",
   "execution_count": 5,
   "id": "073e8655-bd7d-4e35-b0e8-ce6720ef8466",
   "metadata": {},
   "outputs": [
    {
     "name": "stdout",
     "output_type": "stream",
     "text": [
      "Downloaded: data/data_user=2631242498_name=r0-v2_exp=1_debug=0.json to user_data/data_user=2631242498_name=r0-v2_exp=1_debug=0.json\n",
      "Downloaded: data/data_user=2726279625_name=r0-v2_exp=1_debug=0.json to user_data/data_user=2726279625_name=r0-v2_exp=1_debug=0.json\n",
      "Downloaded: data/data_user=3714894224_name=r0-v2_exp=1_debug=0.json to user_data/data_user=3714894224_name=r0-v2_exp=1_debug=0.json\n",
      "Downloaded: data/data_user=4026679196_name=r0-v2_exp=1_debug=0.json to user_data/data_user=4026679196_name=r0-v2_exp=1_debug=0.json\n"
     ]
    }
   ],
   "source": [
    "from projects.humansf import gcs\n",
    "# Usage\n",
    "bucket_name = \"human-dyna\"\n",
    "prefix = \"data/\"\n",
    "pattern = \"data/data_user=*_name=r0-v2*debug=0.json\"\n",
    "destination_folder = \"user_data\"\n",
    "\n",
    "gcs.download_matching_files(bucket_name, prefix, pattern, destination_folder)"
   ]
  },
  {
   "cell_type": "code",
   "execution_count": 21,
   "id": "5448ad24-71e4-4851-bbc9-62e0f7480168",
   "metadata": {},
   "outputs": [
    {
     "name": "stdout",
     "output_type": "stream",
     "text": [
      "total 1.6M\n",
      "-rw-r--r--. 1 wcarvalho kempner_fellows 7.3M Sep  8 19:06 'data_user=4026679196_name=r0-v2_exp=1_debug=0.json'\n",
      "-rw-r--r--. 1 wcarvalho kempner_fellows 7.6M Sep  8 19:36 'data_user=2726279625_name=r0-v2_exp=1_debug=0.json'\n"
     ]
    }
   ],
   "source": [
    "!ls -lhtr user_data\n",
    "# !rm user_data/*2631242498*"
   ]
  },
  {
   "cell_type": "code",
   "execution_count": 23,
   "id": "e7494f99-d9a3-4a10-808a-67b3069046be",
   "metadata": {},
   "outputs": [
    {
     "data": {
      "text/plain": [
       "['user_data/data_user=2726279625_name=r0-v2_exp=1_debug=0.json',\n",
       " 'user_data/data_user=4026679196_name=r0-v2_exp=1_debug=0.json']"
      ]
     },
     "execution_count": 23,
     "metadata": {},
     "output_type": "execute_result"
    }
   ],
   "source": [
    "import glob\n",
    "files = glob.glob(f\"{destination_folder}/*\")\n",
    "files"
   ]
  },
  {
   "cell_type": "code",
   "execution_count": 58,
   "id": "85851e0c-115a-4131-bbe6-155d32c9e95e",
   "metadata": {},
   "outputs": [
    {
     "name": "stdout",
     "output_type": "stream",
     "text": [
      "No file specified for image dict.\n",
      "Using: /n/home13/wcarvalho/projects/marl/libraries/housemaze/housemaze/image_data.pkl\n"
     ]
    },
    {
     "name": "stderr",
     "output_type": "stream",
     "text": [
      "Processing files:   0%|          | 0/2 [00:00<?, ?it/s]\n",
      "Processing episodes:   0%|          | 0/51 [00:00<?, ?it/s]\u001b[A\n",
      "Processing episodes:   2%|▏         | 1/51 [00:04<03:53,  4.67s/it]\u001b[A\n",
      "Processing episodes:   4%|▍         | 2/51 [00:09<03:54,  4.78s/it]\u001b[A\n",
      "Processing episodes:   6%|▌         | 3/51 [00:17<04:56,  6.17s/it]\u001b[A\n",
      "Processing episodes:   8%|▊         | 4/51 [00:17<02:59,  3.82s/it]\u001b[A\n",
      "Processing episodes:  10%|▉         | 5/51 [00:24<03:54,  5.11s/it]\u001b[A\n",
      "Processing episodes:  12%|█▏        | 6/51 [00:29<03:33,  4.76s/it]\u001b[A\n",
      "Processing episodes:  14%|█▎        | 7/51 [00:34<03:37,  4.94s/it]\u001b[A\n",
      "Processing episodes:  16%|█▌        | 8/51 [00:44<04:41,  6.54s/it]\u001b[A\n",
      "Processing episodes:  18%|█▊        | 9/51 [00:51<04:48,  6.88s/it]\u001b[A\n",
      "Processing episodes:  20%|█▉        | 10/51 [01:00<05:09,  7.55s/it]\u001b[A\n",
      "Processing episodes:  22%|██▏       | 11/51 [01:03<04:03,  6.09s/it]\u001b[A\n",
      "Processing episodes:  24%|██▎       | 12/51 [01:12<04:30,  6.95s/it]\u001b[A\n",
      "Processing episodes:  25%|██▌       | 13/51 [01:23<05:08,  8.11s/it]\u001b[A\n",
      "Processing episodes:  27%|██▋       | 14/51 [01:32<05:06,  8.27s/it]\u001b[A\n",
      "Processing episodes:  29%|██▉       | 15/51 [01:34<03:58,  6.61s/it]\u001b[A\n",
      "Processing episodes:  31%|███▏      | 16/51 [01:35<02:44,  4.69s/it]\u001b[A\n",
      "Processing episodes:  33%|███▎      | 17/51 [01:43<03:22,  5.95s/it]\u001b[A\n",
      "Processing episodes:  35%|███▌      | 18/51 [01:52<03:43,  6.77s/it]\u001b[A\n",
      "Processing episodes:  37%|███▋      | 19/51 [02:01<03:52,  7.28s/it]\u001b[A\n",
      "Processing episodes:  39%|███▉      | 20/51 [02:07<03:41,  7.13s/it]\u001b[A\n",
      "Processing episodes:  41%|████      | 21/51 [02:08<02:31,  5.05s/it]\u001b[A\n",
      "Processing episodes:  43%|████▎     | 22/51 [02:17<03:01,  6.27s/it]\u001b[A\n",
      "Processing episodes:  45%|████▌     | 23/51 [02:22<02:47,  5.97s/it]\u001b[A\n",
      "Processing episodes:  47%|████▋     | 24/51 [02:28<02:40,  5.96s/it]\u001b[A\n",
      "Processing episodes:  49%|████▉     | 25/51 [02:31<02:14,  5.18s/it]\u001b[A\n",
      "Processing episodes:  51%|█████     | 26/51 [02:38<02:18,  5.53s/it]\u001b[A\n",
      "Processing episodes:  53%|█████▎    | 27/51 [02:43<02:12,  5.52s/it]\u001b[A\n",
      "Processing episodes:  55%|█████▍    | 28/51 [02:46<01:49,  4.75s/it]\u001b[A\n",
      "Processing episodes:  57%|█████▋    | 29/51 [02:46<01:14,  3.39s/it]\u001b[A\n",
      "Processing episodes:  59%|█████▉    | 30/51 [02:57<01:57,  5.60s/it]\u001b[A\n",
      "Processing episodes:  61%|██████    | 31/51 [03:01<01:40,  5.00s/it]\u001b[A\n",
      "Processing episodes:  63%|██████▎   | 32/51 [03:05<01:30,  4.77s/it]\u001b[A\n",
      "Processing episodes:  65%|██████▍   | 33/51 [03:12<01:40,  5.56s/it]\u001b[A\n",
      "Processing episodes:  67%|██████▋   | 34/51 [03:17<01:30,  5.35s/it]\u001b[A\n",
      "Processing episodes:  69%|██████▊   | 35/51 [03:26<01:44,  6.52s/it]\u001b[A\n",
      "Processing episodes:  71%|███████   | 36/51 [03:33<01:37,  6.52s/it]\u001b[A\n",
      "Processing episodes:  73%|███████▎  | 37/51 [03:45<01:53,  8.11s/it]\u001b[A\n",
      "Processing episodes:  75%|███████▍  | 38/51 [03:52<01:43,  7.97s/it]\u001b[A\n",
      "Processing episodes:  76%|███████▋  | 39/51 [04:00<01:34,  7.87s/it]\u001b[A\n",
      "Processing episodes:  78%|███████▊  | 40/51 [04:04<01:15,  6.84s/it]\u001b[A\n",
      "Processing episodes:  80%|████████  | 41/51 [04:12<01:09,  6.96s/it]\u001b[A\n",
      "Processing episodes:  82%|████████▏ | 42/51 [04:19<01:02,  6.97s/it]\u001b[A\n",
      "Processing episodes:  84%|████████▍ | 43/51 [04:19<00:39,  4.94s/it]\u001b[A\n",
      "Processing episodes:  86%|████████▋ | 44/51 [04:27<00:40,  5.81s/it]\u001b[A\n",
      "Processing episodes:  88%|████████▊ | 45/51 [04:33<00:35,  5.90s/it]\u001b[A\n",
      "Processing episodes:  90%|█████████ | 46/51 [04:39<00:29,  5.91s/it]\u001b[A\n",
      "Processing episodes:  92%|█████████▏| 47/51 [04:46<00:24,  6.16s/it]\u001b[A\n",
      "Processing episodes:  94%|█████████▍| 48/51 [04:54<00:20,  6.85s/it]\u001b[A\n",
      "Processing episodes:  96%|█████████▌| 49/51 [05:01<00:13,  6.83s/it]\u001b[A\n",
      "Processing episodes:  98%|█████████▊| 50/51 [05:07<00:06,  6.56s/it]\u001b[A\n",
      "Processing episodes: 100%|██████████| 51/51 [05:15<00:00,  6.19s/it]\u001b[A\n",
      "Processing files:  50%|█████     | 1/2 [05:15<05:15, 315.51s/it]\n",
      "Processing episodes:   0%|          | 0/49 [00:00<?, ?it/s]\u001b[A\n",
      "Processing episodes:   2%|▏         | 1/49 [00:03<03:03,  3.83s/it]\u001b[A\n",
      "Processing episodes:   4%|▍         | 2/49 [00:04<01:20,  1.70s/it]\u001b[A\n",
      "Processing episodes:   6%|▌         | 3/49 [00:09<02:42,  3.54s/it]\u001b[A\n",
      "Processing episodes:   8%|▊         | 4/49 [00:12<02:32,  3.40s/it]\u001b[A\n",
      "Processing episodes:  10%|█         | 5/49 [00:30<06:21,  8.68s/it]\u001b[A\n",
      "Processing episodes:  12%|█▏        | 6/49 [00:37<05:39,  7.89s/it]\u001b[A\n",
      "Processing episodes:  14%|█▍        | 7/49 [00:42<04:59,  7.12s/it]\u001b[A\n",
      "Processing episodes:  16%|█▋        | 8/49 [00:50<05:04,  7.42s/it]\u001b[A\n",
      "Processing episodes:  18%|█▊        | 9/49 [00:57<04:44,  7.11s/it]\u001b[A\n",
      "Processing episodes:  20%|██        | 10/49 [01:02<04:16,  6.57s/it]\u001b[A\n",
      "Processing episodes:  22%|██▏       | 11/49 [01:09<04:07,  6.52s/it]\u001b[A\n",
      "Processing episodes:  24%|██▍       | 12/49 [01:16<04:06,  6.67s/it]\u001b[A\n",
      "Processing episodes:  27%|██▋       | 13/49 [01:24<04:13,  7.05s/it]\u001b[A\n",
      "Processing episodes:  29%|██▊       | 14/49 [01:26<03:21,  5.76s/it]\u001b[A\n",
      "Processing episodes:  31%|███       | 15/49 [01:31<03:05,  5.45s/it]\u001b[A\n",
      "Processing episodes:  33%|███▎      | 16/49 [01:41<03:43,  6.76s/it]\u001b[A\n",
      "Processing episodes:  35%|███▍      | 17/49 [01:49<03:47,  7.10s/it]\u001b[A\n",
      "Processing episodes:  37%|███▋      | 18/49 [01:53<03:11,  6.19s/it]\u001b[A\n",
      "Processing episodes:  39%|███▉      | 19/49 [02:01<03:24,  6.82s/it]\u001b[A\n",
      "Processing episodes:  41%|████      | 20/49 [02:09<03:28,  7.19s/it]\u001b[A\n",
      "Processing episodes:  43%|████▎     | 21/49 [02:13<02:49,  6.05s/it]\u001b[A\n",
      "Processing episodes:  45%|████▍     | 22/49 [02:15<02:16,  5.06s/it]\u001b[A\n",
      "Processing episodes:  47%|████▋     | 23/49 [02:24<02:39,  6.15s/it]\u001b[A\n",
      "Processing episodes:  49%|████▉     | 24/49 [02:33<02:53,  6.92s/it]\u001b[A\n",
      "Processing episodes:  51%|█████     | 25/49 [02:43<03:07,  7.83s/it]\u001b[A\n",
      "Processing episodes:  53%|█████▎    | 26/49 [02:43<02:07,  5.55s/it]\u001b[A\n",
      "Processing episodes:  55%|█████▌    | 27/49 [02:43<01:26,  3.95s/it]\u001b[A\n",
      "Processing episodes:  57%|█████▋    | 28/49 [02:51<01:48,  5.17s/it]\u001b[A\n",
      "Processing episodes:  59%|█████▉    | 29/49 [02:59<01:58,  5.92s/it]\u001b[A\n",
      "Processing episodes:  61%|██████    | 30/49 [03:03<01:41,  5.36s/it]\u001b[A\n",
      "Processing episodes:  63%|██████▎   | 31/49 [03:11<01:53,  6.29s/it]\u001b[A\n",
      "Processing episodes:  65%|██████▌   | 32/49 [03:21<02:03,  7.26s/it]\u001b[A\n",
      "Processing episodes:  67%|██████▋   | 33/49 [03:27<01:49,  6.87s/it]\u001b[A\n",
      "Processing episodes:  69%|██████▉   | 34/49 [03:31<01:33,  6.21s/it]\u001b[A\n",
      "Processing episodes:  71%|███████▏  | 35/49 [03:36<01:17,  5.56s/it]\u001b[A\n",
      "Processing episodes:  73%|███████▎  | 36/49 [03:38<01:01,  4.72s/it]\u001b[A\n",
      "Processing episodes:  76%|███████▌  | 37/49 [03:45<01:04,  5.34s/it]\u001b[A\n",
      "Processing episodes:  78%|███████▊  | 38/49 [03:51<00:59,  5.39s/it]\u001b[A\n",
      "Processing episodes:  80%|███████▉  | 39/49 [03:58<00:59,  6.00s/it]\u001b[A\n",
      "Processing episodes:  82%|████████▏ | 40/49 [04:04<00:54,  6.04s/it]\u001b[A\n",
      "Processing episodes:  84%|████████▎ | 41/49 [04:11<00:50,  6.32s/it]\u001b[A\n",
      "Processing episodes:  86%|████████▌ | 42/49 [04:20<00:49,  7.09s/it]\u001b[A\n",
      "Processing episodes:  88%|████████▊ | 43/49 [04:27<00:43,  7.18s/it]\u001b[A\n",
      "Processing episodes:  90%|████████▉ | 44/49 [04:35<00:36,  7.31s/it]\u001b[A\n",
      "Processing episodes:  92%|█████████▏| 45/49 [04:41<00:27,  6.96s/it]\u001b[A\n",
      "Processing episodes:  94%|█████████▍| 46/49 [04:47<00:19,  6.65s/it]\u001b[A\n",
      "Processing episodes:  96%|█████████▌| 47/49 [04:51<00:11,  5.93s/it]\u001b[A\n",
      "Processing episodes:  98%|█████████▊| 48/49 [04:56<00:05,  5.43s/it]\u001b[A\n",
      "Processing episodes: 100%|██████████| 49/49 [05:03<00:00,  6.20s/it]\u001b[A\n",
      "Processing files: 100%|██████████| 2/2 [10:19<00:00, 309.63s/it]\n"
     ]
    }
   ],
   "source": [
    "user_df, user_data = data_loading.make_all_episode_data(\n",
    "    files=files,\n",
    "    example_timestep=example_timestep,\n",
    "    base_path=f'{data_dir}/user_data',\n",
    "    overwrite=False,\n",
    ")"
   ]
  },
  {
   "cell_type": "code",
   "execution_count": 59,
   "id": "f265dc18-5314-4b78-8f5f-e115b74746ee",
   "metadata": {},
   "outputs": [
    {
     "name": "stdout",
     "output_type": "stream",
     "text": [
      "No file specified for image dict.\n",
      "Using: /n/home13/wcarvalho/projects/marl/libraries/housemaze/housemaze/image_data.pkl\n"
     ]
    },
    {
     "data": {
      "text/html": [
       "<div><style>\n",
       ".dataframe > thead > tr,\n",
       ".dataframe > tbody > tr {\n",
       "  text-align: right;\n",
       "  white-space: pre-wrap;\n",
       "}\n",
       "</style>\n",
       "<small>shape: (5, 12)</small><table border=\"1\" class=\"dataframe\"><thead><tr><th>index</th><th>stage</th><th>block</th><th>manipulation</th><th>episode_idx</th><th>eval</th><th>user_episode_idx</th><th>task</th><th>room</th><th>user_id</th><th>age</th><th>sex</th></tr><tr><td>u32</td><td>str</td><td>str</td><td>i64</td><td>i64</td><td>bool</td><td>i64</td><td>i64</td><td>i64</td><td>i64</td><td>i64</td><td>str</td></tr></thead><tbody><tr><td>1</td><td>&quot;training&quot;</td><td>&quot;probing for planning near goal&quot;</td><td>4</td><td>1</td><td>false</td><td>0</td><td>46</td><td>2</td><td>2726279625</td><td>32</td><td>&quot;Male&quot;</td></tr><tr><td>2</td><td>&quot;training&quot;</td><td>&quot;probing for planning near goal&quot;</td><td>4</td><td>2</td><td>false</td><td>1</td><td>46</td><td>2</td><td>2726279625</td><td>32</td><td>&quot;Male&quot;</td></tr><tr><td>3</td><td>&quot;training&quot;</td><td>&quot;probing for planning near goal&quot;</td><td>4</td><td>3</td><td>false</td><td>2</td><td>27</td><td>2</td><td>2726279625</td><td>32</td><td>&quot;Male&quot;</td></tr><tr><td>4</td><td>&quot;training&quot;</td><td>&quot;probing for planning near goal&quot;</td><td>4</td><td>4</td><td>false</td><td>3</td><td>46</td><td>2</td><td>2726279625</td><td>32</td><td>&quot;Male&quot;</td></tr><tr><td>5</td><td>&quot;training&quot;</td><td>&quot;probing for planning near goal&quot;</td><td>4</td><td>5</td><td>false</td><td>4</td><td>27</td><td>2</td><td>2726279625</td><td>32</td><td>&quot;Male&quot;</td></tr></tbody></table></div>"
      ],
      "text/plain": [
       "shape: (5, 12)\n",
       "┌───────┬──────────┬───────────────────────────┬──────────────┬───┬──────┬────────────┬─────┬──────┐\n",
       "│ index ┆ stage    ┆ block                     ┆ manipulation ┆ … ┆ room ┆ user_id    ┆ age ┆ sex  │\n",
       "│ ---   ┆ ---      ┆ ---                       ┆ ---          ┆   ┆ ---  ┆ ---        ┆ --- ┆ ---  │\n",
       "│ u32   ┆ str      ┆ str                       ┆ i64          ┆   ┆ i64  ┆ i64        ┆ i64 ┆ str  │\n",
       "╞═══════╪══════════╪═══════════════════════════╪══════════════╪═══╪══════╪════════════╪═════╪══════╡\n",
       "│ 1     ┆ training ┆ probing for planning near ┆ 4            ┆ … ┆ 2    ┆ 2726279625 ┆ 32  ┆ Male │\n",
       "│       ┆          ┆ goal                      ┆              ┆   ┆      ┆            ┆     ┆      │\n",
       "│ 2     ┆ training ┆ probing for planning near ┆ 4            ┆ … ┆ 2    ┆ 2726279625 ┆ 32  ┆ Male │\n",
       "│       ┆          ┆ goal                      ┆              ┆   ┆      ┆            ┆     ┆      │\n",
       "│ 3     ┆ training ┆ probing for planning near ┆ 4            ┆ … ┆ 2    ┆ 2726279625 ┆ 32  ┆ Male │\n",
       "│       ┆          ┆ goal                      ┆              ┆   ┆      ┆            ┆     ┆      │\n",
       "│ 4     ┆ training ┆ probing for planning near ┆ 4            ┆ … ┆ 2    ┆ 2726279625 ┆ 32  ┆ Male │\n",
       "│       ┆          ┆ goal                      ┆              ┆   ┆      ┆            ┆     ┆      │\n",
       "│ 5     ┆ training ┆ probing for planning near ┆ 4            ┆ … ┆ 2    ┆ 2726279625 ┆ 32  ┆ Male │\n",
       "│       ┆          ┆ goal                      ┆              ┆   ┆      ┆            ┆     ┆      │\n",
       "└───────┴──────────┴───────────────────────────┴──────────────┴───┴──────┴────────────┴─────┴──────┘"
      ]
     },
     "execution_count": 59,
     "metadata": {},
     "output_type": "execute_result"
    }
   ],
   "source": [
    "user_df.head()"
   ]
  },
  {
   "cell_type": "code",
   "execution_count": null,
   "id": "99dcdc0c-63fc-48e8-8031-dda4929ba39e",
   "metadata": {},
   "outputs": [],
   "source": []
  },
  {
   "cell_type": "code",
   "execution_count": null,
   "id": "f4fc1fea-5eb4-4451-a11a-f4d267e88103",
   "metadata": {},
   "outputs": [],
   "source": []
  },
  {
   "cell_type": "code",
   "execution_count": null,
   "id": "2fd43f21-32b4-4309-9085-022ea3c95759",
   "metadata": {},
   "outputs": [],
   "source": []
  },
  {
   "cell_type": "code",
   "execution_count": null,
   "id": "4084c7d6-42e8-4062-9cbd-bbf445e3cb80",
   "metadata": {},
   "outputs": [],
   "source": []
  },
  {
   "cell_type": "code",
   "execution_count": null,
   "id": "64a0568d-aaa7-48e1-9409-eb2a2aa69169",
   "metadata": {},
   "outputs": [],
   "source": []
  },
  {
   "cell_type": "code",
   "execution_count": null,
   "id": "f5bde91b-9742-4152-87b4-15c8964982eb",
   "metadata": {},
   "outputs": [],
   "source": []
  },
  {
   "cell_type": "code",
   "execution_count": null,
   "id": "5b9e2ef9-2d97-4aa9-b5ed-35dfb1da32bd",
   "metadata": {},
   "outputs": [],
   "source": []
  },
  {
   "cell_type": "code",
   "execution_count": null,
   "id": "47e56639-66fc-4fa9-b989-f327a2c1b9a7",
   "metadata": {},
   "outputs": [],
   "source": []
  },
  {
   "cell_type": "code",
   "execution_count": null,
   "id": "b7a32a34-7f5b-475a-9710-e7bf6ad90c93",
   "metadata": {},
   "outputs": [],
   "source": []
  },
  {
   "cell_type": "code",
   "execution_count": null,
   "id": "8ca6138f-afa8-4bca-9b1f-753386cd4d60",
   "metadata": {},
   "outputs": [],
   "source": []
  },
  {
   "cell_type": "code",
   "execution_count": null,
   "id": "c8b2b5a4-d7d1-4ccb-8967-73734bd06acb",
   "metadata": {},
   "outputs": [],
   "source": []
  },
  {
   "cell_type": "code",
   "execution_count": null,
   "id": "ca69a2a0-5fa2-4ea6-9b61-06a81b4772a1",
   "metadata": {},
   "outputs": [],
   "source": []
  },
  {
   "cell_type": "code",
   "execution_count": null,
   "id": "ac20db9e-4ffb-4704-a5c6-11df41c92477",
   "metadata": {},
   "outputs": [],
   "source": []
  },
  {
   "cell_type": "code",
   "execution_count": null,
   "id": "58e1c859-720f-4bbd-af1e-535a81b9027a",
   "metadata": {},
   "outputs": [],
   "source": []
  },
  {
   "cell_type": "code",
   "execution_count": null,
   "id": "3be7c622-e4e8-42ac-b6d3-6a21f0f297a6",
   "metadata": {},
   "outputs": [],
   "source": []
  },
  {
   "cell_type": "code",
   "execution_count": null,
   "id": "7f8436ca-dde3-4e67-a596-df9174efbf1d",
   "metadata": {},
   "outputs": [],
   "source": []
  },
  {
   "cell_type": "code",
   "execution_count": null,
   "id": "f65a0735-ef97-40d3-b560-780e349654be",
   "metadata": {},
   "outputs": [],
   "source": []
  },
  {
   "cell_type": "code",
   "execution_count": null,
   "id": "190db2d8-fe7b-4ddb-a7a4-a78abc38eb52",
   "metadata": {},
   "outputs": [],
   "source": []
  },
  {
   "cell_type": "code",
   "execution_count": null,
   "id": "7600620a-5af4-423e-9571-fcd91daaeee8",
   "metadata": {},
   "outputs": [],
   "source": []
  },
  {
   "cell_type": "code",
   "execution_count": null,
   "id": "e3eb8743-3402-4921-bf4e-bbc8fe988abf",
   "metadata": {},
   "outputs": [],
   "source": []
  },
  {
   "cell_type": "code",
   "execution_count": null,
   "id": "18beda15-6316-4094-a7de-3745787ba970",
   "metadata": {},
   "outputs": [],
   "source": []
  },
  {
   "cell_type": "code",
   "execution_count": null,
   "id": "d6a2ad73-8067-4851-a945-8614003f726b",
   "metadata": {},
   "outputs": [],
   "source": []
  },
  {
   "cell_type": "code",
   "execution_count": null,
   "id": "50610935-a529-4043-8ddb-204f0b4b9fcd",
   "metadata": {},
   "outputs": [],
   "source": []
  },
  {
   "cell_type": "code",
   "execution_count": null,
   "id": "3062861f-a7b4-4ff2-9b98-8d0e647fd75b",
   "metadata": {},
   "outputs": [],
   "source": []
  },
  {
   "cell_type": "code",
   "execution_count": null,
   "id": "b7f123dc-50e2-4de7-87a7-0e36871cfa23",
   "metadata": {},
   "outputs": [],
   "source": []
  },
  {
   "cell_type": "code",
   "execution_count": null,
   "id": "f192c267-f497-4df3-ad4f-a4963c9ff9d7",
   "metadata": {},
   "outputs": [],
   "source": []
  },
  {
   "cell_type": "code",
   "execution_count": 25,
   "id": "470e6912-0613-4bba-9a1a-16b94b9104a6",
   "metadata": {},
   "outputs": [],
   "source": [
    "\n",
    "all_data = []\n",
    "for file in files:\n",
    "    with open(file, 'r') as f:\n",
    "        all_data.extend(json.load(f))"
   ]
  },
  {
   "cell_type": "code",
   "execution_count": 56,
   "id": "6c5165bc-2ce7-48bb-bc45-c79ff6c82168",
   "metadata": {},
   "outputs": [],
   "source": [
    "grouped_data, group_info = data_loading.separate_data_by_block_stage(all_data)"
   ]
  },
  {
   "cell_type": "code",
   "execution_count": 44,
   "id": "64141371-7e2f-42e7-947b-ff45fb201913",
   "metadata": {},
   "outputs": [
    {
     "name": "stderr",
     "output_type": "stream",
     "text": [
      "\n",
      "Grouping data: 100%|██████████| 3031/3031 [00:00<00:00, 268460.26it/s]\n",
      "\n",
      "Processing episodes:   0%|          | 0/105 [00:00<?, ?it/s]\u001b[A\n",
      "Processing episodes:   1%|          | 1/105 [00:04<07:45,  4.47s/it]\u001b[A\n",
      "Processing episodes:   2%|▏         | 2/105 [00:05<04:30,  2.63s/it]\u001b[A\n",
      "Processing episodes:   3%|▎         | 3/105 [00:10<05:51,  3.45s/it]\u001b[A\n",
      "Processing episodes:   4%|▍         | 4/105 [00:15<06:46,  4.02s/it]\u001b[A\n",
      "Processing episodes:   5%|▍         | 5/105 [00:20<07:22,  4.42s/it]\u001b[A\n",
      "Processing episodes:   6%|▌         | 6/105 [00:28<09:23,  5.69s/it]\u001b[A\n",
      "Processing episodes:   7%|▋         | 7/105 [00:28<06:22,  3.90s/it]\u001b[A\n",
      "Processing episodes:   8%|▊         | 8/105 [00:36<08:16,  5.12s/it]\u001b[A\n",
      "Processing episodes:   9%|▊         | 9/105 [00:40<07:44,  4.84s/it]\u001b[A\n",
      "Processing episodes:  10%|▉         | 10/105 [00:46<08:00,  5.06s/it]\u001b[A\n",
      "Processing episodes:  10%|█         | 11/105 [00:56<10:29,  6.70s/it]\u001b[A\n",
      "Processing episodes:  11%|█▏        | 12/105 [01:04<10:59,  7.09s/it]\u001b[A\n",
      "Processing episodes:  12%|█▏        | 13/105 [01:14<12:00,  7.83s/it]\u001b[A\n",
      "Processing episodes:  13%|█▎        | 14/105 [01:16<09:36,  6.34s/it]\u001b[A\n",
      "Processing episodes:  14%|█▍        | 15/105 [01:26<10:51,  7.24s/it]\u001b[A\n",
      "Processing episodes:  15%|█▌        | 16/105 [01:37<12:31,  8.44s/it]\u001b[A\n",
      "Processing episodes:  16%|█▌        | 17/105 [01:46<12:40,  8.65s/it]\u001b[A\n",
      "Processing episodes:  17%|█▋        | 18/105 [01:49<10:01,  6.92s/it]\u001b[A\n",
      "Processing episodes:  18%|█▊        | 19/105 [01:49<07:01,  4.91s/it]\u001b[A\n",
      "Processing episodes:  19%|█▉        | 20/105 [01:59<08:47,  6.20s/it]\u001b[A\n",
      "Processing episodes:  20%|██        | 21/105 [02:08<09:56,  7.10s/it]\u001b[A\n",
      "Processing episodes:  21%|██        | 22/105 [02:17<10:33,  7.63s/it]\u001b[A\n",
      "Processing episodes:  22%|██▏       | 23/105 [02:24<10:13,  7.48s/it]\u001b[A\n",
      "Processing episodes:  23%|██▎       | 24/105 [02:24<07:09,  5.30s/it]\u001b[A\n",
      "Processing episodes:  24%|██▍       | 25/105 [02:33<08:45,  6.57s/it]\u001b[A\n",
      "Processing episodes:  25%|██▍       | 26/105 [02:39<08:14,  6.26s/it]\u001b[A\n",
      "Processing episodes:  26%|██▌       | 27/105 [02:45<08:05,  6.23s/it]\u001b[A\n",
      "Processing episodes:  27%|██▋       | 28/105 [02:49<06:57,  5.42s/it]\u001b[A\n",
      "Processing episodes:  28%|██▊       | 29/105 [02:55<07:19,  5.78s/it]\u001b[A\n",
      "Processing episodes:  29%|██▊       | 30/105 [03:01<07:13,  5.79s/it]\u001b[A\n",
      "Processing episodes:  30%|██▉       | 31/105 [03:04<06:08,  4.98s/it]\u001b[A\n",
      "Processing episodes:  30%|███       | 32/105 [03:04<04:19,  3.55s/it]\u001b[A\n",
      "Processing episodes:  31%|███▏      | 33/105 [03:16<07:03,  5.88s/it]\u001b[A\n",
      "Processing episodes:  32%|███▏      | 34/105 [03:19<06:12,  5.24s/it]\u001b[A\n",
      "Processing episodes:  33%|███▎      | 35/105 [03:24<05:50,  5.01s/it]\u001b[A\n",
      "Processing episodes:  34%|███▍      | 36/105 [03:32<06:44,  5.86s/it]\u001b[A\n",
      "Processing episodes:  35%|███▌      | 37/105 [03:37<06:23,  5.64s/it]\u001b[A\n",
      "Processing episodes:  36%|███▌      | 38/105 [03:47<07:40,  6.88s/it]\u001b[A\n",
      "Processing episodes:  37%|███▋      | 39/105 [03:54<07:34,  6.89s/it]\u001b[A\n",
      "Processing episodes:  38%|███▊      | 40/105 [04:06<09:14,  8.53s/it]\u001b[A\n",
      "Processing episodes:  39%|███▉      | 41/105 [04:14<08:55,  8.36s/it]\u001b[A\n",
      "Processing episodes:  40%|████      | 42/105 [04:22<08:40,  8.26s/it]\u001b[A\n",
      "Processing episodes:  41%|████      | 43/105 [04:27<07:25,  7.19s/it]\u001b[A\n",
      "Processing episodes:  42%|████▏     | 44/105 [04:34<07:26,  7.33s/it]\u001b[A\n",
      "Processing episodes:  43%|████▎     | 45/105 [04:42<07:20,  7.34s/it]\u001b[A\n",
      "Processing episodes:  44%|████▍     | 46/105 [04:42<05:07,  5.21s/it]\u001b[A\n",
      "Processing episodes:  45%|████▍     | 47/105 [04:50<05:55,  6.12s/it]\u001b[A\n",
      "Processing episodes:  46%|████▌     | 48/105 [04:57<05:55,  6.23s/it]\u001b[A\n",
      "Processing episodes:  47%|████▋     | 49/105 [05:03<05:50,  6.26s/it]\u001b[A\n",
      "Processing episodes:  48%|████▊     | 50/105 [05:10<05:58,  6.52s/it]\u001b[A\n",
      "Processing episodes:  49%|████▊     | 51/105 [05:19<06:32,  7.27s/it]\u001b[A\n",
      "Processing episodes:  50%|████▉     | 52/105 [05:26<06:24,  7.25s/it]\u001b[A\n",
      "Processing episodes:  50%|█████     | 53/105 [05:33<06:02,  6.96s/it]\u001b[A\n",
      "Processing episodes:  51%|█████▏    | 54/105 [05:49<08:24,  9.89s/it]\u001b[A\n",
      "Processing episodes:  52%|█████▏    | 55/105 [05:54<06:56,  8.33s/it]\u001b[A\n",
      "Processing episodes:  53%|█████▎    | 56/105 [05:59<06:01,  7.38s/it]\u001b[A\n",
      "Processing episodes:  54%|█████▍    | 57/105 [06:04<05:16,  6.59s/it]\u001b[A\n",
      "Processing episodes:  55%|█████▌    | 58/105 [06:08<04:33,  5.82s/it]\u001b[A\n",
      "Processing episodes:  56%|█████▌    | 59/105 [06:08<03:10,  4.14s/it]\u001b[A\n",
      "Processing episodes:  57%|█████▋    | 60/105 [06:14<03:31,  4.70s/it]\u001b[A\n",
      "Processing episodes:  58%|█████▊    | 61/105 [06:18<03:08,  4.29s/it]\u001b[A\n",
      "Processing episodes:  59%|█████▉    | 62/105 [06:37<06:15,  8.73s/it]\u001b[A\n",
      "Processing episodes:  60%|██████    | 63/105 [06:43<05:41,  8.13s/it]\u001b[A\n",
      "Processing episodes:  61%|██████    | 64/105 [06:49<05:04,  7.42s/it]\u001b[A\n",
      "Processing episodes:  62%|██████▏   | 65/105 [06:58<05:10,  7.77s/it]\u001b[A\n",
      "Processing episodes:  63%|██████▎   | 66/105 [07:04<04:51,  7.47s/it]\u001b[A\n",
      "Processing episodes:  64%|██████▍   | 67/105 [07:10<04:22,  6.91s/it]\u001b[A\n",
      "Processing episodes:  65%|██████▍   | 68/105 [07:17<04:13,  6.84s/it]\u001b[A\n",
      "Processing episodes:  66%|██████▌   | 69/105 [07:24<04:12,  7.01s/it]\u001b[A\n",
      "Processing episodes:  67%|██████▋   | 70/105 [07:32<04:19,  7.40s/it]\u001b[A\n",
      "Processing episodes:  68%|██████▊   | 71/105 [07:35<03:26,  6.06s/it]\u001b[A\n",
      "Processing episodes:  69%|██████▊   | 72/105 [07:40<03:08,  5.71s/it]\u001b[A\n",
      "Processing episodes:  70%|██████▉   | 73/105 [07:51<03:46,  7.07s/it]\u001b[A\n",
      "Processing episodes:  70%|███████   | 74/105 [07:59<03:51,  7.46s/it]\u001b[A\n",
      "Processing episodes:  71%|███████▏  | 75/105 [08:03<03:15,  6.51s/it]\u001b[A\n",
      "Processing episodes:  72%|███████▏  | 76/105 [08:12<03:28,  7.17s/it]\u001b[A\n",
      "Processing episodes:  73%|███████▎  | 77/105 [08:20<03:32,  7.58s/it]\u001b[A\n",
      "Processing episodes:  74%|███████▍  | 78/105 [08:24<02:52,  6.38s/it]\u001b[A\n",
      "Processing episodes:  75%|███████▌  | 79/105 [08:27<02:18,  5.34s/it]\u001b[A\n",
      "Processing episodes:  76%|███████▌  | 80/105 [08:36<02:41,  6.47s/it]\u001b[A\n",
      "Processing episodes:  77%|███████▋  | 81/105 [08:45<02:54,  7.28s/it]\u001b[A\n",
      "Processing episodes:  78%|███████▊  | 82/105 [08:56<03:09,  8.25s/it]\u001b[A\n",
      "Processing episodes:  79%|███████▉  | 83/105 [08:56<02:08,  5.84s/it]\u001b[A\n",
      "Processing episodes:  80%|████████  | 84/105 [08:56<01:27,  4.16s/it]\u001b[A\n",
      "Processing episodes:  81%|████████  | 85/105 [09:05<01:48,  5.45s/it]\u001b[A\n",
      "Processing episodes:  82%|████████▏ | 86/105 [09:13<01:57,  6.20s/it]\u001b[A\n",
      "Processing episodes:  83%|████████▎ | 87/105 [09:17<01:41,  5.61s/it]\u001b[A\n",
      "Processing episodes:  84%|████████▍ | 88/105 [09:26<01:52,  6.60s/it]\u001b[A\n",
      "Processing episodes:  85%|████████▍ | 89/105 [09:36<02:01,  7.61s/it]\u001b[A\n",
      "Processing episodes:  86%|████████▌ | 90/105 [09:42<01:47,  7.18s/it]\u001b[A\n",
      "Processing episodes:  87%|████████▋ | 91/105 [09:47<01:30,  6.49s/it]\u001b[A\n",
      "Processing episodes:  88%|████████▊ | 92/105 [09:51<01:15,  5.80s/it]\u001b[A\n",
      "Processing episodes:  89%|████████▊ | 93/105 [09:54<00:59,  4.93s/it]\u001b[A\n",
      "Processing episodes:  90%|████████▉ | 94/105 [10:01<01:01,  5.60s/it]\u001b[A\n",
      "Processing episodes:  90%|█████████ | 95/105 [10:07<00:56,  5.66s/it]\u001b[A\n",
      "Processing episodes:  91%|█████████▏| 96/105 [10:15<00:56,  6.29s/it]\u001b[A\n",
      "Processing episodes:  92%|█████████▏| 97/105 [10:21<00:50,  6.32s/it]\u001b[A\n",
      "Processing episodes:  93%|█████████▎| 98/105 [10:28<00:46,  6.62s/it]\u001b[A\n",
      "Processing episodes:  94%|█████████▍| 99/105 [10:38<00:44,  7.44s/it]\u001b[A\n",
      "Processing episodes:  95%|█████████▌| 100/105 [10:45<00:37,  7.52s/it]\u001b[A\n",
      "Processing episodes:  96%|█████████▌| 101/105 [10:53<00:30,  7.68s/it]\u001b[A\n",
      "Processing episodes:  97%|█████████▋| 102/105 [11:00<00:21,  7.33s/it]\u001b[A\n",
      "Processing episodes:  98%|█████████▊| 103/105 [11:06<00:14,  7.02s/it]\u001b[A\n",
      "Processing episodes:  99%|█████████▉| 104/105 [11:11<00:06,  6.25s/it]\u001b[A\n",
      "Processing episodes: 100%|██████████| 105/105 [11:15<00:00,  6.43s/it]\u001b[A\n"
     ]
    },
    {
     "ename": "TypeError",
     "evalue": "'NoneType' object cannot be converted to 'PyDict'",
     "output_type": "error",
     "traceback": [
      "\u001b[0;31m---------------------------------------------------------------------------\u001b[0m",
      "\u001b[0;31mTypeError\u001b[0m                                 Traceback (most recent call last)",
      "Cell \u001b[0;32mIn[44], line 2\u001b[0m\n\u001b[1;32m      1\u001b[0m \u001b[38;5;66;03m# %debug\u001b[39;00m\n\u001b[0;32m----> 2\u001b[0m user_data, user_df \u001b[38;5;241m=\u001b[39m \u001b[43mdata_loading\u001b[49m\u001b[38;5;241;43m.\u001b[39;49m\u001b[43mmake_episode_data\u001b[49m\u001b[43m(\u001b[49m\n\u001b[1;32m      3\u001b[0m \u001b[43m    \u001b[49m\u001b[43mall_data\u001b[49m\u001b[43m,\u001b[49m\u001b[43m \u001b[49m\u001b[43mexample_timestep\u001b[49m\u001b[38;5;241;43m=\u001b[39;49m\u001b[43mexample_timestep\u001b[49m\u001b[43m)\u001b[49m\n",
      "File \u001b[0;32m~/projects/marl/projects/humansf/data_loading.py:348\u001b[0m, in \u001b[0;36mmake_episode_data\u001b[0;34m(data, example_timestep)\u001b[0m\n\u001b[1;32m    344\u001b[0m     info\u001b[38;5;241m.\u001b[39mupdate(datum0[\u001b[38;5;124m'\u001b[39m\u001b[38;5;124muser_data\u001b[39m\u001b[38;5;124m'\u001b[39m])\n\u001b[1;32m    346\u001b[0m     episode_info[episode_idx] \u001b[38;5;241m=\u001b[39m info\n\u001b[0;32m--> 348\u001b[0m episode_info \u001b[38;5;241m=\u001b[39m \u001b[43mpl\u001b[49m\u001b[38;5;241;43m.\u001b[39;49m\u001b[43mDataFrame\u001b[49m\u001b[43m(\u001b[49m\u001b[43mepisode_info\u001b[49m\u001b[43m)\u001b[49m\n\u001b[1;32m    349\u001b[0m \u001b[38;5;28;01mreturn\u001b[39;00m episode_data, episode_info\n",
      "File \u001b[0;32m~/.conda/envs/jaxneurorl/lib/python3.10/site-packages/polars/dataframe/frame.py:370\u001b[0m, in \u001b[0;36mDataFrame.__init__\u001b[0;34m(self, data, schema, schema_overrides, strict, orient, infer_schema_length, nan_to_null)\u001b[0m\n\u001b[1;32m    361\u001b[0m     \u001b[38;5;28mself\u001b[39m\u001b[38;5;241m.\u001b[39m_df \u001b[38;5;241m=\u001b[39m dict_to_pydf(\n\u001b[1;32m    362\u001b[0m         data,\n\u001b[1;32m    363\u001b[0m         schema\u001b[38;5;241m=\u001b[39mschema,\n\u001b[0;32m   (...)\u001b[0m\n\u001b[1;32m    366\u001b[0m         nan_to_null\u001b[38;5;241m=\u001b[39mnan_to_null,\n\u001b[1;32m    367\u001b[0m     )\n\u001b[1;32m    369\u001b[0m \u001b[38;5;28;01melif\u001b[39;00m \u001b[38;5;28misinstance\u001b[39m(data, (\u001b[38;5;28mlist\u001b[39m, \u001b[38;5;28mtuple\u001b[39m, Sequence)):\n\u001b[0;32m--> 370\u001b[0m     \u001b[38;5;28mself\u001b[39m\u001b[38;5;241m.\u001b[39m_df \u001b[38;5;241m=\u001b[39m \u001b[43msequence_to_pydf\u001b[49m\u001b[43m(\u001b[49m\n\u001b[1;32m    371\u001b[0m \u001b[43m        \u001b[49m\u001b[43mdata\u001b[49m\u001b[43m,\u001b[49m\n\u001b[1;32m    372\u001b[0m \u001b[43m        \u001b[49m\u001b[43mschema\u001b[49m\u001b[38;5;241;43m=\u001b[39;49m\u001b[43mschema\u001b[49m\u001b[43m,\u001b[49m\n\u001b[1;32m    373\u001b[0m \u001b[43m        \u001b[49m\u001b[43mschema_overrides\u001b[49m\u001b[38;5;241;43m=\u001b[39;49m\u001b[43mschema_overrides\u001b[49m\u001b[43m,\u001b[49m\n\u001b[1;32m    374\u001b[0m \u001b[43m        \u001b[49m\u001b[43mstrict\u001b[49m\u001b[38;5;241;43m=\u001b[39;49m\u001b[43mstrict\u001b[49m\u001b[43m,\u001b[49m\n\u001b[1;32m    375\u001b[0m \u001b[43m        \u001b[49m\u001b[43morient\u001b[49m\u001b[38;5;241;43m=\u001b[39;49m\u001b[43morient\u001b[49m\u001b[43m,\u001b[49m\n\u001b[1;32m    376\u001b[0m \u001b[43m        \u001b[49m\u001b[43minfer_schema_length\u001b[49m\u001b[38;5;241;43m=\u001b[39;49m\u001b[43minfer_schema_length\u001b[49m\u001b[43m,\u001b[49m\n\u001b[1;32m    377\u001b[0m \u001b[43m    \u001b[49m\u001b[43m)\u001b[49m\n\u001b[1;32m    379\u001b[0m \u001b[38;5;28;01melif\u001b[39;00m \u001b[38;5;28misinstance\u001b[39m(data, pl\u001b[38;5;241m.\u001b[39mSeries):\n\u001b[1;32m    380\u001b[0m     \u001b[38;5;28mself\u001b[39m\u001b[38;5;241m.\u001b[39m_df \u001b[38;5;241m=\u001b[39m series_to_pydf(\n\u001b[1;32m    381\u001b[0m         data, schema\u001b[38;5;241m=\u001b[39mschema, schema_overrides\u001b[38;5;241m=\u001b[39mschema_overrides, strict\u001b[38;5;241m=\u001b[39mstrict\n\u001b[1;32m    382\u001b[0m     )\n",
      "File \u001b[0;32m~/.conda/envs/jaxneurorl/lib/python3.10/site-packages/polars/_utils/construction/dataframe.py:462\u001b[0m, in \u001b[0;36msequence_to_pydf\u001b[0;34m(data, schema, schema_overrides, strict, orient, infer_schema_length)\u001b[0m\n\u001b[1;32m    459\u001b[0m \u001b[38;5;28;01mif\u001b[39;00m \u001b[38;5;129;01mnot\u001b[39;00m data:\n\u001b[1;32m    460\u001b[0m     \u001b[38;5;28;01mreturn\u001b[39;00m dict_to_pydf({}, schema\u001b[38;5;241m=\u001b[39mschema, schema_overrides\u001b[38;5;241m=\u001b[39mschema_overrides)\n\u001b[0;32m--> 462\u001b[0m \u001b[38;5;28;01mreturn\u001b[39;00m \u001b[43m_sequence_to_pydf_dispatcher\u001b[49m\u001b[43m(\u001b[49m\n\u001b[1;32m    463\u001b[0m \u001b[43m    \u001b[49m\u001b[43mdata\u001b[49m\u001b[43m[\u001b[49m\u001b[38;5;241;43m0\u001b[39;49m\u001b[43m]\u001b[49m\u001b[43m,\u001b[49m\n\u001b[1;32m    464\u001b[0m \u001b[43m    \u001b[49m\u001b[43mdata\u001b[49m\u001b[38;5;241;43m=\u001b[39;49m\u001b[43mdata\u001b[49m\u001b[43m,\u001b[49m\n\u001b[1;32m    465\u001b[0m \u001b[43m    \u001b[49m\u001b[43mschema\u001b[49m\u001b[38;5;241;43m=\u001b[39;49m\u001b[43mschema\u001b[49m\u001b[43m,\u001b[49m\n\u001b[1;32m    466\u001b[0m \u001b[43m    \u001b[49m\u001b[43mschema_overrides\u001b[49m\u001b[38;5;241;43m=\u001b[39;49m\u001b[43mschema_overrides\u001b[49m\u001b[43m,\u001b[49m\n\u001b[1;32m    467\u001b[0m \u001b[43m    \u001b[49m\u001b[43mstrict\u001b[49m\u001b[38;5;241;43m=\u001b[39;49m\u001b[43mstrict\u001b[49m\u001b[43m,\u001b[49m\n\u001b[1;32m    468\u001b[0m \u001b[43m    \u001b[49m\u001b[43morient\u001b[49m\u001b[38;5;241;43m=\u001b[39;49m\u001b[43morient\u001b[49m\u001b[43m,\u001b[49m\n\u001b[1;32m    469\u001b[0m \u001b[43m    \u001b[49m\u001b[43minfer_schema_length\u001b[49m\u001b[38;5;241;43m=\u001b[39;49m\u001b[43minfer_schema_length\u001b[49m\u001b[43m,\u001b[49m\n\u001b[1;32m    470\u001b[0m \u001b[43m\u001b[49m\u001b[43m)\u001b[49m\n",
      "File \u001b[0;32m~/.conda/envs/jaxneurorl/lib/python3.10/functools.py:889\u001b[0m, in \u001b[0;36msingledispatch.<locals>.wrapper\u001b[0;34m(*args, **kw)\u001b[0m\n\u001b[1;32m    885\u001b[0m \u001b[38;5;28;01mif\u001b[39;00m \u001b[38;5;129;01mnot\u001b[39;00m args:\n\u001b[1;32m    886\u001b[0m     \u001b[38;5;28;01mraise\u001b[39;00m \u001b[38;5;167;01mTypeError\u001b[39;00m(\u001b[38;5;124mf\u001b[39m\u001b[38;5;124m'\u001b[39m\u001b[38;5;132;01m{\u001b[39;00mfuncname\u001b[38;5;132;01m}\u001b[39;00m\u001b[38;5;124m requires at least \u001b[39m\u001b[38;5;124m'\u001b[39m\n\u001b[1;32m    887\u001b[0m                     \u001b[38;5;124m'\u001b[39m\u001b[38;5;124m1 positional argument\u001b[39m\u001b[38;5;124m'\u001b[39m)\n\u001b[0;32m--> 889\u001b[0m \u001b[38;5;28;01mreturn\u001b[39;00m \u001b[43mdispatch\u001b[49m\u001b[43m(\u001b[49m\u001b[43margs\u001b[49m\u001b[43m[\u001b[49m\u001b[38;5;241;43m0\u001b[39;49m\u001b[43m]\u001b[49m\u001b[38;5;241;43m.\u001b[39;49m\u001b[38;5;18;43m__class__\u001b[39;49m\u001b[43m)\u001b[49m\u001b[43m(\u001b[49m\u001b[38;5;241;43m*\u001b[39;49m\u001b[43margs\u001b[49m\u001b[43m,\u001b[49m\u001b[43m \u001b[49m\u001b[38;5;241;43m*\u001b[39;49m\u001b[38;5;241;43m*\u001b[39;49m\u001b[43mkw\u001b[49m\u001b[43m)\u001b[49m\n",
      "File \u001b[0;32m~/.conda/envs/jaxneurorl/lib/python3.10/site-packages/polars/_utils/construction/dataframe.py:714\u001b[0m, in \u001b[0;36m_sequence_of_dict_to_pydf\u001b[0;34m(first_element, data, schema, schema_overrides, strict, infer_schema_length, **kwargs)\u001b[0m\n\u001b[1;32m    711\u001b[0m \u001b[38;5;28;01mif\u001b[39;00m tz_overrides:\n\u001b[1;32m    712\u001b[0m     schema_overrides \u001b[38;5;241m=\u001b[39m {\u001b[38;5;241m*\u001b[39m\u001b[38;5;241m*\u001b[39mschema_overrides, \u001b[38;5;241m*\u001b[39m\u001b[38;5;241m*\u001b[39mtz_overrides}\n\u001b[0;32m--> 714\u001b[0m pydf \u001b[38;5;241m=\u001b[39m \u001b[43mPyDataFrame\u001b[49m\u001b[38;5;241;43m.\u001b[39;49m\u001b[43mfrom_dicts\u001b[49m\u001b[43m(\u001b[49m\n\u001b[1;32m    715\u001b[0m \u001b[43m    \u001b[49m\u001b[43mdata\u001b[49m\u001b[43m,\u001b[49m\n\u001b[1;32m    716\u001b[0m \u001b[43m    \u001b[49m\u001b[43mdicts_schema\u001b[49m\u001b[43m,\u001b[49m\n\u001b[1;32m    717\u001b[0m \u001b[43m    \u001b[49m\u001b[43mschema_overrides\u001b[49m\u001b[43m,\u001b[49m\n\u001b[1;32m    718\u001b[0m \u001b[43m    \u001b[49m\u001b[43mstrict\u001b[49m\u001b[38;5;241;43m=\u001b[39;49m\u001b[43mstrict\u001b[49m\u001b[43m,\u001b[49m\n\u001b[1;32m    719\u001b[0m \u001b[43m    \u001b[49m\u001b[43minfer_schema_length\u001b[49m\u001b[38;5;241;43m=\u001b[39;49m\u001b[43minfer_schema_length\u001b[49m\u001b[43m,\u001b[49m\n\u001b[1;32m    720\u001b[0m \u001b[43m\u001b[49m\u001b[43m)\u001b[49m\n\u001b[1;32m    722\u001b[0m \u001b[38;5;66;03m# TODO: we can remove this `schema_overrides` block completely\u001b[39;00m\n\u001b[1;32m    723\u001b[0m \u001b[38;5;66;03m#  once https://github.com/pola-rs/polars/issues/11044 is fixed\u001b[39;00m\n\u001b[1;32m    724\u001b[0m \u001b[38;5;28;01mif\u001b[39;00m schema_overrides:\n",
      "\u001b[0;31mTypeError\u001b[0m: 'NoneType' object cannot be converted to 'PyDict'"
     ]
    }
   ],
   "source": [
    "# %debug\n",
    "user_df, user_episodes = data_loading.make_episode_data(\n",
    "    all_data, example_timestep=example_timestep)"
   ]
  },
  {
   "cell_type": "code",
   "execution_count": 9,
   "id": "f38463c2-9623-4935-a9ed-72d6617a0ce1",
   "metadata": {},
   "outputs": [
    {
     "data": {
      "text/plain": [
       "'user_data/data_user=2631242498_name=r0-v2_exp=1_debug=0.json'"
      ]
     },
     "execution_count": 9,
     "metadata": {},
     "output_type": "execute_result"
    }
   ],
   "source": [
    "file = files[2]\n",
    "file"
   ]
  },
  {
   "cell_type": "code",
   "execution_count": null,
   "id": "0dc76389-9c04-47d7-88aa-367e1e160c69",
   "metadata": {},
   "outputs": [],
   "source": []
  },
  {
   "cell_type": "code",
   "execution_count": null,
   "id": "f4c82e44-ff5a-480d-a30d-628aa7404c87",
   "metadata": {},
   "outputs": [],
   "source": []
  },
  {
   "cell_type": "code",
   "execution_count": null,
   "id": "d37c63c9-2039-43eb-908e-8322310c1499",
   "metadata": {},
   "outputs": [],
   "source": []
  },
  {
   "cell_type": "code",
   "execution_count": null,
   "id": "60a87c2c-2a62-43e0-9b24-061a1ecfa710",
   "metadata": {},
   "outputs": [],
   "source": []
  },
  {
   "cell_type": "code",
   "execution_count": null,
   "id": "7dfa9083-6dc2-4ca1-a92f-ec59f67b036c",
   "metadata": {},
   "outputs": [],
   "source": []
  },
  {
   "cell_type": "code",
   "execution_count": null,
   "id": "97ce2447-eab6-4aab-b139-93586d403a7c",
   "metadata": {},
   "outputs": [],
   "source": []
  },
  {
   "cell_type": "code",
   "execution_count": null,
   "id": "dcb16d92-190f-443e-bbae-e810c4767f99",
   "metadata": {},
   "outputs": [],
   "source": []
  },
  {
   "cell_type": "code",
   "execution_count": null,
   "id": "68ce51f7-0aca-4337-a6e5-f31738288562",
   "metadata": {},
   "outputs": [],
   "source": []
  },
  {
   "cell_type": "code",
   "execution_count": null,
   "id": "600732da-b40c-4c0f-970b-a4cf3e6b7433",
   "metadata": {},
   "outputs": [],
   "source": []
  },
  {
   "cell_type": "code",
   "execution_count": null,
   "id": "5eac208f-be49-45be-8d60-849e3bcae28a",
   "metadata": {},
   "outputs": [],
   "source": []
  },
  {
   "cell_type": "code",
   "execution_count": null,
   "id": "587d444a-6217-48cf-9fb2-461a5d09ade5",
   "metadata": {},
   "outputs": [],
   "source": []
  },
  {
   "cell_type": "code",
   "execution_count": null,
   "id": "016848ec-707b-4d74-8cf4-cb184e6d98f4",
   "metadata": {},
   "outputs": [],
   "source": []
  },
  {
   "cell_type": "code",
   "execution_count": null,
   "id": "7f60ff97-190b-4014-859b-619a6bd8efb2",
   "metadata": {},
   "outputs": [],
   "source": []
  },
  {
   "cell_type": "code",
   "execution_count": null,
   "id": "48f91414-2206-4522-91d4-b3c4a8ff6a2e",
   "metadata": {},
   "outputs": [],
   "source": []
  },
  {
   "cell_type": "code",
   "execution_count": null,
   "id": "752649dc-7820-425c-bebd-ee8099203df2",
   "metadata": {},
   "outputs": [],
   "source": []
  },
  {
   "cell_type": "code",
   "execution_count": null,
   "id": "02d33ff4-0ffd-4fb7-968c-ab5a2bfd5d42",
   "metadata": {},
   "outputs": [],
   "source": []
  },
  {
   "cell_type": "code",
   "execution_count": null,
   "id": "05ca49e5-3ecc-4101-9d5d-a5a18e9c721a",
   "metadata": {},
   "outputs": [],
   "source": []
  },
  {
   "cell_type": "code",
   "execution_count": 11,
   "id": "6ef2d2b0-efd7-46cf-8631-c975512b15fc",
   "metadata": {},
   "outputs": [],
   "source": [
    "import json\n",
    "with open(file, 'r') as f:\n",
    "    data = json.load(f)"
   ]
  },
  {
   "cell_type": "code",
   "execution_count": 15,
   "id": "bf027084-13fd-4bf0-ad5a-977028758f23",
   "metadata": {},
   "outputs": [
    {
     "data": {
      "text/plain": [
       "71"
      ]
     },
     "execution_count": 15,
     "metadata": {},
     "output_type": "execute_result"
    }
   ],
   "source": [
    "len(data)"
   ]
  },
  {
   "cell_type": "code",
   "execution_count": 8,
   "id": "9cd41177-e181-4e23-a90f-4e74a76ed0d0",
   "metadata": {},
   "outputs": [
    {
     "data": {
      "image/png": "[encoded data removed]",
      "text/plain": [
       "<Figure size 500x500 with 1 Axes>"
      ]
     },
     "metadata": {},
     "output_type": "display_data"
    },
    {
     "data": {
      "image/png": "[encoded data removed]",
      "text/plain": [
       "<Figure size 500x500 with 1 Axes>"
      ]
     },
     "metadata": {},
     "output_type": "display_data"
    }
   ],
   "source": [
    "def get_params(maze_str):\n",
    "    return mazes.get_maze_reset_params(\n",
    "        group_set=group_set,\n",
    "        char2key=char2key,\n",
    "        maze_str=maze_str,\n",
    "        randomize_agent=False,\n",
    "        make_env_params=True,\n",
    ")\n",
    "\n",
    "def render_env(env_params):\n",
    "    map_init = jax.tree_map(lambda x:x[0], env_params.reset_params.map_init)\n",
    "    grid = np.asarray(map_init.grid)    \n",
    "    img = renderer.create_image_from_grid(\n",
    "        map_init.grid,\n",
    "        map_init.agent_pos,\n",
    "        map_init.agent_dir,\n",
    "        image_dict)\n",
    "    fig, ax = plt.subplots(1, figsize=(5, 5))\n",
    "    ax.imshow(img)\n",
    "    # Remove the axis ticks and labels\n",
    "    ax.set_xticks([])\n",
    "    ax.set_yticks([])\n",
    "\n",
    "render_env(get_params(mazes.maze3))\n",
    "render_env(get_params(mazes.maze3_open))"
   ]
  },
  {
   "cell_type": "markdown",
   "id": "5286294c-9a15-4f11-8de0-b7584636229e",
   "metadata": {
    "tags": []
   },
   "source": [
    "# Load agents"
   ]
  },
  {
   "cell_type": "code",
   "execution_count": 9,
   "id": "646a0481-f44a-4b24-a03d-ac62996b69c2",
   "metadata": {},
   "outputs": [],
   "source": [
    "results = dict()\n",
    "df = None"
   ]
  },
  {
   "cell_type": "code",
   "execution_count": 28,
   "id": "f2131da2-a950-4aba-b057-4158b5209801",
   "metadata": {},
   "outputs": [],
   "source": [
    "success_fn = jax.jit(jax.vmap(housemaze_analysis.success))\n",
    "def add_model_results(key: str, algorithm, env_params, train: bool = False, df=None, reset=False):\n",
    "    if reset:\n",
    "        results.clear()\n",
    "    if key in results: return df\n",
    "    eval_fn = algorithm.eval_fn\n",
    "    rng = jax.random.PRNGKey(42)\n",
    "    if train:\n",
    "        objs = get_params(mazes.maze3).reset_params.train_objects\n",
    "    else:\n",
    "        objs = get_params(mazes.maze3).reset_params.test_objects\n",
    "\n",
    "    for o in objs:\n",
    "        task_w = task_runner.task_vector(o)\n",
    "        trajs = eval_fn(rng, env_params, task_w)\n",
    "        trajs = jax.tree_map(lambda x: x[0], trajs) # only had 1 task\n",
    "        total_rewards, success_rates = success_fn(trajs.timestep)\n",
    "        \n",
    "        results[key] = trajs\n",
    "        lengths = jnp.argmax(trajs.timestep.last(), 1)+1\n",
    "        ntraj = len(total_rewards)\n",
    "        metrics = dict(\n",
    "            algo=[algorithm.name]*ntraj,\n",
    "            key=[key]*ntraj,\n",
    "            train=[train]*ntraj,\n",
    "            sr=success_rates,\n",
    "            tr=total_rewards,\n",
    "            pl=lengths,\n",
    "        )\n",
    "\n",
    "        new_df = pd.DataFrame(metrics)\n",
    "        if reset:\n",
    "            return new_df\n",
    "        if df is not None :\n",
    "            df = pd.concat([df, new_df], ignore_index=True)\n",
    "        else:\n",
    "            df = new_df\n",
    "    return df\n",
    "\n",
    "def add_search_results(key: str, algo, env_params, df, budget=1e8, train: bool = False, ntraj = 100, force: bool = False):\n",
    "    if key in results and not force: return df\n",
    "\n",
    "    if train:\n",
    "        objs = env_params.reset_params.train_objects\n",
    "    else:\n",
    "        objs = env_params.reset_params.test_objects\n",
    "    \n",
    "    map_init = jax.tree_map(lambda x:x[0], env_params.reset_params.map_init)\n",
    "    grid = np.asarray(map_init.grid)\n",
    "    agent_pos = tuple(int(o) for o in map_init.agent_pos)\n",
    "    trajectories = []\n",
    "    for o in objs:\n",
    "        goal = np.array([o])\n",
    "        success_rates = []\n",
    "        total_rewards = []\n",
    "        path_lengths = []\n",
    "        for idx in range(ntraj):\n",
    "            path, iterations = algo(grid, agent_pos, goal, key=jax.random.PRNGKey(idx), budget=budget)\n",
    "            trajectories.append(path)\n",
    "            if path is None:\n",
    "                success_rates.append(0)\n",
    "                total_rewards.append(0)\n",
    "                path_lengths.append(np.inf)\n",
    "            else:\n",
    "                success_rates.append(1)\n",
    "                total_rewards.append(1)\n",
    "                path_lengths.append(len(path))\n",
    "        \n",
    "        results[key] = trajectories\n",
    "        metrics = dict(\n",
    "            algo=['bfs']*ntraj,\n",
    "            key=[key]*ntraj,\n",
    "            train=[train]*ntraj,\n",
    "            sr=success_rates,\n",
    "            tr=total_rewards,\n",
    "            pl=path_lengths,\n",
    "        )\n",
    "\n",
    "        new_df = pd.DataFrame(metrics)\n",
    "        return pd.concat([df, new_df], ignore_index=True)\n"
   ]
  },
  {
   "cell_type": "code",
   "execution_count": 17,
   "id": "c0e444fd-938a-43e1-90bc-9cdbaf643875",
   "metadata": {},
   "outputs": [],
   "source": [
    "def test(algorithm, visualize: bool = False):\n",
    "    maze3_params = get_params(mazes.maze3)\n",
    "    def collect(example_w):\n",
    "        rng = jax.random.PRNGKey(41)\n",
    "        trajs = algorithm.eval_fn(rng, maze3_params, example_w)\n",
    "        trajs = jax.tree_map(lambda x: x[0], trajs) # only had 1 task\n",
    "        \n",
    "        return trajs, success_fn(trajs.timestep)\n",
    "    example_w = task_runner.task_vector(maze3_params.reset_params.train_objects[0])\n",
    "    tasjs, (total_rewards, success_rates) = collect(example_w)\n",
    "    # print('Train average total rewards =', total_rewards.mean())\n",
    "    print('Train average success rate =', success_rates.mean())\n",
    "    \n",
    "    example_w = task_runner.task_vector(maze3_params.reset_params.test_objects[0])\n",
    "    tasjs, (total_rewards, success_rates) = collect(example_w)\n",
    "    # print('Test average total rewards =', total_rewards.mean())\n",
    "    print('Test average success rate =', success_rates.mean())\n",
    "    \n",
    "    if visualize:\n",
    "        housemaze_analysis.plot_timesteps(\n",
    "          jax.tree_map(lambda x:x[0], trajs),\n",
    "          render_fn=housemaze_render_fn,\n",
    "          get_task_name=functools.partial(trainer_housemaze.task_from_variables, keys=image_dict['keys']),\n",
    "          extract_task_info=trainer_housemaze.extract_task_info,\n",
    "          max_len=50)"
   ]
  },
  {
   "cell_type": "markdown",
   "id": "2a3944b0-d926-46a0-b6d8-63ecf248a320",
   "metadata": {
    "tags": []
   },
   "source": [
    "### Q-learning"
   ]
  },
  {
   "cell_type": "code",
   "execution_count": 12,
   "id": "f5d78748-1f5f-4081-8cad-32ced175219f",
   "metadata": {},
   "outputs": [],
   "source": [
    "# REAL RUNS\n",
    "# !ls /n/home13/wcarvalho/results/jaxrl_results/trainer_housemaze/ql/save_data/*/*/qlearning.safetensors"
   ]
  },
  {
   "cell_type": "code",
   "execution_count": 13,
   "id": "57995b98-79f2-4bc0-8220-55929c5be01d",
   "metadata": {},
   "outputs": [],
   "source": [
    "qlearning = housemaze_analysis.load_algorithm(\n",
    "    path='/n/home13/wcarvalho/results/jaxrl_results/trainer_housemaze/ql/save_data/ql-15/exp=maze3_open',\n",
    "    name='qlearning',\n",
    "    make_fns=trainer_housemaze.get_qlearning_fns,\n",
    "    env=env,\n",
    "    env_params=default_env_params,\n",
    "    parallel_envs=parallel_envs,\n",
    ")\n",
    "\n"
   ]
  },
  {
   "cell_type": "code",
   "execution_count": 18,
   "id": "9bff2526-78fb-4509-bdaf-cd3f9fe02dc1",
   "metadata": {},
   "outputs": [
    {
     "name": "stdout",
     "output_type": "stream",
     "text": [
      "Train average success rate = 1.0\n",
      "Test average success rate = 0.0\n"
     ]
    }
   ],
   "source": [
    "test(qlearning)"
   ]
  },
  {
   "cell_type": "markdown",
   "id": "c9ecc046-f2b0-44fb-8885-f1e5c55cb25f",
   "metadata": {},
   "source": [
    "## Dyna"
   ]
  },
  {
   "cell_type": "code",
   "execution_count": 19,
   "id": "63ef844f-42a1-42b2-bece-e8fcf691a4ca",
   "metadata": {},
   "outputs": [],
   "source": [
    "# REAL RUNS\n",
    "# !ls /n/home13/wcarvalho/results/jaxrl_results/trainer_housemaze/dynaq_shared/save_data/*/*/*.safetensors"
   ]
  },
  {
   "cell_type": "code",
   "execution_count": 20,
   "id": "05f3ff08-8dce-43e1-b635-4e2dac671988",
   "metadata": {},
   "outputs": [],
   "source": [
    "# path = '/n/home13/wcarvalho/results/jaxrl_results/trainer_housemaze/dynaq_shared/save_data/dynaq_shared-10/ALG=dynaq_shared,DYNA=1,LR=0.0003,LR_L=False,STOP=False,TOTA=20000000,exp=maze3_open'\n",
    "path = glob(os.path.join(\n",
    "    '/n/home13/wcarvalho/results/jaxrl_results/trainer_housemaze/dynaq_shared/save_data',\n",
    "    '*/',\n",
    "    'ALG=dynaq_shared,DYNA=1,LR=0.0003,LR_L=False,STOP=False,TOTA=20000000,exp=maze3_open'\n",
    "))[0]"
   ]
  },
  {
   "cell_type": "code",
   "execution_count": 21,
   "id": "7322b4b0-6c7a-4287-a7cf-b13489989098",
   "metadata": {},
   "outputs": [],
   "source": [
    "dyna = housemaze_analysis.load_algorithm(\n",
    "    path=path,\n",
    "    name='dynaq_shared',\n",
    "    make_fns=functools.partial(trainer_housemaze.get_dynaq_fns,\n",
    "        env=env,\n",
    "        env_params=default_env_params,\n",
    "        task_objects=task_objects),\n",
    "    env=env,\n",
    "    env_params=default_env_params,\n",
    "    parallel_envs=parallel_envs,\n",
    ")\n",
    "\n"
   ]
  },
  {
   "cell_type": "code",
   "execution_count": 22,
   "id": "5d94f739-0b5d-421a-8f70-dc1101916cbc",
   "metadata": {},
   "outputs": [
    {
     "name": "stdout",
     "output_type": "stream",
     "text": [
      "Train average success rate = 1.0\n",
      "Test average success rate = 1.0\n"
     ]
    }
   ],
   "source": [
    "test(dyna)"
   ]
  },
  {
   "cell_type": "markdown",
   "id": "999e3f36-9b47-42bf-84f0-f45fa100be14",
   "metadata": {},
   "source": [
    "## Get results"
   ]
  },
  {
   "cell_type": "code",
   "execution_count": 25,
   "id": "885c1db9-6039-4a96-9a4d-95f52cd7bc8b",
   "metadata": {},
   "outputs": [],
   "source": [
    "# df = add_model_results('ql_maze3_task', qlearning, maze3_params, train=True, reset=True)"
   ]
  },
  {
   "cell_type": "code",
   "execution_count": 26,
   "id": "2ba1a07b-0123-42d1-850d-fe146b00337f",
   "metadata": {},
   "outputs": [],
   "source": [
    "all_mazes = ['maze3','maze3_open', 'maze3_open2', 'maze3_offpath_shortcut', 'maze3_onpath_shortcut', 'maze3_onpath']"
   ]
  },
  {
   "cell_type": "code",
   "execution_count": 29,
   "id": "d232c185-85e5-4f12-939d-af889c1ff6dd",
   "metadata": {},
   "outputs": [
    {
     "name": "stdout",
     "output_type": "stream",
     "text": [
      "0\n",
      "1\n",
      "2\n",
      "3\n",
      "4\n",
      "5\n",
      "6\n",
      "7\n",
      "8\n",
      "9\n",
      "10\n",
      "11\n",
      "12\n",
      "13\n",
      "14\n",
      "15\n",
      "16\n",
      "17\n",
      "18\n",
      "19\n",
      "20\n",
      "21\n",
      "22\n",
      "23\n"
     ]
    }
   ],
   "source": [
    "idx = 0\n",
    "for train in [\n",
    "    True,\n",
    "    False\n",
    "]:\n",
    "    for maze_str in all_mazes:\n",
    "        for algorithm in [qlearning, dyna]:\n",
    "            print(idx)\n",
    "            df = add_model_results(f'{algorithm.name}_{maze_str}_train={train}', algorithm, get_params(getattr(mazes, maze_str)), train=train, df=df, reset=idx==0)\n",
    "            idx += 1"
   ]
  },
  {
   "cell_type": "code",
   "execution_count": 30,
   "id": "92c3b81b-c13b-4ff4-aa36-bdcf37eac1fd",
   "metadata": {},
   "outputs": [
    {
     "data": {
      "text/plain": [
       "['dynaq_shared_maze3_offpath_shortcut_train=False',\n",
       " 'dynaq_shared_maze3_offpath_shortcut_train=True',\n",
       " 'dynaq_shared_maze3_onpath_shortcut_train=False',\n",
       " 'dynaq_shared_maze3_onpath_shortcut_train=True',\n",
       " 'dynaq_shared_maze3_onpath_train=False',\n",
       " 'dynaq_shared_maze3_onpath_train=True',\n",
       " 'dynaq_shared_maze3_open2_train=False',\n",
       " 'dynaq_shared_maze3_open2_train=True',\n",
       " 'dynaq_shared_maze3_open_train=False',\n",
       " 'dynaq_shared_maze3_open_train=True',\n",
       " 'dynaq_shared_maze3_train=False',\n",
       " 'dynaq_shared_maze3_train=True',\n",
       " 'qlearning_maze3_offpath_shortcut_train=False',\n",
       " 'qlearning_maze3_offpath_shortcut_train=True',\n",
       " 'qlearning_maze3_onpath_shortcut_train=False',\n",
       " 'qlearning_maze3_onpath_shortcut_train=True',\n",
       " 'qlearning_maze3_onpath_train=False',\n",
       " 'qlearning_maze3_onpath_train=True',\n",
       " 'qlearning_maze3_open2_train=False',\n",
       " 'qlearning_maze3_open2_train=True',\n",
       " 'qlearning_maze3_open_train=False',\n",
       " 'qlearning_maze3_open_train=True',\n",
       " 'qlearning_maze3_train=False',\n",
       " 'qlearning_maze3_train=True']"
      ]
     },
     "execution_count": 30,
     "metadata": {},
     "output_type": "execute_result"
    }
   ],
   "source": [
    "sorted(list(df['key'].unique()))"
   ]
  },
  {
   "cell_type": "code",
   "execution_count": 31,
   "id": "66315e28-1827-4930-a5ce-b0d04f248743",
   "metadata": {},
   "outputs": [],
   "source": [
    "# df = add_model_results('dyna_maze3_offtask', dyna, maze3_params, train=False, df=df)\n",
    "# df.head(), len(df)"
   ]
  },
  {
   "cell_type": "markdown",
   "id": "958d9277-8659-4398-a68f-44baeb4441c9",
   "metadata": {
    "tags": []
   },
   "source": [
    "# Search results"
   ]
  },
  {
   "cell_type": "code",
   "execution_count": 32,
   "id": "9a23fd72-184d-4a25-a142-19d17f5d5f07",
   "metadata": {},
   "outputs": [
    {
     "data": {
      "text/plain": [
       "['maze3',\n",
       " 'maze3_open',\n",
       " 'maze3_open2',\n",
       " 'maze3_offpath_shortcut',\n",
       " 'maze3_onpath_shortcut',\n",
       " 'maze3_onpath']"
      ]
     },
     "execution_count": 32,
     "metadata": {},
     "output_type": "execute_result"
    }
   ],
   "source": [
    "test_mazes = ['maze3', 'maze3_open', 'maze3_open2', 'maze3_offpath_shortcut', 'maze3_onpath_shortcut', 'maze3_onpath']\n",
    "test_mazes"
   ]
  },
  {
   "cell_type": "code",
   "execution_count": 33,
   "id": "a5d5b01d-67a1-4831-9fb6-2fc5a40ca02a",
   "metadata": {},
   "outputs": [
    {
     "name": "stdout",
     "output_type": "stream",
     "text": [
      "0\n",
      "1\n",
      "2\n",
      "3\n",
      "4\n",
      "5\n",
      "6\n",
      "7\n",
      "8\n",
      "9\n",
      "10\n",
      "11\n",
      "12\n",
      "13\n",
      "14\n",
      "15\n",
      "16\n",
      "17\n",
      "18\n",
      "19\n",
      "20\n",
      "21\n",
      "22\n",
      "23\n"
     ]
    }
   ],
   "source": [
    "idx = 0\n",
    "for budget in [\n",
    "    150,\n",
    "    1000\n",
    "]:\n",
    "    for maze_str in test_mazes:\n",
    "        for algo in [\n",
    "            'bfs',\n",
    "            'dfs'\n",
    "        ]:\n",
    "            print(idx)\n",
    "            fn = getattr(utils, algo)\n",
    "            df = add_search_results(f'{algo}_{maze_str}_{budget}_train=False',\n",
    "                                    algo=fn, df=df, env_params=get_params(getattr(mazes, maze_str)),\n",
    "                                    budget=budget, train=False, force=False)\n",
    "            idx += 1"
   ]
  },
  {
   "cell_type": "code",
   "execution_count": 34,
   "id": "29adf3c7-a676-45f4-9221-e43b1d2acfac",
   "metadata": {},
   "outputs": [
    {
     "data": {
      "text/plain": [
       "['bfs_maze3_1000_train=False',\n",
       " 'bfs_maze3_150_train=False',\n",
       " 'bfs_maze3_offpath_shortcut_1000_train=False',\n",
       " 'bfs_maze3_offpath_shortcut_150_train=False',\n",
       " 'bfs_maze3_onpath_1000_train=False',\n",
       " 'bfs_maze3_onpath_150_train=False',\n",
       " 'bfs_maze3_onpath_shortcut_1000_train=False',\n",
       " 'bfs_maze3_onpath_shortcut_150_train=False',\n",
       " 'bfs_maze3_open2_1000_train=False',\n",
       " 'bfs_maze3_open2_150_train=False',\n",
       " 'bfs_maze3_open_1000_train=False',\n",
       " 'bfs_maze3_open_150_train=False',\n",
       " 'dfs_maze3_1000_train=False',\n",
       " 'dfs_maze3_150_train=False',\n",
       " 'dfs_maze3_offpath_shortcut_1000_train=False',\n",
       " 'dfs_maze3_offpath_shortcut_150_train=False',\n",
       " 'dfs_maze3_onpath_1000_train=False',\n",
       " 'dfs_maze3_onpath_150_train=False',\n",
       " 'dfs_maze3_onpath_shortcut_1000_train=False',\n",
       " 'dfs_maze3_onpath_shortcut_150_train=False',\n",
       " 'dfs_maze3_open2_1000_train=False',\n",
       " 'dfs_maze3_open2_150_train=False',\n",
       " 'dfs_maze3_open_1000_train=False',\n",
       " 'dfs_maze3_open_150_train=False',\n",
       " 'dynaq_shared_maze3_offpath_shortcut_train=False',\n",
       " 'dynaq_shared_maze3_offpath_shortcut_train=True',\n",
       " 'dynaq_shared_maze3_onpath_shortcut_train=False',\n",
       " 'dynaq_shared_maze3_onpath_shortcut_train=True',\n",
       " 'dynaq_shared_maze3_onpath_train=False',\n",
       " 'dynaq_shared_maze3_onpath_train=True',\n",
       " 'dynaq_shared_maze3_open2_train=False',\n",
       " 'dynaq_shared_maze3_open2_train=True',\n",
       " 'dynaq_shared_maze3_open_train=False',\n",
       " 'dynaq_shared_maze3_open_train=True',\n",
       " 'dynaq_shared_maze3_train=False',\n",
       " 'dynaq_shared_maze3_train=True',\n",
       " 'qlearning_maze3_offpath_shortcut_train=False',\n",
       " 'qlearning_maze3_offpath_shortcut_train=True',\n",
       " 'qlearning_maze3_onpath_shortcut_train=False',\n",
       " 'qlearning_maze3_onpath_shortcut_train=True',\n",
       " 'qlearning_maze3_onpath_train=False',\n",
       " 'qlearning_maze3_onpath_train=True',\n",
       " 'qlearning_maze3_open2_train=False',\n",
       " 'qlearning_maze3_open2_train=True',\n",
       " 'qlearning_maze3_open_train=False',\n",
       " 'qlearning_maze3_open_train=True',\n",
       " 'qlearning_maze3_train=False',\n",
       " 'qlearning_maze3_train=True']"
      ]
     },
     "execution_count": 34,
     "metadata": {},
     "output_type": "execute_result"
    }
   ],
   "source": [
    "sorted(list(df['key'].unique()))"
   ]
  },
  {
   "cell_type": "markdown",
   "id": "0a8da7c7-96d2-4512-b3cd-7eeeb059ff24",
   "metadata": {},
   "source": [
    "# Plots"
   ]
  },
  {
   "cell_type": "code",
   "execution_count": 45,
   "id": "bfccca5a-27d2-4302-9452-a0b32cd7ede0",
   "metadata": {},
   "outputs": [
    {
     "data": {
      "text/plain": [
       "['bfs_maze3_150_train=False',\n",
       " 'bfs_maze3_offpath_shortcut_150_train=False',\n",
       " 'bfs_maze3_onpath_150_train=False',\n",
       " 'bfs_maze3_onpath_shortcut_150_train=False',\n",
       " 'bfs_maze3_open2_150_train=False',\n",
       " 'bfs_maze3_open_150_train=False',\n",
       " 'dfs_maze3_150_train=False',\n",
       " 'dfs_maze3_offpath_shortcut_150_train=False',\n",
       " 'dfs_maze3_onpath_150_train=False',\n",
       " 'dfs_maze3_onpath_shortcut_150_train=False',\n",
       " 'dfs_maze3_open2_150_train=False',\n",
       " 'dfs_maze3_open_150_train=False',\n",
       " 'dynaq_shared_maze3_offpath_shortcut_train=False',\n",
       " 'dynaq_shared_maze3_offpath_shortcut_train=True',\n",
       " 'dynaq_shared_maze3_onpath_shortcut_train=False',\n",
       " 'dynaq_shared_maze3_onpath_shortcut_train=True',\n",
       " 'dynaq_shared_maze3_onpath_train=False',\n",
       " 'dynaq_shared_maze3_onpath_train=True',\n",
       " 'dynaq_shared_maze3_open2_train=False',\n",
       " 'dynaq_shared_maze3_open2_train=True',\n",
       " 'dynaq_shared_maze3_open_train=False',\n",
       " 'dynaq_shared_maze3_open_train=True',\n",
       " 'dynaq_shared_maze3_train=False',\n",
       " 'dynaq_shared_maze3_train=True',\n",
       " 'qlearning_maze3_offpath_shortcut_train=False',\n",
       " 'qlearning_maze3_offpath_shortcut_train=True',\n",
       " 'qlearning_maze3_onpath_shortcut_train=False',\n",
       " 'qlearning_maze3_onpath_shortcut_train=True',\n",
       " 'qlearning_maze3_onpath_train=False',\n",
       " 'qlearning_maze3_onpath_train=True',\n",
       " 'qlearning_maze3_open2_train=False',\n",
       " 'qlearning_maze3_open2_train=True',\n",
       " 'qlearning_maze3_open_train=False',\n",
       " 'qlearning_maze3_open_train=True',\n",
       " 'qlearning_maze3_train=False',\n",
       " 'qlearning_maze3_train=True']"
      ]
     },
     "execution_count": 45,
     "metadata": {},
     "output_type": "execute_result"
    }
   ],
   "source": [
    "sorted(list(df['key'].unique()))"
   ]
  },
  {
   "cell_type": "markdown",
   "id": "758b9019-745f-4fce-9c44-c5761ec4cc43",
   "metadata": {},
   "source": [
    "# Plots"
   ]
  },
  {
   "cell_type": "markdown",
   "id": "2ae33261-d37d-46f0-a68c-a6e618f1acdc",
   "metadata": {},
   "source": [
    "### Signature 1: Offtask-Dyna will succeed on getting to a task that wasn't a train task\n",
    "### Signature 2: DFS will take the optimal path, Offtask-Dyna will take the long path"
   ]
  },
  {
   "cell_type": "code",
   "execution_count": 54,
   "id": "0960f12f-e400-49b5-8f19-c1936fbb662e",
   "metadata": {},
   "outputs": [
    {
     "name": "stderr",
     "output_type": "stream",
     "text": [
      "/tmp/ipykernel_2270999/3537544777.py:47: UserWarning: set_ticklabels() should only be used with a fixed number of ticks, i.e. after set_ticks() or using a FixedLocator.\n",
      "  ax.set_xticklabels(names, ha='right', fontsize=xlabel_fontsize)\n",
      "/tmp/ipykernel_2270999/3537544777.py:47: UserWarning: set_ticklabels() should only be used with a fixed number of ticks, i.e. after set_ticks() or using a FixedLocator.\n",
      "  ax.set_xticklabels(names, ha='right', fontsize=xlabel_fontsize)\n",
      "/tmp/ipykernel_2270999/3537544777.py:47: UserWarning: set_ticklabels() should only be used with a fixed number of ticks, i.e. after set_ticks() or using a FixedLocator.\n",
      "  ax.set_xticklabels(names, ha='right', fontsize=xlabel_fontsize)\n",
      "/tmp/ipykernel_2270999/3537544777.py:47: UserWarning: set_ticklabels() should only be used with a fixed number of ticks, i.e. after set_ticks() or using a FixedLocator.\n",
      "  ax.set_xticklabels(names, ha='right', fontsize=xlabel_fontsize)\n",
      "/tmp/ipykernel_2270999/3537544777.py:47: UserWarning: set_ticklabels() should only be used with a fixed number of ticks, i.e. after set_ticks() or using a FixedLocator.\n",
      "  ax.set_xticklabels(names, ha='right', fontsize=xlabel_fontsize)\n",
      "/tmp/ipykernel_2270999/3537544777.py:47: UserWarning: set_ticklabels() should only be used with a fixed number of ticks, i.e. after set_ticks() or using a FixedLocator.\n",
      "  ax.set_xticklabels(names, ha='right', fontsize=xlabel_fontsize)\n"
     ]
    },
    {
     "data": {
      "image/png": "[encoded data removed]",
      "text/plain": [
       "<Figure size 900x900 with 9 Axes>"
      ]
     },
     "metadata": {},
     "output_type": "display_data"
    }
   ],
   "source": [
    "import matplotlib.pyplot as plt\n",
    "import numpy as np\n",
    "import jax\n",
    "from collections import OrderedDict\n",
    "\n",
    "\n",
    "def render_env(env_params, ax):\n",
    "    map_init = jax.tree_map(lambda x:x[0], env_params.reset_params.map_init)\n",
    "    grid = np.asarray(map_init.grid)    \n",
    "    img = renderer.create_image_from_grid(\n",
    "        map_init.grid,\n",
    "        map_init.agent_pos,\n",
    "        map_init.agent_dir,\n",
    "        image_dict)\n",
    "    ax.imshow(img)\n",
    "    ax.set_xticks([])\n",
    "    ax.set_yticks([])\n",
    "\n",
    "def get(key, val):\n",
    "    data = df[(df['key'] == key)][val]\n",
    "    # Filter out inf and nan values\n",
    "    finite_data = data[np.isfinite(data)]\n",
    "    if len(finite_data) > 0:\n",
    "        mean = finite_data.mean()\n",
    "        std = finite_data.std()/np.sqrt(len(finite_data))\n",
    "    else:\n",
    "        mean = 0\n",
    "        std = 0\n",
    "    return mean, std\n",
    "\n",
    "def create_bar_plot(ax, data_dict, ylabel='Success Rates', title='', color_dict=None, hatches_dict=None, title_fontsize=12, ylabel_fontsize=10, xlabel_fontsize=10):\n",
    "    names = list(data_dict.keys())\n",
    "    values = [v[0] for v in data_dict.values()]  # Means\n",
    "    errors = [v[1] for v in data_dict.values()]  # Standard deviations\n",
    "    \n",
    "    colors = [color_dict[name.split('_')[0]] for name in names] if color_dict else None\n",
    "    hatches = [hatches_dict.get(name, '') for name in names] if hatches_dict else None\n",
    "    \n",
    "    bars = ax.bar(names, values, yerr=errors, capsize=5, color=colors)\n",
    "    \n",
    "    # Apply hatches after creating bars\n",
    "    for bar, hatch in zip(bars, hatches):\n",
    "        bar.set_hatch(hatch)\n",
    "    \n",
    "    ax.set_ylabel(ylabel, fontsize=ylabel_fontsize)\n",
    "    ax.tick_params(axis='x', rotation=45)\n",
    "    ax.set_xticklabels(names, ha='right', fontsize=xlabel_fontsize)\n",
    "    ax.tick_params(axis='y')\n",
    "\n",
    "def create_complete_figure(maze_list, show_metrics='both', base_height=3, base_width=3, title_fontsize=12, ylabel_fontsize=10, xlabel_fontsize=10):\n",
    "    n_mazes = len(maze_list)\n",
    "    \n",
    "    if show_metrics == 'both':\n",
    "        n_rows = 3\n",
    "    else:\n",
    "        n_rows = 2\n",
    "    \n",
    "    fig, axs = plt.subplots(n_rows, n_mazes, figsize=(base_width*n_mazes, base_height*n_rows))\n",
    "    \n",
    "    color_dict = {\n",
    "        'Q': '#1f77b4',  # blue\n",
    "        'Offtask-Dyna': '#ff7f0e',  # orange\n",
    "        'BFS': '#2ca02c',  # green\n",
    "        'BFS_load': '#2ca02c',  # green\n",
    "        'DFS': '#d62728',  # red\n",
    "        'DFS_load': '#d62728',  # red\n",
    "    }\n",
    "    hatches_dict = {\n",
    "        'BFS_load': '///',\n",
    "        'DFS_load': '///'\n",
    "    }\n",
    "    y_min = {1: float('inf'), 2: float('inf')}\n",
    "    y_max = {1: float('-inf'), 2: float('-inf')}\n",
    "    # First pass: calculate global y-limits for each row\n",
    "    for i, maze in enumerate(maze_list):\n",
    "        if show_metrics in ['sr', 'both']:\n",
    "            data_sr = {\n",
    "                'Q': get(f'qlearning_{maze}_train=False', 'sr'),\n",
    "                'Offtask-Dyna': get(f'dynaq_shared_{maze}_train=True', 'sr'),\n",
    "                'BFS': get(f'bfs_{maze}_1000_train=False', 'sr'),\n",
    "                'BFS_load': get(f'bfs_{maze}_150_train=False', 'sr'),\n",
    "                'DFS': get(f'dfs_{maze}_1000_train=False', 'sr'),\n",
    "                'DFS_load': get(f'dfs_{maze}_150_train=False', 'sr'),\n",
    "            }\n",
    "            sr_row = 1 if show_metrics == 'both' else 1\n",
    "            values = [v[0] for v in data_sr.values()]\n",
    "            errors = [v[1] for v in data_sr.values()]\n",
    "            y_min[sr_row] = min(y_min[sr_row], min(v - e for v, e in zip(values, errors)))\n",
    "            y_max[sr_row] = max(y_max[sr_row], max(v + e for v, e in zip(values, errors)))\n",
    "        \n",
    "        if show_metrics in ['pl', 'both']:\n",
    "            data_pl = {\n",
    "                'Q': get(f'qlearning_{maze}_train=False', 'pl'),\n",
    "                'Offtask-Dyna': get(f'dynaq_shared_{maze}_train=True', 'pl'),\n",
    "                'BFS': get(f'bfs_{maze}_1000_train=False', 'pl'),\n",
    "                'BFS_load': get(f'bfs_{maze}_150_train=False', 'pl'),\n",
    "                'DFS': get(f'dfs_{maze}_1000_train=False', 'pl'),\n",
    "                'DFS_load': get(f'dfs_{maze}_150_train=False', 'pl'),\n",
    "            }\n",
    "            pl_row = 2 if show_metrics == 'both' else 1\n",
    "            values = [v[0] for v in data_pl.values()]\n",
    "            errors = [v[1] for v in data_pl.values()]\n",
    "            y_min[pl_row] = min(y_min[pl_row], min(v - e for v, e in zip(values, errors)))\n",
    "            y_max[pl_row] = max(y_max[pl_row], max(v + e for v, e in zip(values, errors)))\n",
    "    \n",
    "    for i, maze in enumerate(maze_list):\n",
    "        # Render maze\n",
    "        render_env(get_params(getattr(mazes, maze)), axs[0, i])\n",
    "        axs[0, i].set_title(maze_list[maze], fontsize=title_fontsize)\n",
    "        \n",
    "        if show_metrics in ['sr', 'both']:\n",
    "            # Plot success rate\n",
    "            data_sr = {\n",
    "                'Q': get(f'qlearning_{maze}_train=False', 'sr'),\n",
    "                'Offtask-Dyna': get(f'dynaq_shared_{maze}_train=True', 'sr'),\n",
    "                'BFS': get(f'bfs_{maze}_1000_train=False', 'sr'),\n",
    "                'BFS_load': get(f'bfs_{maze}_150_train=False', 'sr'),\n",
    "                'DFS': get(f'dfs_{maze}_1000_train=False', 'sr'),\n",
    "                'DFS_load': get(f'dfs_{maze}_150_train=False', 'sr'),\n",
    "            }\n",
    "            sr_row = 1 if show_metrics == 'both' else 1\n",
    "            create_bar_plot(\n",
    "                axs[sr_row, i],\n",
    "                data_dict=data_sr,\n",
    "                # title=f'{maze}',\n",
    "                color_dict=color_dict,\n",
    "                hatches_dict=hatches_dict,\n",
    "                ylabel='Success Rate',\n",
    "                title_fontsize=title_fontsize,\n",
    "                ylabel_fontsize=ylabel_fontsize,\n",
    "                xlabel_fontsize=xlabel_fontsize,\n",
    "            )\n",
    "            axs[sr_row, i].set_ylim(y_min[sr_row], int(1.1*y_max[sr_row]))\n",
    "        \n",
    "        if show_metrics in ['pl', 'both']:\n",
    "            # Plot path length\n",
    "            data_pl = {\n",
    "                'Q': get(f'qlearning_{maze}_train=False', 'pl'),\n",
    "                'Offtask-Dyna': get(f'dynaq_shared_{maze}_train=True', 'pl'),\n",
    "                'BFS': get(f'bfs_{maze}_1000_train=False', 'pl'),\n",
    "                'BFS_load': get(f'bfs_{maze}_150_train=False', 'pl'),\n",
    "                'DFS': get(f'dfs_{maze}_1000_train=False', 'pl'),\n",
    "                'DFS_load': get(f'dfs_{maze}_150_train=False', 'pl'),\n",
    "            }\n",
    "            pl_row = 2 if show_metrics == 'both' else 1\n",
    "            create_bar_plot(\n",
    "                axs[pl_row, i],\n",
    "                data_dict=data_pl,\n",
    "                # title=f'{maze}',\n",
    "                color_dict=color_dict,\n",
    "                hatches_dict=hatches_dict,\n",
    "                ylabel='Path Length',\n",
    "                ylabel_fontsize=ylabel_fontsize,\n",
    "                xlabel_fontsize=xlabel_fontsize,\n",
    "            )\n",
    "            axs[pl_row, i].set_ylim(y_min[pl_row], int(y_max[pl_row]*1.1))\n",
    "    \n",
    "    plt.tight_layout()\n",
    "    plt.show()\n",
    "\n",
    "\n",
    "# Example usage\n",
    "maze_list = OrderedDict(\n",
    "    maze3='Train maze',\n",
    "    maze3_open='Shortcut\\nintroduced',\n",
    "    maze3_open2='Less obvious\\nShortcut',\n",
    ")\n",
    "# Show both success rate and path length\n",
    "title_fontsize=14\n",
    "ylabel_fontsize=12\n",
    "xlabel_fontsize=10\n",
    "create_complete_figure(\n",
    "    maze_list, show_metrics='both',\n",
    "    base_height=3,\n",
    "    base_width=3,\n",
    "    title_fontsize=title_fontsize,\n",
    "    ylabel_fontsize=ylabel_fontsize,\n",
    "    xlabel_fontsize=xlabel_fontsize,\n",
    "  )\n",
    "# Show only success rate\n",
    "# create_complete_figure(maze_list, show_metrics='sr')\n",
    "# Show only path length\n",
    "# create_complete_figure(maze_list, show_metrics='pl', title_fontsize=title_fontsize, label_fontsize=label_fontsize)"
   ]
  },
  {
   "cell_type": "markdown",
   "id": "f6c23354-6093-4e50-82dc-b9378c80f549",
   "metadata": {},
   "source": [
    "# Visualizing models"
   ]
  },
  {
   "cell_type": "code",
   "execution_count": 57,
   "id": "6b561cad-f7fb-4556-806b-70a05261ae94",
   "metadata": {},
   "outputs": [
    {
     "data": {
      "image/png": "[encoded data removed]",
      "text/plain": [
       "<Figure size 500x500 with 1 Axes>"
      ]
     },
     "metadata": {},
     "output_type": "display_data"
    }
   ],
   "source": [
    "def render_model_path(traj, ep_idx = 0, ax=None):\n",
    "    # get actions that are in episode\n",
    "    in_episode = housemaze_analysis.get_in_episode(traj.timestep)[ep_idx]\n",
    "    actions = traj.action[ep_idx][in_episode][:-1]\n",
    "    # positions in episode\n",
    "    positions = jax.tree_map(lambda x: x[ep_idx][in_episode][:-1], traj.timestep.state.agent_pos)\n",
    "\n",
    "    state_0 = jax.tree_map(lambda x: x[ep_idx, 0], traj.timestep.state)\n",
    "    \n",
    "    # doesn't matter\n",
    "    maze_height, maze_width, _ = traj.timestep.state.grid[0,0].shape\n",
    "    \n",
    "    fig, ax = plt.subplots(1, figsize=(5, 5))\n",
    "    img = housemaze_render_fn(state_0)\n",
    "    renderer.place_arrows_on_image(img, positions, actions, maze_height, maze_width, arrow_scale=5, ax=ax)\n",
    "\n",
    "maze_str = 'maze3_open2'\n",
    "render_model_path(results[f'dynaq_shared_{maze_str}_train=False'])"
   ]
  },
  {
   "cell_type": "code",
   "execution_count": 56,
   "id": "41e78771-96f8-40d9-8341-7305858235a9",
   "metadata": {},
   "outputs": [
    {
     "name": "stdout",
     "output_type": "stream",
     "text": [
      "[1784718894 3813648515]\n",
      "[3718552407 3488017191]\n",
      "103\n"
     ]
    },
    {
     "data": {
      "image/png": "[encoded data removed]",
      "text/plain": [
       "<Figure size 500x500 with 1 Axes>"
      ]
     },
     "metadata": {},
     "output_type": "display_data"
    }
   ],
   "source": [
    "def collect_search_success(env_params, algo, budget=150, seed=0):\n",
    "    objs = env_params.reset_params.test_objects\n",
    "\n",
    "    map_init = jax.tree_map(lambda x:x[0], env_params.reset_params.map_init)\n",
    "    grid = np.asarray(map_init.grid)\n",
    "    agent_pos = tuple(int(o) for o in map_init.agent_pos)\n",
    "\n",
    "    path = None\n",
    "    o = objs[0]\n",
    "    goal = np.array([o])\n",
    "    rng = jax.random.PRNGKey(seed)\n",
    "    while path is None:\n",
    "        rng, rng_ = jax.random.split(rng)\n",
    "        print(rng_)\n",
    "        path, iterations = algo(grid, agent_pos, goal, key=rng_, budget=budget)\n",
    "    print(iterations)\n",
    "    return path\n",
    "\n",
    "def render_search_path(positions, env_params):\n",
    "    map_init = jax.tree_map(lambda x:x[0], env_params.reset_params.map_init)\n",
    "    grid = np.asarray(map_init.grid)    \n",
    "    actions = utils.actions_from_path(positions)\n",
    "    \n",
    "    # doesn't matter\n",
    "    maze_height, maze_width, _ = grid.shape\n",
    "    \n",
    "    img = renderer.create_image_from_grid(\n",
    "        map_init.grid,\n",
    "        map_init.agent_pos,\n",
    "        map_init.agent_dir,\n",
    "        image_dict)\n",
    "    renderer.place_arrows_on_image(img, positions, actions, maze_height, maze_width)\n",
    "\n",
    "maze_str = 'maze3_open2'\n",
    "env_params = get_params(getattr(mazes, maze_str))\n",
    "budget = 150\n",
    "path = collect_search_success(env_params=env_params, algo=utils.dfs, budget=budget, seed=5)\n",
    "render_search_path(path, env_params)"
   ]
  },
  {
   "cell_type": "markdown",
   "id": "c5a370a0-6606-4c9b-b466-162834c2cca0",
   "metadata": {
    "tags": []
   },
   "source": [
    "### Signature 3: the agent from a __further__ \"on path\" location will be faster than __closeer__ \"off opath\""
   ]
  },
  {
   "cell_type": "code",
   "execution_count": 58,
   "id": "61eed269-7af7-441c-9662-e8849d6eec6b",
   "metadata": {},
   "outputs": [
    {
     "name": "stderr",
     "output_type": "stream",
     "text": [
      "/tmp/ipykernel_2270999/3537544777.py:47: UserWarning: set_ticklabels() should only be used with a fixed number of ticks, i.e. after set_ticks() or using a FixedLocator.\n",
      "  ax.set_xticklabels(names, ha='right', fontsize=xlabel_fontsize)\n",
      "/tmp/ipykernel_2270999/3537544777.py:47: UserWarning: set_ticklabels() should only be used with a fixed number of ticks, i.e. after set_ticks() or using a FixedLocator.\n",
      "  ax.set_xticklabels(names, ha='right', fontsize=xlabel_fontsize)\n",
      "/tmp/ipykernel_2270999/3537544777.py:47: UserWarning: set_ticklabels() should only be used with a fixed number of ticks, i.e. after set_ticks() or using a FixedLocator.\n",
      "  ax.set_xticklabels(names, ha='right', fontsize=xlabel_fontsize)\n",
      "/tmp/ipykernel_2270999/3537544777.py:47: UserWarning: set_ticklabels() should only be used with a fixed number of ticks, i.e. after set_ticks() or using a FixedLocator.\n",
      "  ax.set_xticklabels(names, ha='right', fontsize=xlabel_fontsize)\n",
      "/tmp/ipykernel_2270999/3537544777.py:47: UserWarning: set_ticklabels() should only be used with a fixed number of ticks, i.e. after set_ticks() or using a FixedLocator.\n",
      "  ax.set_xticklabels(names, ha='right', fontsize=xlabel_fontsize)\n",
      "/tmp/ipykernel_2270999/3537544777.py:47: UserWarning: set_ticklabels() should only be used with a fixed number of ticks, i.e. after set_ticks() or using a FixedLocator.\n",
      "  ax.set_xticklabels(names, ha='right', fontsize=xlabel_fontsize)\n",
      "/tmp/ipykernel_2270999/3537544777.py:47: UserWarning: set_ticklabels() should only be used with a fixed number of ticks, i.e. after set_ticks() or using a FixedLocator.\n",
      "  ax.set_xticklabels(names, ha='right', fontsize=xlabel_fontsize)\n",
      "/tmp/ipykernel_2270999/3537544777.py:47: UserWarning: set_ticklabels() should only be used with a fixed number of ticks, i.e. after set_ticks() or using a FixedLocator.\n",
      "  ax.set_xticklabels(names, ha='right', fontsize=xlabel_fontsize)\n"
     ]
    },
    {
     "data": {
      "image/png": "[encoded data removed]",
      "text/plain": [
       "<Figure size 1200x900 with 12 Axes>"
      ]
     },
     "metadata": {},
     "output_type": "display_data"
    }
   ],
   "source": [
    "maze_list = ['maze3', 'maze3_onpath', 'maze3_onpath_shortcut', 'maze3_offpath_shortcut']\n",
    "maze_list = OrderedDict(\n",
    "    maze3='Train maze',\n",
    "    maze3_onpath=\"\\n\".join(['Same Map', 'New location', 'On Path']),\n",
    "    maze3_onpath_shortcut=\"\\n\".join(['Changed Map', 'New location', 'On Path']),\n",
    "    maze3_offpath_shortcut=\"\\n\".join(['Changed Map', 'New location', 'Off Path']),\n",
    ")\n",
    "create_complete_figure(maze_list, show_metrics='both')\n",
    "# create_complete_figure(maze_list, show_metrics='pl')"
   ]
  },
  {
   "cell_type": "code",
   "execution_count": 60,
   "id": "86155645-84e0-49b9-9fe6-ae936a306c59",
   "metadata": {},
   "outputs": [
    {
     "data": {
      "image/png": "[encoded data removed]",
      "text/plain": [
       "<Figure size 500x500 with 1 Axes>"
      ]
     },
     "metadata": {},
     "output_type": "display_data"
    },
    {
     "data": {
      "image/png": "[encoded data removed]",
      "text/plain": [
       "<Figure size 500x500 with 1 Axes>"
      ]
     },
     "metadata": {},
     "output_type": "display_data"
    }
   ],
   "source": [
    "maze_str='maze3_offpath_shortcut'\n",
    "render_model_path(results[f'dynaq_shared_{maze_str}_train=True'])\n",
    "render_model_path(results[f'dynaq_shared_{maze_str}_train=False'])"
   ]
  },
  {
   "cell_type": "code",
   "execution_count": 61,
   "id": "3db30f19-0e52-4ed8-a9d2-26fffeb38bb7",
   "metadata": {},
   "outputs": [
    {
     "data": {
      "image/png": "[encoded data removed]",
      "text/plain": [
       "<Figure size 500x500 with 1 Axes>"
      ]
     },
     "metadata": {},
     "output_type": "display_data"
    },
    {
     "data": {
      "image/png": "[encoded data removed]",
      "text/plain": [
       "<Figure size 500x500 with 1 Axes>"
      ]
     },
     "metadata": {},
     "output_type": "display_data"
    }
   ],
   "source": [
    "render_model_path(results[f'qlearning_{maze_str}_train=True'])\n",
    "render_model_path(results[f'qlearning_{maze_str}_train=False'])"
   ]
  },
  {
   "cell_type": "code",
   "execution_count": null,
   "id": "1c8b075c-cb9d-4631-a2e1-048589c38045",
   "metadata": {},
   "outputs": [],
   "source": []
  }
 ],
 "metadata": {
  "kernelspec": {
   "display_name": "Python 3 (ipykernel)",
   "language": "python",
   "name": "python3"
  },
  "language_info": {
   "codemirror_mode": {
    "name": "ipython",
    "version": 3
   },
   "file_extension": ".py",
   "mimetype": "text/x-python",
   "name": "python",
   "nbconvert_exporter": "python",
   "pygments_lexer": "ipython3",
   "version": "3.10.0"
  }
 },
 "nbformat": 4,
 "nbformat_minor": 5
}
